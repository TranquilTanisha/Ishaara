{
 "cells": [
  {
   "cell_type": "code",
   "execution_count": 117,
   "metadata": {},
   "outputs": [],
   "source": [
    "import numpy as np\n",
    "import pandas as pd\n",
    "import json"
   ]
  },
  {
   "cell_type": "code",
   "execution_count": 118,
   "metadata": {},
   "outputs": [
    {
     "data": {
      "text/plain": [
       "{'Boy': 0,\n",
       " 'Can': 1,\n",
       " 'Eat': 2,\n",
       " 'Fine': 3,\n",
       " 'Girl': 4,\n",
       " 'Help': 5,\n",
       " 'How': 6,\n",
       " 'Hungry': 7,\n",
       " 'I': 8,\n",
       " 'Mother': 9,\n",
       " 'Namaste': 10,\n",
       " 'Name': 11,\n",
       " 'Parents': 12,\n",
       " 'Sister': 13,\n",
       " 'Sleep': 14,\n",
       " 'This': 15,\n",
       " 'You': 16}"
      ]
     },
     "execution_count": 118,
     "metadata": {},
     "output_type": "execute_result"
    }
   ],
   "source": [
    "with open('data.json', 'r') as f:\n",
    "    labels = json.load(f)\n",
    "labels"
   ]
  },
  {
   "cell_type": "code",
   "execution_count": 119,
   "metadata": {},
   "outputs": [
    {
     "data": {
      "text/html": [
       "<div>\n",
       "<style scoped>\n",
       "    .dataframe tbody tr th:only-of-type {\n",
       "        vertical-align: middle;\n",
       "    }\n",
       "\n",
       "    .dataframe tbody tr th {\n",
       "        vertical-align: top;\n",
       "    }\n",
       "\n",
       "    .dataframe thead th {\n",
       "        text-align: right;\n",
       "    }\n",
       "</style>\n",
       "<table border=\"1\" class=\"dataframe\">\n",
       "  <thead>\n",
       "    <tr style=\"text-align: right;\">\n",
       "      <th></th>\n",
       "      <th>Class Label</th>\n",
       "      <th>X0001</th>\n",
       "      <th>Y0001</th>\n",
       "      <th>Z0001</th>\n",
       "      <th>X0101</th>\n",
       "      <th>Y0101</th>\n",
       "      <th>Z0101</th>\n",
       "      <th>X0201</th>\n",
       "      <th>Y0201</th>\n",
       "      <th>Z0201</th>\n",
       "      <th>...</th>\n",
       "      <th>Z6220</th>\n",
       "      <th>X6320</th>\n",
       "      <th>Y6320</th>\n",
       "      <th>Z6320</th>\n",
       "      <th>X6420</th>\n",
       "      <th>Y6420</th>\n",
       "      <th>Z6420</th>\n",
       "      <th>X6520</th>\n",
       "      <th>Y6520</th>\n",
       "      <th>Z6520</th>\n",
       "    </tr>\n",
       "  </thead>\n",
       "  <tbody>\n",
       "    <tr>\n",
       "      <th>0</th>\n",
       "      <td>Boy</td>\n",
       "      <td>-0.290488</td>\n",
       "      <td>-75.818914</td>\n",
       "      <td>-3.229877</td>\n",
       "      <td>-0.166410</td>\n",
       "      <td>-77.328566</td>\n",
       "      <td>-3.061451</td>\n",
       "      <td>-0.098528</td>\n",
       "      <td>-82.594196</td>\n",
       "      <td>-2.995450</td>\n",
       "      <td>...</td>\n",
       "      <td>-0.789076</td>\n",
       "      <td>0.607418</td>\n",
       "      <td>0.957875</td>\n",
       "      <td>-0.403516</td>\n",
       "      <td>0.299876</td>\n",
       "      <td>0.551094</td>\n",
       "      <td>-0.700673</td>\n",
       "      <td>0.556823</td>\n",
       "      <td>0.893926</td>\n",
       "      <td>-0.055159</td>\n",
       "    </tr>\n",
       "    <tr>\n",
       "      <th>1</th>\n",
       "      <td>Boy</td>\n",
       "      <td>-1.142780</td>\n",
       "      <td>-504.405201</td>\n",
       "      <td>-11.642699</td>\n",
       "      <td>-1.142780</td>\n",
       "      <td>-504.405201</td>\n",
       "      <td>-11.642699</td>\n",
       "      <td>-1.142780</td>\n",
       "      <td>-504.405201</td>\n",
       "      <td>-11.642699</td>\n",
       "      <td>...</td>\n",
       "      <td>-0.303101</td>\n",
       "      <td>0.853242</td>\n",
       "      <td>0.551130</td>\n",
       "      <td>-0.508979</td>\n",
       "      <td>0.312054</td>\n",
       "      <td>0.981356</td>\n",
       "      <td>-0.225069</td>\n",
       "      <td>0.598794</td>\n",
       "      <td>0.899667</td>\n",
       "      <td>0.023955</td>\n",
       "    </tr>\n",
       "    <tr>\n",
       "      <th>2</th>\n",
       "      <td>Boy</td>\n",
       "      <td>-1.068371</td>\n",
       "      <td>130.701614</td>\n",
       "      <td>9.520099</td>\n",
       "      <td>-1.068371</td>\n",
       "      <td>130.701614</td>\n",
       "      <td>9.520099</td>\n",
       "      <td>-1.068371</td>\n",
       "      <td>130.701614</td>\n",
       "      <td>9.520099</td>\n",
       "      <td>...</td>\n",
       "      <td>-0.360270</td>\n",
       "      <td>0.853557</td>\n",
       "      <td>0.546488</td>\n",
       "      <td>-0.445940</td>\n",
       "      <td>0.312178</td>\n",
       "      <td>0.975818</td>\n",
       "      <td>-0.276978</td>\n",
       "      <td>0.599459</td>\n",
       "      <td>0.901850</td>\n",
       "      <td>0.024480</td>\n",
       "    </tr>\n",
       "    <tr>\n",
       "      <th>3</th>\n",
       "      <td>Boy</td>\n",
       "      <td>-0.229189</td>\n",
       "      <td>-728.344904</td>\n",
       "      <td>-10.610774</td>\n",
       "      <td>-0.111319</td>\n",
       "      <td>-760.483651</td>\n",
       "      <td>-9.444202</td>\n",
       "      <td>-0.050989</td>\n",
       "      <td>-814.690937</td>\n",
       "      <td>-8.885182</td>\n",
       "      <td>...</td>\n",
       "      <td>-1.450281</td>\n",
       "      <td>0.686321</td>\n",
       "      <td>0.983726</td>\n",
       "      <td>-0.696741</td>\n",
       "      <td>0.151945</td>\n",
       "      <td>0.553058</td>\n",
       "      <td>-1.307723</td>\n",
       "      <td>0.605042</td>\n",
       "      <td>0.889703</td>\n",
       "      <td>-0.100882</td>\n",
       "    </tr>\n",
       "    <tr>\n",
       "      <th>4</th>\n",
       "      <td>Boy</td>\n",
       "      <td>-0.876114</td>\n",
       "      <td>-24.004894</td>\n",
       "      <td>1.529031</td>\n",
       "      <td>-0.800043</td>\n",
       "      <td>-21.179765</td>\n",
       "      <td>1.634938</td>\n",
       "      <td>-0.749626</td>\n",
       "      <td>-17.375034</td>\n",
       "      <td>1.698469</td>\n",
       "      <td>...</td>\n",
       "      <td>-0.419257</td>\n",
       "      <td>0.596819</td>\n",
       "      <td>0.970013</td>\n",
       "      <td>-0.363273</td>\n",
       "      <td>0.386495</td>\n",
       "      <td>0.966971</td>\n",
       "      <td>-0.328736</td>\n",
       "      <td>0.544566</td>\n",
       "      <td>0.908291</td>\n",
       "      <td>-0.058046</td>\n",
       "    </tr>\n",
       "  </tbody>\n",
       "</table>\n",
       "<p>5 rows × 3961 columns</p>\n",
       "</div>"
      ],
      "text/plain": [
       "  Class Label     X0001       Y0001      Z0001     X0101       Y0101  \\\n",
       "0         Boy -0.290488  -75.818914  -3.229877 -0.166410  -77.328566   \n",
       "1         Boy -1.142780 -504.405201 -11.642699 -1.142780 -504.405201   \n",
       "2         Boy -1.068371  130.701614   9.520099 -1.068371  130.701614   \n",
       "3         Boy -0.229189 -728.344904 -10.610774 -0.111319 -760.483651   \n",
       "4         Boy -0.876114  -24.004894   1.529031 -0.800043  -21.179765   \n",
       "\n",
       "       Z0101     X0201       Y0201      Z0201  ...     Z6220     X6320  \\\n",
       "0  -3.061451 -0.098528  -82.594196  -2.995450  ... -0.789076  0.607418   \n",
       "1 -11.642699 -1.142780 -504.405201 -11.642699  ... -0.303101  0.853242   \n",
       "2   9.520099 -1.068371  130.701614   9.520099  ... -0.360270  0.853557   \n",
       "3  -9.444202 -0.050989 -814.690937  -8.885182  ... -1.450281  0.686321   \n",
       "4   1.634938 -0.749626  -17.375034   1.698469  ... -0.419257  0.596819   \n",
       "\n",
       "      Y6320     Z6320     X6420     Y6420     Z6420     X6520     Y6520  \\\n",
       "0  0.957875 -0.403516  0.299876  0.551094 -0.700673  0.556823  0.893926   \n",
       "1  0.551130 -0.508979  0.312054  0.981356 -0.225069  0.598794  0.899667   \n",
       "2  0.546488 -0.445940  0.312178  0.975818 -0.276978  0.599459  0.901850   \n",
       "3  0.983726 -0.696741  0.151945  0.553058 -1.307723  0.605042  0.889703   \n",
       "4  0.970013 -0.363273  0.386495  0.966971 -0.328736  0.544566  0.908291   \n",
       "\n",
       "      Z6520  \n",
       "0 -0.055159  \n",
       "1  0.023955  \n",
       "2  0.024480  \n",
       "3 -0.100882  \n",
       "4 -0.058046  \n",
       "\n",
       "[5 rows x 3961 columns]"
      ]
     },
     "execution_count": 119,
     "metadata": {},
     "output_type": "execute_result"
    }
   ],
   "source": [
    "data=pd.read_csv('dataset.csv')\n",
    "data.head()"
   ]
  },
  {
   "cell_type": "code",
   "execution_count": 120,
   "metadata": {},
   "outputs": [
    {
     "data": {
      "text/plain": [
       "0      Boy\n",
       "1      Boy\n",
       "2      Boy\n",
       "3      Boy\n",
       "4      Boy\n",
       "      ... \n",
       "717    You\n",
       "718    You\n",
       "719    You\n",
       "720    You\n",
       "721    You\n",
       "Name: Class Label, Length: 722, dtype: object"
      ]
     },
     "execution_count": 120,
     "metadata": {},
     "output_type": "execute_result"
    }
   ],
   "source": [
    "Y = data['Class Label']\n",
    "Y"
   ]
  },
  {
   "cell_type": "code",
   "execution_count": 121,
   "metadata": {},
   "outputs": [
    {
     "data": {
      "text/plain": [
       "pandas.core.series.Series"
      ]
     },
     "execution_count": 121,
     "metadata": {},
     "output_type": "execute_result"
    }
   ],
   "source": [
    "Y = Y.map(labels)\n",
    "type(Y)"
   ]
  },
  {
   "cell_type": "code",
   "execution_count": 122,
   "metadata": {},
   "outputs": [
    {
     "data": {
      "text/plain": [
       "array([ 0,  0,  0,  0,  0,  0,  0,  0,  0,  0,  0,  0,  0,  0,  0,  0,  0,\n",
       "        0,  0,  0,  0,  0,  0,  0,  0,  0,  0,  0,  0,  0,  0,  0,  0,  0,\n",
       "        0,  0,  0,  0,  0,  0,  0,  0,  0,  0,  0,  0,  0,  0,  0,  0,  0,\n",
       "        0,  1,  1,  1,  1,  1,  1,  1,  1,  1,  1,  1,  1,  1,  1,  1,  1,\n",
       "        1,  1,  1,  1,  1,  1,  1,  1,  1,  1,  1,  1,  1,  1,  1,  1,  1,\n",
       "        1,  1,  1,  1,  1,  1,  1,  1,  1,  1,  1,  1,  1,  1,  2,  2,  2,\n",
       "        2,  2,  2,  2,  2,  2,  2,  2,  2,  2,  2,  2,  2,  2,  2,  2,  2,\n",
       "        2,  2,  2,  2,  2,  2,  2,  2,  2,  2,  2,  2,  2,  2,  2,  2,  2,\n",
       "        2,  2,  2,  3,  3,  3,  3,  3,  3,  3,  3,  3,  3,  3,  3,  3,  3,\n",
       "        3,  3,  3,  3,  3,  3,  3,  3,  3,  3,  3,  3,  3,  3,  3,  3,  3,\n",
       "        3,  3,  3,  3,  3,  3,  3,  3,  3,  3,  3,  3,  3,  4,  4,  4,  4,\n",
       "        4,  4,  4,  4,  4,  4,  4,  4,  4,  4,  4,  4,  4,  4,  4,  4,  4,\n",
       "        4,  4,  4,  4,  4,  4,  4,  4,  4,  4,  4,  4,  4,  4,  4,  5,  5,\n",
       "        5,  5,  5,  5,  5,  5,  5,  5,  5,  5,  5,  5,  5,  5,  5,  5,  5,\n",
       "        5,  5,  5,  5,  5,  5,  5,  5,  5,  5,  5,  5,  5,  5,  5,  5,  5,\n",
       "        5,  5,  5,  5,  5,  5,  5,  5,  6,  6,  6,  6,  6,  6,  6,  6,  6,\n",
       "        6,  6,  6,  6,  6,  6,  6,  6,  6,  6,  6,  6,  6,  6,  6,  6,  6,\n",
       "        6,  6,  6,  6,  6,  6,  6,  6,  6,  6,  6,  6,  6,  6,  6,  6,  6,\n",
       "        6,  6,  6,  6,  7,  7,  7,  7,  7,  7,  7,  7,  7,  7,  7,  7,  7,\n",
       "        7,  7,  7,  7,  7,  7,  7,  7,  7,  7,  7,  7,  7,  7,  7,  7,  7,\n",
       "        7,  7,  7,  7,  7,  7,  7,  7,  7,  7,  7,  7,  7,  7,  8,  8,  8,\n",
       "        8,  8,  8,  8,  8,  8,  8,  8,  8,  8,  8,  8,  8,  8,  8,  8,  8,\n",
       "        8,  8,  8,  8,  8,  8,  8,  8,  8,  8,  8,  8,  8,  8,  8,  8,  9,\n",
       "        9,  9,  9,  9,  9,  9,  9,  9,  9,  9,  9,  9,  9,  9,  9,  9,  9,\n",
       "        9,  9,  9,  9,  9,  9,  9,  9,  9,  9,  9,  9,  9,  9,  9,  9,  9,\n",
       "        9,  9,  9,  9,  9, 10, 10, 10, 10, 10, 10, 10, 10, 10, 10, 10, 10,\n",
       "       10, 10, 10, 10, 10, 10, 10, 10, 10, 10, 10, 10, 10, 10, 10, 10, 10,\n",
       "       10, 11, 11, 11, 11, 11, 11, 11, 11, 11, 11, 11, 11, 11, 11, 11, 11,\n",
       "       11, 11, 11, 11, 11, 11, 11, 11, 11, 11, 11, 11, 11, 11, 11, 11, 11,\n",
       "       11, 11, 11, 11, 11, 11, 11, 11, 11, 11, 11, 12, 12, 12, 12, 12, 12,\n",
       "       12, 12, 12, 12, 12, 12, 12, 12, 12, 12, 12, 12, 12, 12, 12, 12, 12,\n",
       "       12, 12, 12, 12, 12, 12, 12, 12, 12, 12, 12, 12, 12, 12, 12, 12, 12,\n",
       "       12, 12, 12, 12, 13, 13, 13, 13, 13, 13, 13, 13, 13, 13, 13, 13, 13,\n",
       "       13, 13, 13, 14, 14, 14, 14, 14, 14, 14, 14, 14, 14, 14, 14, 14, 14,\n",
       "       14, 14, 14, 14, 14, 14, 14, 14, 14, 14, 14, 14, 14, 14, 14, 14, 14,\n",
       "       14, 14, 14, 14, 14, 14, 14, 14, 14, 14, 14, 14, 14, 15, 15, 15, 15,\n",
       "       15, 15, 15, 15, 15, 15, 15, 15, 15, 15, 15, 15, 15, 15, 15, 15, 15,\n",
       "       15, 15, 15, 15, 15, 15, 15, 15, 15, 15, 15, 15, 15, 15, 15, 15, 15,\n",
       "       15, 15, 15, 15, 15, 15, 15, 15, 15, 15, 16, 16, 16, 16, 16, 16, 16,\n",
       "       16, 16, 16, 16, 16, 16, 16, 16, 16, 16, 16, 16, 16, 16, 16, 16, 16,\n",
       "       16, 16, 16, 16, 16, 16, 16, 16, 16, 16, 16, 16, 16, 16, 16, 16, 16,\n",
       "       16, 16, 16, 16, 16, 16, 16, 16, 16, 16, 16, 16, 16, 16, 16, 16, 16,\n",
       "       16, 16, 16, 16, 16, 16, 16, 16], dtype=int64)"
      ]
     },
     "execution_count": 122,
     "metadata": {},
     "output_type": "execute_result"
    }
   ],
   "source": [
    "# Y=pd.DataFrame(Y)\n",
    "Y=np.array(Y)\n",
    "Y"
   ]
  },
  {
   "cell_type": "code",
   "execution_count": 123,
   "metadata": {},
   "outputs": [],
   "source": [
    "# from tensorflow.keras.utils import to_categorical\n",
    "# Y=to_categorical(Y).astype(int)\n",
    "# Y"
   ]
  },
  {
   "cell_type": "code",
   "execution_count": 124,
   "metadata": {},
   "outputs": [
    {
     "data": {
      "text/plain": [
       "(722,)"
      ]
     },
     "execution_count": 124,
     "metadata": {},
     "output_type": "execute_result"
    }
   ],
   "source": [
    "Y.shape"
   ]
  },
  {
   "cell_type": "code",
   "execution_count": 125,
   "metadata": {},
   "outputs": [
    {
     "data": {
      "text/html": [
       "<div>\n",
       "<style scoped>\n",
       "    .dataframe tbody tr th:only-of-type {\n",
       "        vertical-align: middle;\n",
       "    }\n",
       "\n",
       "    .dataframe tbody tr th {\n",
       "        vertical-align: top;\n",
       "    }\n",
       "\n",
       "    .dataframe thead th {\n",
       "        text-align: right;\n",
       "    }\n",
       "</style>\n",
       "<table border=\"1\" class=\"dataframe\">\n",
       "  <thead>\n",
       "    <tr style=\"text-align: right;\">\n",
       "      <th></th>\n",
       "      <th>X0001</th>\n",
       "      <th>Y0001</th>\n",
       "      <th>Z0001</th>\n",
       "      <th>X0101</th>\n",
       "      <th>Y0101</th>\n",
       "      <th>Z0101</th>\n",
       "      <th>X0201</th>\n",
       "      <th>Y0201</th>\n",
       "      <th>Z0201</th>\n",
       "      <th>X0301</th>\n",
       "      <th>...</th>\n",
       "      <th>Z6220</th>\n",
       "      <th>X6320</th>\n",
       "      <th>Y6320</th>\n",
       "      <th>Z6320</th>\n",
       "      <th>X6420</th>\n",
       "      <th>Y6420</th>\n",
       "      <th>Z6420</th>\n",
       "      <th>X6520</th>\n",
       "      <th>Y6520</th>\n",
       "      <th>Z6520</th>\n",
       "    </tr>\n",
       "  </thead>\n",
       "  <tbody>\n",
       "    <tr>\n",
       "      <th>0</th>\n",
       "      <td>-0.290488</td>\n",
       "      <td>-75.818914</td>\n",
       "      <td>-3.229877</td>\n",
       "      <td>-0.166410</td>\n",
       "      <td>-77.328566</td>\n",
       "      <td>-3.061451</td>\n",
       "      <td>-0.098528</td>\n",
       "      <td>-82.594196</td>\n",
       "      <td>-2.995450</td>\n",
       "      <td>-0.065065</td>\n",
       "      <td>...</td>\n",
       "      <td>-0.789076</td>\n",
       "      <td>0.607418</td>\n",
       "      <td>0.957875</td>\n",
       "      <td>-0.403516</td>\n",
       "      <td>0.299876</td>\n",
       "      <td>0.551094</td>\n",
       "      <td>-0.700673</td>\n",
       "      <td>0.556823</td>\n",
       "      <td>0.893926</td>\n",
       "      <td>-0.055159</td>\n",
       "    </tr>\n",
       "    <tr>\n",
       "      <th>1</th>\n",
       "      <td>-1.142780</td>\n",
       "      <td>-504.405201</td>\n",
       "      <td>-11.642699</td>\n",
       "      <td>-1.142780</td>\n",
       "      <td>-504.405201</td>\n",
       "      <td>-11.642699</td>\n",
       "      <td>-1.142780</td>\n",
       "      <td>-504.405201</td>\n",
       "      <td>-11.642699</td>\n",
       "      <td>-1.142780</td>\n",
       "      <td>...</td>\n",
       "      <td>-0.303101</td>\n",
       "      <td>0.853242</td>\n",
       "      <td>0.551130</td>\n",
       "      <td>-0.508979</td>\n",
       "      <td>0.312054</td>\n",
       "      <td>0.981356</td>\n",
       "      <td>-0.225069</td>\n",
       "      <td>0.598794</td>\n",
       "      <td>0.899667</td>\n",
       "      <td>0.023955</td>\n",
       "    </tr>\n",
       "    <tr>\n",
       "      <th>2</th>\n",
       "      <td>-1.068371</td>\n",
       "      <td>130.701614</td>\n",
       "      <td>9.520099</td>\n",
       "      <td>-1.068371</td>\n",
       "      <td>130.701614</td>\n",
       "      <td>9.520099</td>\n",
       "      <td>-1.068371</td>\n",
       "      <td>130.701614</td>\n",
       "      <td>9.520099</td>\n",
       "      <td>-1.068371</td>\n",
       "      <td>...</td>\n",
       "      <td>-0.360270</td>\n",
       "      <td>0.853557</td>\n",
       "      <td>0.546488</td>\n",
       "      <td>-0.445940</td>\n",
       "      <td>0.312178</td>\n",
       "      <td>0.975818</td>\n",
       "      <td>-0.276978</td>\n",
       "      <td>0.599459</td>\n",
       "      <td>0.901850</td>\n",
       "      <td>0.024480</td>\n",
       "    </tr>\n",
       "    <tr>\n",
       "      <th>3</th>\n",
       "      <td>-0.229189</td>\n",
       "      <td>-728.344904</td>\n",
       "      <td>-10.610774</td>\n",
       "      <td>-0.111319</td>\n",
       "      <td>-760.483651</td>\n",
       "      <td>-9.444202</td>\n",
       "      <td>-0.050989</td>\n",
       "      <td>-814.690937</td>\n",
       "      <td>-8.885182</td>\n",
       "      <td>-0.018511</td>\n",
       "      <td>...</td>\n",
       "      <td>-1.450281</td>\n",
       "      <td>0.686321</td>\n",
       "      <td>0.983726</td>\n",
       "      <td>-0.696741</td>\n",
       "      <td>0.151945</td>\n",
       "      <td>0.553058</td>\n",
       "      <td>-1.307723</td>\n",
       "      <td>0.605042</td>\n",
       "      <td>0.889703</td>\n",
       "      <td>-0.100882</td>\n",
       "    </tr>\n",
       "    <tr>\n",
       "      <th>4</th>\n",
       "      <td>-0.876114</td>\n",
       "      <td>-24.004894</td>\n",
       "      <td>1.529031</td>\n",
       "      <td>-0.800043</td>\n",
       "      <td>-21.179765</td>\n",
       "      <td>1.634938</td>\n",
       "      <td>-0.749626</td>\n",
       "      <td>-17.375034</td>\n",
       "      <td>1.698469</td>\n",
       "      <td>-0.744764</td>\n",
       "      <td>...</td>\n",
       "      <td>-0.419257</td>\n",
       "      <td>0.596819</td>\n",
       "      <td>0.970013</td>\n",
       "      <td>-0.363273</td>\n",
       "      <td>0.386495</td>\n",
       "      <td>0.966971</td>\n",
       "      <td>-0.328736</td>\n",
       "      <td>0.544566</td>\n",
       "      <td>0.908291</td>\n",
       "      <td>-0.058046</td>\n",
       "    </tr>\n",
       "  </tbody>\n",
       "</table>\n",
       "<p>5 rows × 3960 columns</p>\n",
       "</div>"
      ],
      "text/plain": [
       "      X0001       Y0001      Z0001     X0101       Y0101      Z0101     X0201  \\\n",
       "0 -0.290488  -75.818914  -3.229877 -0.166410  -77.328566  -3.061451 -0.098528   \n",
       "1 -1.142780 -504.405201 -11.642699 -1.142780 -504.405201 -11.642699 -1.142780   \n",
       "2 -1.068371  130.701614   9.520099 -1.068371  130.701614   9.520099 -1.068371   \n",
       "3 -0.229189 -728.344904 -10.610774 -0.111319 -760.483651  -9.444202 -0.050989   \n",
       "4 -0.876114  -24.004894   1.529031 -0.800043  -21.179765   1.634938 -0.749626   \n",
       "\n",
       "        Y0201      Z0201     X0301  ...     Z6220     X6320     Y6320  \\\n",
       "0  -82.594196  -2.995450 -0.065065  ... -0.789076  0.607418  0.957875   \n",
       "1 -504.405201 -11.642699 -1.142780  ... -0.303101  0.853242  0.551130   \n",
       "2  130.701614   9.520099 -1.068371  ... -0.360270  0.853557  0.546488   \n",
       "3 -814.690937  -8.885182 -0.018511  ... -1.450281  0.686321  0.983726   \n",
       "4  -17.375034   1.698469 -0.744764  ... -0.419257  0.596819  0.970013   \n",
       "\n",
       "      Z6320     X6420     Y6420     Z6420     X6520     Y6520     Z6520  \n",
       "0 -0.403516  0.299876  0.551094 -0.700673  0.556823  0.893926 -0.055159  \n",
       "1 -0.508979  0.312054  0.981356 -0.225069  0.598794  0.899667  0.023955  \n",
       "2 -0.445940  0.312178  0.975818 -0.276978  0.599459  0.901850  0.024480  \n",
       "3 -0.696741  0.151945  0.553058 -1.307723  0.605042  0.889703 -0.100882  \n",
       "4 -0.363273  0.386495  0.966971 -0.328736  0.544566  0.908291 -0.058046  \n",
       "\n",
       "[5 rows x 3960 columns]"
      ]
     },
     "execution_count": 125,
     "metadata": {},
     "output_type": "execute_result"
    }
   ],
   "source": [
    "data.drop(['Class Label'], axis=1, inplace=True)\n",
    "data.head()"
   ]
  },
  {
   "cell_type": "code",
   "execution_count": 126,
   "metadata": {},
   "outputs": [
    {
     "data": {
      "text/plain": [
       "(722, 3960)"
      ]
     },
     "execution_count": 126,
     "metadata": {},
     "output_type": "execute_result"
    }
   ],
   "source": [
    "data.shape"
   ]
  },
  {
   "cell_type": "code",
   "execution_count": 127,
   "metadata": {},
   "outputs": [
    {
     "data": {
      "text/plain": [
       "X0001      0\n",
       "Y0001      0\n",
       "Z0001      0\n",
       "X0101      0\n",
       "Y0101      0\n",
       "        ... \n",
       "Y6420    300\n",
       "Z6420    300\n",
       "X6520    300\n",
       "Y6520    300\n",
       "Z6520    300\n",
       "Length: 3960, dtype: int64"
      ]
     },
     "execution_count": 127,
     "metadata": {},
     "output_type": "execute_result"
    }
   ],
   "source": [
    "data.isna().sum()"
   ]
  },
  {
   "cell_type": "code",
   "execution_count": 128,
   "metadata": {},
   "outputs": [
    {
     "name": "stderr",
     "output_type": "stream",
     "text": [
      "C:\\Users\\Dell\\AppData\\Local\\Temp\\ipykernel_9444\\1369908113.py:6: FutureWarning: A value is trying to be set on a copy of a DataFrame or Series through chained assignment using an inplace method.\n",
      "The behavior will change in pandas 3.0. This inplace method will never work because the intermediate object on which we are setting values always behaves as a copy.\n",
      "\n",
      "For example, when doing 'df[col].method(value, inplace=True)', try using 'df.method({col: value}, inplace=True)' or df[col] = df[col].method(value) instead, to perform the operation inplace on the original object.\n",
      "\n",
      "\n",
      "  data.iloc[i].fillna(data.iloc[i].mean(), inplace=True)\n"
     ]
    }
   ],
   "source": [
    "# X=[]\n",
    "for i in range(data.shape[0]):\n",
    "    # for j in range(data.shape[1]):\n",
    "    #     if data.iloc[i][j].isna():\n",
    "    #         data.iloc[i][j] = np.mean(data.iloc[i])\n",
    "    data.iloc[i].fillna(data.iloc[i].mean(), inplace=True)\n",
    "    # X.append(np.array(data.iloc[0][1:]))"
   ]
  },
  {
   "cell_type": "code",
   "execution_count": 129,
   "metadata": {},
   "outputs": [
    {
     "data": {
      "text/plain": [
       "X0001    0\n",
       "Y0001    0\n",
       "Z0001    0\n",
       "X0101    0\n",
       "Y0101    0\n",
       "        ..\n",
       "Y6420    0\n",
       "Z6420    0\n",
       "X6520    0\n",
       "Y6520    0\n",
       "Z6520    0\n",
       "Length: 3960, dtype: int64"
      ]
     },
     "execution_count": 129,
     "metadata": {},
     "output_type": "execute_result"
    }
   ],
   "source": [
    "data.isna().sum()"
   ]
  },
  {
   "cell_type": "code",
   "execution_count": 130,
   "metadata": {},
   "outputs": [
    {
     "data": {
      "text/plain": [
       "pandas.core.series.Series"
      ]
     },
     "execution_count": 130,
     "metadata": {},
     "output_type": "execute_result"
    }
   ],
   "source": [
    "# X=np.array(X)\n",
    "# X.shape\n",
    "type(data.iloc[0])"
   ]
  },
  {
   "cell_type": "markdown",
   "metadata": {},
   "source": [
    "SVC"
   ]
  },
  {
   "cell_type": "code",
   "execution_count": 131,
   "metadata": {},
   "outputs": [],
   "source": [
    "from sklearn.model_selection import train_test_split\n",
    "from sklearn.metrics import classification_report, confusion_matrix\n",
    "x_train, x_test, y_train, y_test = train_test_split(data, Y, test_size=0.2, random_state=42)"
   ]
  },
  {
   "cell_type": "code",
   "execution_count": 132,
   "metadata": {},
   "outputs": [
    {
     "data": {
      "text/plain": [
       "<bound method NDFrame.head of           X0001       Y0001     Z0001       X0101       Y0101     Z0101  \\\n",
       "456    0.235029   11.942410  0.639900    0.431633   12.184688  0.616264   \n",
       "6     -1.136776 -104.591851  1.221791   -1.136776 -104.591851  1.221791   \n",
       "362   -0.037427   46.847488  1.278112    0.118165   48.186779  1.224513   \n",
       "594   -1.152971   27.921926 -1.046066   -1.152971   27.921926 -1.046066   \n",
       "439   -1.001243 -210.468926  7.456261   -1.001243 -210.468926  7.456261   \n",
       "..          ...         ...       ...         ...         ...       ...   \n",
       "71  -121.353164   40.527615  0.640427 -121.353164   40.527615  0.640427   \n",
       "106   -1.574159  -65.980731  5.376639   -1.574159  -65.980731  5.376639   \n",
       "270   -1.606777 -179.820228  9.252626   -1.606777 -179.820228  9.252626   \n",
       "435   -1.007977  866.301058  6.319335   -1.007977  866.301058  6.319335   \n",
       "102   -1.551976 -133.040594  4.154679   -1.551976 -133.040594  4.154679   \n",
       "\n",
       "          X0201       Y0201     Z0201       X0301  ...      Z6220      X6320  \\\n",
       "456    0.575187   12.930948  0.601193    0.643227  ...  -0.635699   0.709070   \n",
       "6     -1.136776 -104.591851  1.221791   -1.136776  ...  -0.500250   0.724880   \n",
       "362    0.202220   51.437520  1.204512    0.228147  ...   3.273689   3.273689   \n",
       "594   -1.152971   27.921926 -1.046066   -1.152971  ...  -0.160854   0.463785   \n",
       "439   -1.001243 -210.468926  7.456261   -1.001243  ... -74.528989 -74.528989   \n",
       "..          ...         ...       ...         ...  ...        ...        ...   \n",
       "71  -121.353164   40.527615  0.640427 -121.353164  ...  -0.332784   0.631028   \n",
       "106   -1.574159  -65.980731  5.376639   -1.574159  ...  -0.821812   0.778725   \n",
       "270   -1.606777 -179.820228  9.252626   -1.606777  ...  -0.692683   0.751658   \n",
       "435   -1.007977  866.301058  6.319335   -1.007977  ...  -0.861823   0.555368   \n",
       "102   -1.551976 -133.040594  4.154679   -1.551976  ...  -0.839574   0.781583   \n",
       "\n",
       "         Y6320      Z6320      X6420      Y6420      Z6420      X6520  \\\n",
       "456   0.839202  -0.201022   0.465486   0.859402  -0.548460   0.661367   \n",
       "6     0.967344  -0.223623   0.341140   0.991761  -0.405335   0.629582   \n",
       "362   3.273689   3.273689   3.273689   3.273689   3.273689   3.273689   \n",
       "594   0.809179  -0.422135   0.197674   0.812225  -0.067556   0.481023   \n",
       "439 -74.528989 -74.528989 -74.528989 -74.528989 -74.528989 -74.528989   \n",
       "..         ...        ...        ...        ...        ...        ...   \n",
       "71    0.842147  -0.327773   0.466355   0.804297  -0.262507   0.585957   \n",
       "106   0.871229  -0.414697   0.368450   0.847132  -0.701603   0.691388   \n",
       "270   0.839595  -0.356866   0.458754   0.844893  -0.585844   0.668369   \n",
       "435   0.862647  -0.598443   0.242015   0.843323  -0.721389   0.483158   \n",
       "102   0.871545  -0.415829   0.433697   0.862129  -0.713766   0.695671   \n",
       "\n",
       "         Y6520      Z6520  \n",
       "456   0.754956   0.047786  \n",
       "6     0.899335   0.014798  \n",
       "362   3.273689   3.273689  \n",
       "594   0.758061  -0.067660  \n",
       "439 -74.528989 -74.528989  \n",
       "..         ...        ...  \n",
       "71    0.757713  -0.014388  \n",
       "106   0.779200   0.023052  \n",
       "270   0.759817   0.037166  \n",
       "435   0.766815  -0.003301  \n",
       "102   0.776923   0.027273  \n",
       "\n",
       "[577 rows x 3960 columns]>"
      ]
     },
     "execution_count": 132,
     "metadata": {},
     "output_type": "execute_result"
    }
   ],
   "source": [
    "x_train.head"
   ]
  },
  {
   "cell_type": "code",
   "execution_count": 133,
   "metadata": {},
   "outputs": [],
   "source": [
    "from sklearn.svm import SVC\n",
    "# model=SVC(kernel='rbf', C=100, gamma=0.001, random_state=42, verbose=True, max_iter=1000, decision_function_shape='ovo')\n",
    "# model.fit(x_train, y_train)\n",
    "# pred=model.predict(x_test)"
   ]
  },
  {
   "cell_type": "code",
   "execution_count": 134,
   "metadata": {},
   "outputs": [
    {
     "name": "stdout",
     "output_type": "stream",
     "text": [
      "              precision    recall  f1-score   support\n",
      "\n",
      "           0       1.00      1.00      1.00         9\n",
      "           1       1.00      0.94      0.97        17\n",
      "           2       1.00      1.00      1.00         8\n",
      "           3       1.00      1.00      1.00         7\n",
      "           4       1.00      0.75      0.86         8\n",
      "           5       1.00      1.00      1.00         9\n",
      "           6       0.90      1.00      0.95         9\n",
      "           7       0.91      1.00      0.95        10\n",
      "           8       1.00      1.00      1.00         5\n",
      "           9       0.85      1.00      0.92        11\n",
      "          10       1.00      1.00      1.00         7\n",
      "          11       1.00      1.00      1.00         3\n",
      "          12       1.00      1.00      1.00         7\n",
      "          13       1.00      1.00      1.00         4\n",
      "          14       1.00      1.00      1.00         8\n",
      "          15       1.00      1.00      1.00         8\n",
      "          16       1.00      0.93      0.97        15\n",
      "\n",
      "    accuracy                           0.97       145\n",
      "   macro avg       0.98      0.98      0.98       145\n",
      "weighted avg       0.98      0.97      0.97       145\n",
      "\n"
     ]
    }
   ],
   "source": [
    "from sklearn.metrics import classification_report, confusion_matrix\n",
    "# # print(confusion_matrix(y_test, pred))\n",
    "print(classification_report(y_test, pred))"
   ]
  },
  {
   "cell_type": "code",
   "execution_count": 135,
   "metadata": {},
   "outputs": [],
   "source": [
    "from sklearn.model_selection import GridSearchCV\n",
    "param_grid={'C': [0.1,1,10,100,1000], 'gamma': [1,0.1,0.01,0.001,0.0001]}\n",
    "grid=GridSearchCV(SVC(), param_grid, verbose=5)"
   ]
  },
  {
   "cell_type": "code",
   "execution_count": 136,
   "metadata": {},
   "outputs": [
    {
     "name": "stdout",
     "output_type": "stream",
     "text": [
      "Fitting 5 folds for each of 25 candidates, totalling 125 fits\n",
      "[CV 1/5] END ....................C=0.1, gamma=1;, score=0.086 total time=   0.5s\n",
      "[CV 2/5] END ....................C=0.1, gamma=1;, score=0.086 total time=   0.5s\n",
      "[CV 3/5] END ....................C=0.1, gamma=1;, score=0.096 total time=   0.5s\n",
      "[CV 4/5] END ....................C=0.1, gamma=1;, score=0.087 total time=   0.5s\n",
      "[CV 5/5] END ....................C=0.1, gamma=1;, score=0.087 total time=   0.5s\n",
      "[CV 1/5] END ..................C=0.1, gamma=0.1;, score=0.086 total time=   0.5s\n",
      "[CV 2/5] END ..................C=0.1, gamma=0.1;, score=0.086 total time=   0.5s\n",
      "[CV 3/5] END ..................C=0.1, gamma=0.1;, score=0.096 total time=   0.5s\n",
      "[CV 4/5] END ..................C=0.1, gamma=0.1;, score=0.087 total time=   0.5s\n",
      "[CV 5/5] END ..................C=0.1, gamma=0.1;, score=0.087 total time=   0.5s\n",
      "[CV 1/5] END .................C=0.1, gamma=0.01;, score=0.086 total time=   0.5s\n",
      "[CV 2/5] END .................C=0.1, gamma=0.01;, score=0.086 total time=   0.5s\n",
      "[CV 3/5] END .................C=0.1, gamma=0.01;, score=0.096 total time=   0.5s\n",
      "[CV 4/5] END .................C=0.1, gamma=0.01;, score=0.087 total time=   0.5s\n",
      "[CV 5/5] END .................C=0.1, gamma=0.01;, score=0.087 total time=   0.5s\n",
      "[CV 1/5] END ................C=0.1, gamma=0.001;, score=0.086 total time=   0.5s\n",
      "[CV 2/5] END ................C=0.1, gamma=0.001;, score=0.086 total time=   0.5s\n",
      "[CV 3/5] END ................C=0.1, gamma=0.001;, score=0.096 total time=   0.5s\n",
      "[CV 4/5] END ................C=0.1, gamma=0.001;, score=0.087 total time=   0.5s\n",
      "[CV 5/5] END ................C=0.1, gamma=0.001;, score=0.087 total time=   0.5s\n",
      "[CV 1/5] END ...............C=0.1, gamma=0.0001;, score=0.086 total time=   0.5s\n",
      "[CV 2/5] END ...............C=0.1, gamma=0.0001;, score=0.086 total time=   0.5s\n",
      "[CV 3/5] END ...............C=0.1, gamma=0.0001;, score=0.096 total time=   0.5s\n",
      "[CV 4/5] END ...............C=0.1, gamma=0.0001;, score=0.087 total time=   0.5s\n",
      "[CV 5/5] END ...............C=0.1, gamma=0.0001;, score=0.087 total time=   0.5s\n",
      "[CV 1/5] END ......................C=1, gamma=1;, score=0.086 total time=   0.6s\n",
      "[CV 2/5] END ......................C=1, gamma=1;, score=0.086 total time=   0.5s\n",
      "[CV 3/5] END ......................C=1, gamma=1;, score=0.096 total time=   0.6s\n",
      "[CV 4/5] END ......................C=1, gamma=1;, score=0.087 total time=   0.6s\n",
      "[CV 5/5] END ......................C=1, gamma=1;, score=0.087 total time=   0.6s\n",
      "[CV 1/5] END ....................C=1, gamma=0.1;, score=0.086 total time=   0.5s\n",
      "[CV 2/5] END ....................C=1, gamma=0.1;, score=0.086 total time=   0.6s\n",
      "[CV 3/5] END ....................C=1, gamma=0.1;, score=0.096 total time=   0.6s\n",
      "[CV 4/5] END ....................C=1, gamma=0.1;, score=0.087 total time=   0.5s\n",
      "[CV 5/5] END ....................C=1, gamma=0.1;, score=0.087 total time=   0.5s\n",
      "[CV 1/5] END ...................C=1, gamma=0.01;, score=0.086 total time=   0.5s\n",
      "[CV 2/5] END ...................C=1, gamma=0.01;, score=0.086 total time=   0.5s\n",
      "[CV 3/5] END ...................C=1, gamma=0.01;, score=0.096 total time=   0.5s\n",
      "[CV 4/5] END ...................C=1, gamma=0.01;, score=0.087 total time=   0.6s\n",
      "[CV 5/5] END ...................C=1, gamma=0.01;, score=0.087 total time=   0.6s\n",
      "[CV 1/5] END ..................C=1, gamma=0.001;, score=0.095 total time=   0.5s\n",
      "[CV 2/5] END ..................C=1, gamma=0.001;, score=0.086 total time=   0.5s\n",
      "[CV 3/5] END ..................C=1, gamma=0.001;, score=0.104 total time=   0.5s\n",
      "[CV 4/5] END ..................C=1, gamma=0.001;, score=0.096 total time=   0.5s\n",
      "[CV 5/5] END ..................C=1, gamma=0.001;, score=0.096 total time=   0.5s\n",
      "[CV 1/5] END .................C=1, gamma=0.0001;, score=0.112 total time=   0.5s\n",
      "[CV 2/5] END .................C=1, gamma=0.0001;, score=0.129 total time=   0.5s\n",
      "[CV 3/5] END .................C=1, gamma=0.0001;, score=0.148 total time=   0.5s\n",
      "[CV 4/5] END .................C=1, gamma=0.0001;, score=0.139 total time=   0.5s\n",
      "[CV 5/5] END .................C=1, gamma=0.0001;, score=0.122 total time=   0.5s\n",
      "[CV 1/5] END .....................C=10, gamma=1;, score=0.086 total time=   0.5s\n",
      "[CV 2/5] END .....................C=10, gamma=1;, score=0.086 total time=   0.5s\n",
      "[CV 3/5] END .....................C=10, gamma=1;, score=0.096 total time=   0.5s\n",
      "[CV 4/5] END .....................C=10, gamma=1;, score=0.087 total time=   0.6s\n",
      "[CV 5/5] END .....................C=10, gamma=1;, score=0.087 total time=   0.5s\n",
      "[CV 1/5] END ...................C=10, gamma=0.1;, score=0.086 total time=   0.5s\n",
      "[CV 2/5] END ...................C=10, gamma=0.1;, score=0.086 total time=   0.5s\n",
      "[CV 3/5] END ...................C=10, gamma=0.1;, score=0.096 total time=   0.5s\n",
      "[CV 4/5] END ...................C=10, gamma=0.1;, score=0.087 total time=   0.5s\n",
      "[CV 5/5] END ...................C=10, gamma=0.1;, score=0.087 total time=   0.5s\n",
      "[CV 1/5] END ..................C=10, gamma=0.01;, score=0.086 total time=   0.5s\n",
      "[CV 2/5] END ..................C=10, gamma=0.01;, score=0.086 total time=   0.5s\n",
      "[CV 3/5] END ..................C=10, gamma=0.01;, score=0.096 total time=   0.5s\n",
      "[CV 4/5] END ..................C=10, gamma=0.01;, score=0.087 total time=   0.5s\n",
      "[CV 5/5] END ..................C=10, gamma=0.01;, score=0.087 total time=   0.5s\n",
      "[CV 1/5] END .................C=10, gamma=0.001;, score=0.095 total time=   0.5s\n",
      "[CV 2/5] END .................C=10, gamma=0.001;, score=0.086 total time=   0.5s\n",
      "[CV 3/5] END .................C=10, gamma=0.001;, score=0.104 total time=   0.5s\n",
      "[CV 4/5] END .................C=10, gamma=0.001;, score=0.096 total time=   0.6s\n",
      "[CV 5/5] END .................C=10, gamma=0.001;, score=0.096 total time=   0.7s\n",
      "[CV 1/5] END ................C=10, gamma=0.0001;, score=0.112 total time=   0.6s\n",
      "[CV 2/5] END ................C=10, gamma=0.0001;, score=0.129 total time=   0.6s\n",
      "[CV 3/5] END ................C=10, gamma=0.0001;, score=0.157 total time=   0.6s\n",
      "[CV 4/5] END ................C=10, gamma=0.0001;, score=0.139 total time=   0.5s\n",
      "[CV 5/5] END ................C=10, gamma=0.0001;, score=0.130 total time=   0.5s\n",
      "[CV 1/5] END ....................C=100, gamma=1;, score=0.086 total time=   0.5s\n",
      "[CV 2/5] END ....................C=100, gamma=1;, score=0.086 total time=   0.5s\n",
      "[CV 3/5] END ....................C=100, gamma=1;, score=0.096 total time=   0.6s\n",
      "[CV 4/5] END ....................C=100, gamma=1;, score=0.087 total time=   0.5s\n",
      "[CV 5/5] END ....................C=100, gamma=1;, score=0.087 total time=   0.5s\n",
      "[CV 1/5] END ..................C=100, gamma=0.1;, score=0.086 total time=   0.5s\n",
      "[CV 2/5] END ..................C=100, gamma=0.1;, score=0.086 total time=   0.5s\n",
      "[CV 3/5] END ..................C=100, gamma=0.1;, score=0.096 total time=   0.5s\n",
      "[CV 4/5] END ..................C=100, gamma=0.1;, score=0.087 total time=   0.5s\n",
      "[CV 5/5] END ..................C=100, gamma=0.1;, score=0.087 total time=   0.5s\n",
      "[CV 1/5] END .................C=100, gamma=0.01;, score=0.086 total time=   0.5s\n",
      "[CV 2/5] END .................C=100, gamma=0.01;, score=0.086 total time=   0.5s\n",
      "[CV 3/5] END .................C=100, gamma=0.01;, score=0.096 total time=   0.5s\n",
      "[CV 4/5] END .................C=100, gamma=0.01;, score=0.087 total time=   0.5s\n",
      "[CV 5/5] END .................C=100, gamma=0.01;, score=0.087 total time=   0.5s\n",
      "[CV 1/5] END ................C=100, gamma=0.001;, score=0.095 total time=   0.5s\n",
      "[CV 2/5] END ................C=100, gamma=0.001;, score=0.086 total time=   0.5s\n",
      "[CV 3/5] END ................C=100, gamma=0.001;, score=0.104 total time=   0.5s\n",
      "[CV 4/5] END ................C=100, gamma=0.001;, score=0.096 total time=   0.5s\n",
      "[CV 5/5] END ................C=100, gamma=0.001;, score=0.096 total time=   0.5s\n",
      "[CV 1/5] END ...............C=100, gamma=0.0001;, score=0.112 total time=   0.5s\n",
      "[CV 2/5] END ...............C=100, gamma=0.0001;, score=0.129 total time=   0.5s\n",
      "[CV 3/5] END ...............C=100, gamma=0.0001;, score=0.157 total time=   0.6s\n",
      "[CV 4/5] END ...............C=100, gamma=0.0001;, score=0.139 total time=   0.6s\n",
      "[CV 5/5] END ...............C=100, gamma=0.0001;, score=0.130 total time=   0.6s\n",
      "[CV 1/5] END ...................C=1000, gamma=1;, score=0.086 total time=   0.5s\n",
      "[CV 2/5] END ...................C=1000, gamma=1;, score=0.086 total time=   0.6s\n",
      "[CV 3/5] END ...................C=1000, gamma=1;, score=0.096 total time=   0.5s\n",
      "[CV 4/5] END ...................C=1000, gamma=1;, score=0.087 total time=   0.5s\n",
      "[CV 5/5] END ...................C=1000, gamma=1;, score=0.087 total time=   0.5s\n",
      "[CV 1/5] END .................C=1000, gamma=0.1;, score=0.086 total time=   0.5s\n",
      "[CV 2/5] END .................C=1000, gamma=0.1;, score=0.086 total time=   0.6s\n",
      "[CV 3/5] END .................C=1000, gamma=0.1;, score=0.096 total time=   0.6s\n",
      "[CV 4/5] END .................C=1000, gamma=0.1;, score=0.087 total time=   0.6s\n",
      "[CV 5/5] END .................C=1000, gamma=0.1;, score=0.087 total time=   0.5s\n",
      "[CV 1/5] END ................C=1000, gamma=0.01;, score=0.086 total time=   0.5s\n",
      "[CV 2/5] END ................C=1000, gamma=0.01;, score=0.086 total time=   0.6s\n",
      "[CV 3/5] END ................C=1000, gamma=0.01;, score=0.096 total time=   0.6s\n",
      "[CV 4/5] END ................C=1000, gamma=0.01;, score=0.087 total time=   0.6s\n",
      "[CV 5/5] END ................C=1000, gamma=0.01;, score=0.087 total time=   0.6s\n",
      "[CV 1/5] END ...............C=1000, gamma=0.001;, score=0.095 total time=   0.6s\n",
      "[CV 2/5] END ...............C=1000, gamma=0.001;, score=0.086 total time=   0.6s\n",
      "[CV 3/5] END ...............C=1000, gamma=0.001;, score=0.104 total time=   0.5s\n",
      "[CV 4/5] END ...............C=1000, gamma=0.001;, score=0.096 total time=   0.6s\n",
      "[CV 5/5] END ...............C=1000, gamma=0.001;, score=0.096 total time=   0.5s\n",
      "[CV 1/5] END ..............C=1000, gamma=0.0001;, score=0.112 total time=   0.5s\n",
      "[CV 2/5] END ..............C=1000, gamma=0.0001;, score=0.129 total time=   0.5s\n",
      "[CV 3/5] END ..............C=1000, gamma=0.0001;, score=0.157 total time=   0.5s\n",
      "[CV 4/5] END ..............C=1000, gamma=0.0001;, score=0.139 total time=   0.5s\n",
      "[CV 5/5] END ..............C=1000, gamma=0.0001;, score=0.130 total time=   0.5s\n"
     ]
    },
    {
     "data": {
      "text/html": [
       "<style>#sk-container-id-2 {color: black;}#sk-container-id-2 pre{padding: 0;}#sk-container-id-2 div.sk-toggleable {background-color: white;}#sk-container-id-2 label.sk-toggleable__label {cursor: pointer;display: block;width: 100%;margin-bottom: 0;padding: 0.3em;box-sizing: border-box;text-align: center;}#sk-container-id-2 label.sk-toggleable__label-arrow:before {content: \"▸\";float: left;margin-right: 0.25em;color: #696969;}#sk-container-id-2 label.sk-toggleable__label-arrow:hover:before {color: black;}#sk-container-id-2 div.sk-estimator:hover label.sk-toggleable__label-arrow:before {color: black;}#sk-container-id-2 div.sk-toggleable__content {max-height: 0;max-width: 0;overflow: hidden;text-align: left;background-color: #f0f8ff;}#sk-container-id-2 div.sk-toggleable__content pre {margin: 0.2em;color: black;border-radius: 0.25em;background-color: #f0f8ff;}#sk-container-id-2 input.sk-toggleable__control:checked~div.sk-toggleable__content {max-height: 200px;max-width: 100%;overflow: auto;}#sk-container-id-2 input.sk-toggleable__control:checked~label.sk-toggleable__label-arrow:before {content: \"▾\";}#sk-container-id-2 div.sk-estimator input.sk-toggleable__control:checked~label.sk-toggleable__label {background-color: #d4ebff;}#sk-container-id-2 div.sk-label input.sk-toggleable__control:checked~label.sk-toggleable__label {background-color: #d4ebff;}#sk-container-id-2 input.sk-hidden--visually {border: 0;clip: rect(1px 1px 1px 1px);clip: rect(1px, 1px, 1px, 1px);height: 1px;margin: -1px;overflow: hidden;padding: 0;position: absolute;width: 1px;}#sk-container-id-2 div.sk-estimator {font-family: monospace;background-color: #f0f8ff;border: 1px dotted black;border-radius: 0.25em;box-sizing: border-box;margin-bottom: 0.5em;}#sk-container-id-2 div.sk-estimator:hover {background-color: #d4ebff;}#sk-container-id-2 div.sk-parallel-item::after {content: \"\";width: 100%;border-bottom: 1px solid gray;flex-grow: 1;}#sk-container-id-2 div.sk-label:hover label.sk-toggleable__label {background-color: #d4ebff;}#sk-container-id-2 div.sk-serial::before {content: \"\";position: absolute;border-left: 1px solid gray;box-sizing: border-box;top: 0;bottom: 0;left: 50%;z-index: 0;}#sk-container-id-2 div.sk-serial {display: flex;flex-direction: column;align-items: center;background-color: white;padding-right: 0.2em;padding-left: 0.2em;position: relative;}#sk-container-id-2 div.sk-item {position: relative;z-index: 1;}#sk-container-id-2 div.sk-parallel {display: flex;align-items: stretch;justify-content: center;background-color: white;position: relative;}#sk-container-id-2 div.sk-item::before, #sk-container-id-2 div.sk-parallel-item::before {content: \"\";position: absolute;border-left: 1px solid gray;box-sizing: border-box;top: 0;bottom: 0;left: 50%;z-index: -1;}#sk-container-id-2 div.sk-parallel-item {display: flex;flex-direction: column;z-index: 1;position: relative;background-color: white;}#sk-container-id-2 div.sk-parallel-item:first-child::after {align-self: flex-end;width: 50%;}#sk-container-id-2 div.sk-parallel-item:last-child::after {align-self: flex-start;width: 50%;}#sk-container-id-2 div.sk-parallel-item:only-child::after {width: 0;}#sk-container-id-2 div.sk-dashed-wrapped {border: 1px dashed gray;margin: 0 0.4em 0.5em 0.4em;box-sizing: border-box;padding-bottom: 0.4em;background-color: white;}#sk-container-id-2 div.sk-label label {font-family: monospace;font-weight: bold;display: inline-block;line-height: 1.2em;}#sk-container-id-2 div.sk-label-container {text-align: center;}#sk-container-id-2 div.sk-container {/* jupyter's `normalize.less` sets `[hidden] { display: none; }` but bootstrap.min.css set `[hidden] { display: none !important; }` so we also need the `!important` here to be able to override the default hidden behavior on the sphinx rendered scikit-learn.org. See: https://github.com/scikit-learn/scikit-learn/issues/21755 */display: inline-block !important;position: relative;}#sk-container-id-2 div.sk-text-repr-fallback {display: none;}</style><div id=\"sk-container-id-2\" class=\"sk-top-container\"><div class=\"sk-text-repr-fallback\"><pre>GridSearchCV(estimator=SVC(),\n",
       "             param_grid={&#x27;C&#x27;: [0.1, 1, 10, 100, 1000],\n",
       "                         &#x27;gamma&#x27;: [1, 0.1, 0.01, 0.001, 0.0001]},\n",
       "             verbose=5)</pre><b>In a Jupyter environment, please rerun this cell to show the HTML representation or trust the notebook. <br />On GitHub, the HTML representation is unable to render, please try loading this page with nbviewer.org.</b></div><div class=\"sk-container\" hidden><div class=\"sk-item sk-dashed-wrapped\"><div class=\"sk-label-container\"><div class=\"sk-label sk-toggleable\"><input class=\"sk-toggleable__control sk-hidden--visually\" id=\"sk-estimator-id-4\" type=\"checkbox\" ><label for=\"sk-estimator-id-4\" class=\"sk-toggleable__label sk-toggleable__label-arrow\">GridSearchCV</label><div class=\"sk-toggleable__content\"><pre>GridSearchCV(estimator=SVC(),\n",
       "             param_grid={&#x27;C&#x27;: [0.1, 1, 10, 100, 1000],\n",
       "                         &#x27;gamma&#x27;: [1, 0.1, 0.01, 0.001, 0.0001]},\n",
       "             verbose=5)</pre></div></div></div><div class=\"sk-parallel\"><div class=\"sk-parallel-item\"><div class=\"sk-item\"><div class=\"sk-label-container\"><div class=\"sk-label sk-toggleable\"><input class=\"sk-toggleable__control sk-hidden--visually\" id=\"sk-estimator-id-5\" type=\"checkbox\" ><label for=\"sk-estimator-id-5\" class=\"sk-toggleable__label sk-toggleable__label-arrow\">estimator: SVC</label><div class=\"sk-toggleable__content\"><pre>SVC()</pre></div></div></div><div class=\"sk-serial\"><div class=\"sk-item\"><div class=\"sk-estimator sk-toggleable\"><input class=\"sk-toggleable__control sk-hidden--visually\" id=\"sk-estimator-id-6\" type=\"checkbox\" ><label for=\"sk-estimator-id-6\" class=\"sk-toggleable__label sk-toggleable__label-arrow\">SVC</label><div class=\"sk-toggleable__content\"><pre>SVC()</pre></div></div></div></div></div></div></div></div></div></div>"
      ],
      "text/plain": [
       "GridSearchCV(estimator=SVC(),\n",
       "             param_grid={'C': [0.1, 1, 10, 100, 1000],\n",
       "                         'gamma': [1, 0.1, 0.01, 0.001, 0.0001]},\n",
       "             verbose=5)"
      ]
     },
     "execution_count": 136,
     "metadata": {},
     "output_type": "execute_result"
    }
   ],
   "source": [
    "grid.fit(x_train, y_train)"
   ]
  },
  {
   "cell_type": "code",
   "execution_count": 137,
   "metadata": {},
   "outputs": [
    {
     "data": {
      "text/plain": [
       "{'C': 10, 'gamma': 0.0001}"
      ]
     },
     "execution_count": 137,
     "metadata": {},
     "output_type": "execute_result"
    }
   ],
   "source": [
    "grid.best_params_"
   ]
  },
  {
   "cell_type": "code",
   "execution_count": 195,
   "metadata": {},
   "outputs": [],
   "source": [
    "grid_pred=grid.predict(x_test)"
   ]
  },
  {
   "cell_type": "code",
   "execution_count": 196,
   "metadata": {},
   "outputs": [
    {
     "name": "stdout",
     "output_type": "stream",
     "text": [
      "              precision    recall  f1-score   support\n",
      "\n",
      "           0       1.00      1.00      1.00         9\n",
      "           1       1.00      0.94      0.97        17\n",
      "           2       1.00      1.00      1.00         8\n",
      "           3       1.00      1.00      1.00         7\n",
      "           4       1.00      0.75      0.86         8\n",
      "           5       1.00      1.00      1.00         9\n",
      "           6       0.90      1.00      0.95         9\n",
      "           7       0.91      1.00      0.95        10\n",
      "           8       1.00      1.00      1.00         5\n",
      "           9       0.85      1.00      0.92        11\n",
      "          10       1.00      1.00      1.00         7\n",
      "          11       1.00      1.00      1.00         3\n",
      "          12       1.00      1.00      1.00         7\n",
      "          13       1.00      1.00      1.00         4\n",
      "          14       1.00      1.00      1.00         8\n",
      "          15       1.00      1.00      1.00         8\n",
      "          16       1.00      0.93      0.97        15\n",
      "\n",
      "    accuracy                           0.97       145\n",
      "   macro avg       0.98      0.98      0.98       145\n",
      "weighted avg       0.98      0.97      0.97       145\n",
      "\n"
     ]
    }
   ],
   "source": [
    "a=classification_report(y_test, pred)\n",
    "print(a)"
   ]
  },
  {
   "cell_type": "code",
   "execution_count": 197,
   "metadata": {},
   "outputs": [],
   "source": [
    "import pickle\n",
    "\n",
    "with open('svc.pkl', 'wb') as f:\n",
    "    pickle.dump(model, f)"
   ]
  },
  {
   "cell_type": "markdown",
   "metadata": {},
   "source": [
    "Random Forest"
   ]
  },
  {
   "cell_type": "code",
   "execution_count": 192,
   "metadata": {},
   "outputs": [],
   "source": [
    "from sklearn.ensemble import RandomForestClassifier\n",
    "model = RandomForestClassifier(n_estimators=100, random_state=42)\n",
    "\n",
    "# Train the model\n",
    "# model.fit(x_train, y_train)\n",
    "model.fit(x_train.values, y_train)\n",
    "\n",
    "# Make predictions on the test set\n",
    "pred = model.predict(x_test.values)"
   ]
  },
  {
   "cell_type": "code",
   "execution_count": 193,
   "metadata": {},
   "outputs": [
    {
     "name": "stdout",
     "output_type": "stream",
     "text": [
      "              precision    recall  f1-score   support\n",
      "\n",
      "           0       1.00      1.00      1.00         9\n",
      "           1       1.00      0.94      0.97        17\n",
      "           2       1.00      1.00      1.00         8\n",
      "           3       1.00      1.00      1.00         7\n",
      "           4       1.00      0.75      0.86         8\n",
      "           5       1.00      1.00      1.00         9\n",
      "           6       0.90      1.00      0.95         9\n",
      "           7       0.91      1.00      0.95        10\n",
      "           8       1.00      1.00      1.00         5\n",
      "           9       0.85      1.00      0.92        11\n",
      "          10       1.00      1.00      1.00         7\n",
      "          11       1.00      1.00      1.00         3\n",
      "          12       1.00      1.00      1.00         7\n",
      "          13       1.00      1.00      1.00         4\n",
      "          14       1.00      1.00      1.00         8\n",
      "          15       1.00      1.00      1.00         8\n",
      "          16       1.00      0.93      0.97        15\n",
      "\n",
      "    accuracy                           0.97       145\n",
      "   macro avg       0.98      0.98      0.98       145\n",
      "weighted avg       0.98      0.97      0.97       145\n",
      "\n"
     ]
    }
   ],
   "source": [
    "a=classification_report(y_test, pred)\n",
    "print(a)"
   ]
  },
  {
   "cell_type": "code",
   "execution_count": 194,
   "metadata": {},
   "outputs": [],
   "source": [
    "import pickle\n",
    "\n",
    "with open('model.pkl', 'wb') as f:\n",
    "    pickle.dump(model, f)"
   ]
  },
  {
   "cell_type": "markdown",
   "metadata": {},
   "source": [
    "Logistic Regression"
   ]
  },
  {
   "cell_type": "code",
   "execution_count": 208,
   "metadata": {},
   "outputs": [
    {
     "name": "stdout",
     "output_type": "stream",
     "text": [
      "              precision    recall  f1-score   support\n",
      "\n",
      "           0       1.00      1.00      1.00         9\n",
      "           1       1.00      0.94      0.97        17\n",
      "           2       1.00      1.00      1.00         8\n",
      "           3       1.00      1.00      1.00         7\n",
      "           4       1.00      0.75      0.86         8\n",
      "           5       1.00      1.00      1.00         9\n",
      "           6       0.90      1.00      0.95         9\n",
      "           7       0.91      1.00      0.95        10\n",
      "           8       1.00      1.00      1.00         5\n",
      "           9       0.85      1.00      0.92        11\n",
      "          10       1.00      1.00      1.00         7\n",
      "          11       1.00      1.00      1.00         3\n",
      "          12       1.00      1.00      1.00         7\n",
      "          13       1.00      1.00      1.00         4\n",
      "          14       1.00      1.00      1.00         8\n",
      "          15       1.00      1.00      1.00         8\n",
      "          16       1.00      0.93      0.97        15\n",
      "\n",
      "    accuracy                           0.97       145\n",
      "   macro avg       0.98      0.98      0.98       145\n",
      "weighted avg       0.98      0.97      0.97       145\n",
      "\n"
     ]
    },
    {
     "name": "stderr",
     "output_type": "stream",
     "text": [
      "c:\\Program Files\\Python311\\Lib\\site-packages\\sklearn\\linear_model\\_logistic.py:460: ConvergenceWarning: lbfgs failed to converge (status=1):\n",
      "STOP: TOTAL NO. of ITERATIONS REACHED LIMIT.\n",
      "\n",
      "Increase the number of iterations (max_iter) or scale the data as shown in:\n",
      "    https://scikit-learn.org/stable/modules/preprocessing.html\n",
      "Please also refer to the documentation for alternative solver options:\n",
      "    https://scikit-learn.org/stable/modules/linear_model.html#logistic-regression\n",
      "  n_iter_i = _check_optimize_result(\n"
     ]
    }
   ],
   "source": [
    "from sklearn.linear_model import LogisticRegression\n",
    "from sklearn.metrics import accuracy_score\n",
    "\n",
    "model = LogisticRegression()\n",
    "model.fit(x_train.values, y_train)\n",
    "\n",
    "y_pred = model.predict(x_test.values)\n",
    "a=classification_report(y_test, pred)\n",
    "print(a)\n"
   ]
  },
  {
   "cell_type": "code",
   "execution_count": 209,
   "metadata": {},
   "outputs": [],
   "source": [
    "import pickle\n",
    "\n",
    "with open('lr.pkl', 'wb') as f:\n",
    "    pickle.dump(model, f)"
   ]
  },
  {
   "cell_type": "markdown",
   "metadata": {},
   "source": [
    "KNN"
   ]
  },
  {
   "cell_type": "code",
   "execution_count": 205,
   "metadata": {},
   "outputs": [
    {
     "name": "stdout",
     "output_type": "stream",
     "text": [
      "              precision    recall  f1-score   support\n",
      "\n",
      "           0       1.00      1.00      1.00         9\n",
      "           1       1.00      0.94      0.97        17\n",
      "           2       1.00      1.00      1.00         8\n",
      "           3       1.00      1.00      1.00         7\n",
      "           4       1.00      0.75      0.86         8\n",
      "           5       1.00      1.00      1.00         9\n",
      "           6       0.90      1.00      0.95         9\n",
      "           7       0.91      1.00      0.95        10\n",
      "           8       1.00      1.00      1.00         5\n",
      "           9       0.85      1.00      0.92        11\n",
      "          10       1.00      1.00      1.00         7\n",
      "          11       1.00      1.00      1.00         3\n",
      "          12       1.00      1.00      1.00         7\n",
      "          13       1.00      1.00      1.00         4\n",
      "          14       1.00      1.00      1.00         8\n",
      "          15       1.00      1.00      1.00         8\n",
      "          16       1.00      0.93      0.97        15\n",
      "\n",
      "    accuracy                           0.97       145\n",
      "   macro avg       0.98      0.98      0.98       145\n",
      "weighted avg       0.98      0.97      0.97       145\n",
      "\n"
     ]
    }
   ],
   "source": [
    "from sklearn.neighbors import KNeighborsClassifier\n",
    "model = KNeighborsClassifier()\n",
    "model.fit(x_train.values, y_train)\n",
    "y_pred = model.predict(x_test.values)\n",
    "a=classification_report(y_test, pred)\n",
    "print(a)"
   ]
  },
  {
   "cell_type": "code",
   "execution_count": 206,
   "metadata": {},
   "outputs": [],
   "source": [
    "import pickle\n",
    "\n",
    "with open('knn.pkl', 'wb') as f:\n",
    "    pickle.dump(model, f)"
   ]
  }
 ],
 "metadata": {
  "kernelspec": {
   "display_name": "Python 3",
   "language": "python",
   "name": "python3"
  },
  "language_info": {
   "codemirror_mode": {
    "name": "ipython",
    "version": 3
   },
   "file_extension": ".py",
   "mimetype": "text/x-python",
   "name": "python",
   "nbconvert_exporter": "python",
   "pygments_lexer": "ipython3",
   "version": "3.11.2"
  }
 },
 "nbformat": 4,
 "nbformat_minor": 2
}
