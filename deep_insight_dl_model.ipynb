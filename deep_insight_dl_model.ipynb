{
 "cells": [
  {
   "cell_type": "code",
   "execution_count": 2,
   "metadata": {},
   "outputs": [
    {
     "name": "stderr",
     "output_type": "stream",
     "text": [
      "c:\\Users\\Mello\\AppData\\Local\\Programs\\Python\\Python311\\Lib\\site-packages\\tqdm\\auto.py:21: TqdmWarning: IProgress not found. Please update jupyter and ipywidgets. See https://ipywidgets.readthedocs.io/en/stable/user_install.html\n",
      "  from .autonotebook import tqdm as notebook_tqdm\n"
     ]
    }
   ],
   "source": [
    "from pyDeepInsight import ImageTransformer\n",
    "from pyDeepInsight.utils import Norm2Scaler\n",
    "from sklearn.model_selection import train_test_split\n",
    "from sklearn.preprocessing import LabelEncoder\n",
    "from sklearn.manifold import TSNE\n",
    "import pandas as pd\n",
    "import numpy as np\n",
    "from umap import UMAP\n",
    "import os"
   ]
  },
  {
   "cell_type": "code",
   "execution_count": 3,
   "metadata": {},
   "outputs": [
    {
     "data": {
      "text/html": [
       "<div>\n",
       "<style scoped>\n",
       "    .dataframe tbody tr th:only-of-type {\n",
       "        vertical-align: middle;\n",
       "    }\n",
       "\n",
       "    .dataframe tbody tr th {\n",
       "        vertical-align: top;\n",
       "    }\n",
       "\n",
       "    .dataframe thead th {\n",
       "        text-align: right;\n",
       "    }\n",
       "</style>\n",
       "<table border=\"1\" class=\"dataframe\">\n",
       "  <thead>\n",
       "    <tr style=\"text-align: right;\">\n",
       "      <th></th>\n",
       "      <th>ClassLabel</th>\n",
       "      <th>X01</th>\n",
       "      <th>Y01</th>\n",
       "      <th>Z01</th>\n",
       "      <th>X11</th>\n",
       "      <th>Y11</th>\n",
       "      <th>Z11</th>\n",
       "      <th>X21</th>\n",
       "      <th>Y21</th>\n",
       "      <th>Z21</th>\n",
       "      <th>...</th>\n",
       "      <th>Z6219</th>\n",
       "      <th>X6319</th>\n",
       "      <th>Y6319</th>\n",
       "      <th>Z6319</th>\n",
       "      <th>X6419</th>\n",
       "      <th>Y6419</th>\n",
       "      <th>Z6419</th>\n",
       "      <th>X6519</th>\n",
       "      <th>Y6519</th>\n",
       "      <th>Z6519</th>\n",
       "    </tr>\n",
       "  </thead>\n",
       "  <tbody>\n",
       "    <tr>\n",
       "      <th>0</th>\n",
       "      <td>Boy</td>\n",
       "      <td>1.0</td>\n",
       "      <td>0.547994</td>\n",
       "      <td>0.000000</td>\n",
       "      <td>1.0</td>\n",
       "      <td>0.547994</td>\n",
       "      <td>0.000000</td>\n",
       "      <td>1.0</td>\n",
       "      <td>0.547994</td>\n",
       "      <td>0.000000</td>\n",
       "      <td>...</td>\n",
       "      <td>0.071914</td>\n",
       "      <td>0.272580</td>\n",
       "      <td>0.322938</td>\n",
       "      <td>0.127316</td>\n",
       "      <td>0.228388</td>\n",
       "      <td>0.264486</td>\n",
       "      <td>0.084617</td>\n",
       "      <td>0.265310</td>\n",
       "      <td>0.313749</td>\n",
       "      <td>0.177373</td>\n",
       "    </tr>\n",
       "    <tr>\n",
       "      <th>1</th>\n",
       "      <td>Boy</td>\n",
       "      <td>1.0</td>\n",
       "      <td>0.857104</td>\n",
       "      <td>0.379246</td>\n",
       "      <td>1.0</td>\n",
       "      <td>0.857104</td>\n",
       "      <td>0.379246</td>\n",
       "      <td>1.0</td>\n",
       "      <td>0.857104</td>\n",
       "      <td>0.379246</td>\n",
       "      <td>...</td>\n",
       "      <td>0.265342</td>\n",
       "      <td>0.458347</td>\n",
       "      <td>0.407922</td>\n",
       "      <td>0.230979</td>\n",
       "      <td>0.368018</td>\n",
       "      <td>0.479731</td>\n",
       "      <td>0.278366</td>\n",
       "      <td>0.415877</td>\n",
       "      <td>0.466096</td>\n",
       "      <td>0.319931</td>\n",
       "    </tr>\n",
       "    <tr>\n",
       "      <th>2</th>\n",
       "      <td>Boy</td>\n",
       "      <td>1.0</td>\n",
       "      <td>0.852530</td>\n",
       "      <td>0.358460</td>\n",
       "      <td>1.0</td>\n",
       "      <td>0.852530</td>\n",
       "      <td>0.358460</td>\n",
       "      <td>1.0</td>\n",
       "      <td>0.852530</td>\n",
       "      <td>0.358460</td>\n",
       "      <td>...</td>\n",
       "      <td>0.252582</td>\n",
       "      <td>0.462702</td>\n",
       "      <td>0.409546</td>\n",
       "      <td>0.237752</td>\n",
       "      <td>0.368986</td>\n",
       "      <td>0.483866</td>\n",
       "      <td>0.267000</td>\n",
       "      <td>0.418716</td>\n",
       "      <td>0.471061</td>\n",
       "      <td>0.319184</td>\n",
       "    </tr>\n",
       "    <tr>\n",
       "      <th>3</th>\n",
       "      <td>Boy</td>\n",
       "      <td>1.0</td>\n",
       "      <td>0.778636</td>\n",
       "      <td>0.000000</td>\n",
       "      <td>1.0</td>\n",
       "      <td>0.778636</td>\n",
       "      <td>0.000000</td>\n",
       "      <td>1.0</td>\n",
       "      <td>0.778636</td>\n",
       "      <td>0.000000</td>\n",
       "      <td>...</td>\n",
       "      <td>0.003979</td>\n",
       "      <td>0.426772</td>\n",
       "      <td>0.485623</td>\n",
       "      <td>0.153090</td>\n",
       "      <td>0.321029</td>\n",
       "      <td>0.400402</td>\n",
       "      <td>0.032188</td>\n",
       "      <td>0.410688</td>\n",
       "      <td>0.467018</td>\n",
       "      <td>0.270999</td>\n",
       "    </tr>\n",
       "    <tr>\n",
       "      <th>4</th>\n",
       "      <td>Boy</td>\n",
       "      <td>1.0</td>\n",
       "      <td>0.589883</td>\n",
       "      <td>0.119620</td>\n",
       "      <td>1.0</td>\n",
       "      <td>0.589883</td>\n",
       "      <td>0.119620</td>\n",
       "      <td>1.0</td>\n",
       "      <td>0.589883</td>\n",
       "      <td>0.119620</td>\n",
       "      <td>...</td>\n",
       "      <td>0.380987</td>\n",
       "      <td>0.487479</td>\n",
       "      <td>0.526593</td>\n",
       "      <td>0.386855</td>\n",
       "      <td>0.465436</td>\n",
       "      <td>0.526274</td>\n",
       "      <td>0.390475</td>\n",
       "      <td>0.482003</td>\n",
       "      <td>0.520124</td>\n",
       "      <td>0.418845</td>\n",
       "    </tr>\n",
       "  </tbody>\n",
       "</table>\n",
       "<p>5 rows × 3763 columns</p>\n",
       "</div>"
      ],
      "text/plain": [
       "  ClassLabel  X01       Y01       Z01  X11       Y11       Z11  X21       Y21  \\\n",
       "0        Boy  1.0  0.547994  0.000000  1.0  0.547994  0.000000  1.0  0.547994   \n",
       "1        Boy  1.0  0.857104  0.379246  1.0  0.857104  0.379246  1.0  0.857104   \n",
       "2        Boy  1.0  0.852530  0.358460  1.0  0.852530  0.358460  1.0  0.852530   \n",
       "3        Boy  1.0  0.778636  0.000000  1.0  0.778636  0.000000  1.0  0.778636   \n",
       "4        Boy  1.0  0.589883  0.119620  1.0  0.589883  0.119620  1.0  0.589883   \n",
       "\n",
       "        Z21  ...     Z6219     X6319     Y6319     Z6319     X6419     Y6419  \\\n",
       "0  0.000000  ...  0.071914  0.272580  0.322938  0.127316  0.228388  0.264486   \n",
       "1  0.379246  ...  0.265342  0.458347  0.407922  0.230979  0.368018  0.479731   \n",
       "2  0.358460  ...  0.252582  0.462702  0.409546  0.237752  0.368986  0.483866   \n",
       "3  0.000000  ...  0.003979  0.426772  0.485623  0.153090  0.321029  0.400402   \n",
       "4  0.119620  ...  0.380987  0.487479  0.526593  0.386855  0.465436  0.526274   \n",
       "\n",
       "      Z6419     X6519     Y6519     Z6519  \n",
       "0  0.084617  0.265310  0.313749  0.177373  \n",
       "1  0.278366  0.415877  0.466096  0.319931  \n",
       "2  0.267000  0.418716  0.471061  0.319184  \n",
       "3  0.032188  0.410688  0.467018  0.270999  \n",
       "4  0.390475  0.482003  0.520124  0.418845  \n",
       "\n",
       "[5 rows x 3763 columns]"
      ]
     },
     "execution_count": 3,
     "metadata": {},
     "output_type": "execute_result"
    }
   ],
   "source": [
    "df = pd.read_csv(\"dataset.csv\")\n",
    "df.head()"
   ]
  },
  {
   "cell_type": "code",
   "execution_count": 4,
   "metadata": {},
   "outputs": [],
   "source": [
    "y = df['ClassLabel'].values\n",
    "X = df.iloc[:, 1:].values\n",
    "X_train, X_test, y_train, y_test = train_test_split(\n",
    "    X, y, test_size=0.2, stratify=y)"
   ]
  },
  {
   "cell_type": "code",
   "execution_count": 5,
   "metadata": {},
   "outputs": [],
   "source": [
    "df.fillna(0, inplace=True)"
   ]
  },
  {
   "cell_type": "code",
   "execution_count": 6,
   "metadata": {},
   "outputs": [],
   "source": [
    "le = LabelEncoder()\n",
    "y_train_enc = le.fit_transform(y_train)\n",
    "y_test_enc = le.transform(y_test)\n",
    "\n",
    "le_mapping = dict(zip(le.transform(le.classes_), le.classes_))\n",
    "num_classes = np.unique(y_train_enc).size"
   ]
  },
  {
   "cell_type": "code",
   "execution_count": 7,
   "metadata": {},
   "outputs": [
    {
     "name": "stdout",
     "output_type": "stream",
     "text": [
      "Original X_train size: 2170674\n",
      "Expected size after reshaping: 2170674\n",
      "X_train dimensions before reshaping: (577, 3762)\n"
     ]
    }
   ],
   "source": [
    "print(\"Original X_train size:\", X_train.size)\n",
    "print(\"Expected size after reshaping:\", 577 * 198 * 19 * 1)\n",
    "\n",
    "# Add this line to check the dimensions of X_train before reshaping\n",
    "print(\"X_train dimensions before reshaping:\", X_train.shape)"
   ]
  },
  {
   "cell_type": "code",
   "execution_count": 8,
   "metadata": {},
   "outputs": [],
   "source": [
    "# Model Traiining using CNN\n",
    "\n",
    "import numpy as np\n",
    "from sklearn.preprocessing import MinMaxScaler, LabelEncoder\n",
    "import umap\n",
    "\n"
   ]
  },
  {
   "cell_type": "code",
   "execution_count": 9,
   "metadata": {},
   "outputs": [],
   "source": [
    "mms = MinMaxScaler()\n",
    "X_train_norm = mms.fit_transform(X_train[: , :])\n",
    "X_test_norm = mms.transform(X_test[:, :])\n",
    "\n"
   ]
  },
  {
   "cell_type": "code",
   "execution_count": 10,
   "metadata": {},
   "outputs": [],
   "source": [
    "reducer = umap.UMAP(\n",
    "    n_components=2,\n",
    "    #min_dist=0.8,\n",
    "    metric='cosine',\n",
    "    n_jobs=-1\n",
    ")\n",
    "\n",
    "pixel_size = (224,224)\n",
    "it = ImageTransformer(\n",
    "    feature_extractor=reducer,\n",
    "    pixels=pixel_size)"
   ]
  },
  {
   "cell_type": "code",
   "execution_count": 11,
   "metadata": {},
   "outputs": [
    {
     "name": "stderr",
     "output_type": "stream",
     "text": [
      "c:\\Users\\Mello\\AppData\\Local\\Programs\\Python\\Python311\\Lib\\site-packages\\pyDeepInsight\\image_transformer.py:270: UserWarning: No data for colormapping provided via 'c'. Parameters 'cmap' will be ignored\n",
      "  plt.scatter(x_new[:, 0], x_new[:, 1], s=1,\n"
     ]
    },
    {
     "data": {
      "image/png": "[encoded data removed]",
      "text/plain": [
       "<Figure size 640x480 with 1 Axes>"
      ]
     },
     "metadata": {},
     "output_type": "display_data"
    }
   ],
   "source": [
    "X_train_norm = np.nan_to_num(X_train_norm)\n",
    "X_test_norm = np.nan_to_num(X_test_norm)\n",
    "\n",
    "it.fit(X_train_norm, y=y_train, plot=True)\n",
    "X_train_img = it.transform(X_train_norm)\n",
    "X_test_img = it.transform(X_test_norm)"
   ]
  },
  {
   "cell_type": "code",
   "execution_count": 12,
   "metadata": {},
   "outputs": [],
   "source": [
    "import numpy as np\n",
    "import torch\n",
    "import torchvision.transforms as transforms\n",
    "import timm\n",
    "from torch.utils.data import TensorDataset, DataLoader\n",
    "import torch.nn as nn\n",
    "import torch.optim as optim\n",
    "from sklearn.metrics import accuracy_score\n",
    "\n",
    "from IPython.display import display, clear_output"
   ]
  },
  {
   "cell_type": "code",
   "execution_count": 13,
   "metadata": {},
   "outputs": [],
   "source": [
    "device = torch.device('cuda' if torch.cuda.is_available() else 'cpu')\n",
    "net = timm.create_model('resnet26d', pretrained=True, num_classes=num_classes).to(device)\n",
    "net = net.to(device)"
   ]
  },
  {
   "cell_type": "code",
   "execution_count": 14,
   "metadata": {},
   "outputs": [],
   "source": [
    "batch_size=50\n",
    "preprocess = transforms.Compose([\n",
    "    transforms.ToTensor(),\n",
    "    #transforms.Normalize(mean=net.default_cfg['mean'], std=net.default_cfg['std']),\n",
    "])\n",
    "\n",
    "X_train_tensor = torch.stack([preprocess(img) for img in X_train_img]).float().to(device)\n",
    "y_train_tensor = torch.from_numpy(y_train_enc).to(device)\n",
    "trainset = TensorDataset(X_train_tensor, y_train_tensor)\n",
    "trainloader = DataLoader(trainset, batch_size=batch_size, shuffle=True)\n",
    "\n",
    "X_test_tensor = torch.stack([preprocess(img) for img in X_test_img]).float().to(device)\n",
    "y_test_tensor = torch.from_numpy(y_test_enc).to(device)\n",
    "testset = TensorDataset(X_test_tensor, y_test_tensor)\n",
    "testloader = DataLoader(testset, batch_size=batch_size, shuffle=False)"
   ]
  },
  {
   "cell_type": "code",
   "execution_count": 15,
   "metadata": {},
   "outputs": [],
   "source": [
    "criterion = nn.CrossEntropyLoss()\n",
    "optimizer = optim.SGD(\n",
    "    net.parameters(), \n",
    "    lr=1e-02,\n",
    "    momentum=0.9,\n",
    ")"
   ]
  },
  {
   "cell_type": "code",
   "execution_count": 16,
   "metadata": {},
   "outputs": [
    {
     "data": {
      "text/plain": [
       "'Epoch 001, batch 002'"
      ]
     },
     "metadata": {},
     "output_type": "display_data"
    }
   ],
   "source": [
    "net.train()\n",
    "for epoch in range(15):\n",
    "    for i, (inputs, labels) in enumerate(trainloader):\n",
    "        clear_output(wait=True)\n",
    "        display(f\"Epoch {epoch:03d}, batch {i:03d}\")\n",
    "        optimizer.zero_grad()\n",
    "        outputs = net(inputs)\n",
    "        # Convert labels to Long type\n",
    "        labels = labels.long()\n",
    "        loss = criterion(outputs, labels)\n",
    "        loss.backward()\n",
    "        optimizer.step()"
   ]
  },
  {
   "cell_type": "code",
   "execution_count": null,
   "metadata": {},
   "outputs": [
    {
     "name": "stdout",
     "output_type": "stream",
     "text": [
      "The test accuracy was 0.855\n"
     ]
    }
   ],
   "source": [
    "test_predicted = np.empty(0)\n",
    "test_true = np.empty(0)\n",
    "\n",
    "net.eval()\n",
    "with torch.no_grad():\n",
    "    for i, (inputs, labels) in enumerate(testloader):\n",
    "        pred = torch.max(net(inputs),1)[1].cpu().detach().numpy()\n",
    "        test_predicted = np.append(test_predicted, pred)\n",
    "        test_true = np.append(test_true, labels.cpu().detach().numpy())\n",
    "print(f\"The test accuracy was {accuracy_score(test_predicted, test_true):.3f}\")"
   ]
  },
  {
   "cell_type": "code",
   "execution_count": null,
   "metadata": {},
   "outputs": [],
   "source": [
    "# Save the model as .h5 file\n",
    "net.save('cnn_model_keras2.h5')"
   ]
  }
 ],
 "metadata": {
  "kernelspec": {
   "display_name": "Python 3",
   "language": "python",
   "name": "python3"
  },
  "language_info": {
   "codemirror_mode": {
    "name": "ipython",
    "version": 3
   },
   "file_extension": ".py",
   "mimetype": "text/x-python",
   "name": "python",
   "nbconvert_exporter": "python",
   "pygments_lexer": "ipython3",
   "version": "3.11.4"
  }
 },
 "nbformat": 4,
 "nbformat_minor": 2
}
