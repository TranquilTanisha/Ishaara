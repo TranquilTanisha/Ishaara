{
 "cells": [
  {
   "cell_type": "code",
<<<<<<< HEAD
   "execution_count": 3,
   "metadata": {},
   "outputs": [
    {
     "ename": "ModuleNotFoundError",
     "evalue": "No module named 'pyDeepInsight.utils'",
     "output_type": "error",
     "traceback": [
      "\u001b[1;31m---------------------------------------------------------------------------\u001b[0m",
      "\u001b[1;31mModuleNotFoundError\u001b[0m                       Traceback (most recent call last)",
      "Cell \u001b[1;32mIn[3], line 2\u001b[0m\n\u001b[0;32m      1\u001b[0m \u001b[38;5;28;01mfrom\u001b[39;00m \u001b[38;5;21;01mpyDeepInsight\u001b[39;00m \u001b[38;5;28;01mimport\u001b[39;00m ImageTransformer\n\u001b[1;32m----> 2\u001b[0m \u001b[38;5;28;01mfrom\u001b[39;00m \u001b[38;5;21;01mpyDeepInsight\u001b[39;00m\u001b[38;5;21;01m.\u001b[39;00m\u001b[38;5;21;01mutils\u001b[39;00m \u001b[38;5;28;01mimport\u001b[39;00m Norm2Scaler\n\u001b[0;32m      3\u001b[0m \u001b[38;5;28;01mfrom\u001b[39;00m \u001b[38;5;21;01msklearn\u001b[39;00m\u001b[38;5;21;01m.\u001b[39;00m\u001b[38;5;21;01mmodel_selection\u001b[39;00m \u001b[38;5;28;01mimport\u001b[39;00m train_test_split\n\u001b[0;32m      4\u001b[0m \u001b[38;5;28;01mfrom\u001b[39;00m \u001b[38;5;21;01msklearn\u001b[39;00m\u001b[38;5;21;01m.\u001b[39;00m\u001b[38;5;21;01mpreprocessing\u001b[39;00m \u001b[38;5;28;01mimport\u001b[39;00m LabelEncoder\n",
      "\u001b[1;31mModuleNotFoundError\u001b[0m: No module named 'pyDeepInsight.utils'"
     ]
    }
   ],
=======
   "execution_count": 4,
   "metadata": {},
   "outputs": [],
>>>>>>> 080c194d1dd86d789829787cbf1fb797ea5fc802
   "source": [
    "from pyDeepInsight import ImageTransformer, CAMFeatureSelector\n",
    "\n",
    "import pandas as pd\n",
    "import numpy as np\n",
<<<<<<< HEAD
    "\n",
    "#install pyDeepInsight and umap"
=======
    "from sklearn.model_selection import train_test_split\n",
    "from sklearn.preprocessing import MinMaxScaler, LabelEncoder\n",
    "import umap\n",
    "import torch\n",
    "import torchvision.transforms as transforms\n",
    "import timm\n",
    "from torch.utils.data import TensorDataset, DataLoader\n",
    "import torch.nn as nn\n",
    "import torch.optim as optim\n",
    "from sklearn.metrics import accuracy_score\n",
    "from IPython.display import display, clear_output"
>>>>>>> 080c194d1dd86d789829787cbf1fb797ea5fc802
   ]
  },
  {
   "cell_type": "code",
   "execution_count": 5,
   "metadata": {},
   "outputs": [
    {
     "data": {
      "text/html": [
       "<div>\n",
       "<style scoped>\n",
       "    .dataframe tbody tr th:only-of-type {\n",
       "        vertical-align: middle;\n",
       "    }\n",
       "\n",
       "    .dataframe tbody tr th {\n",
       "        vertical-align: top;\n",
       "    }\n",
       "\n",
       "    .dataframe thead th {\n",
       "        text-align: right;\n",
       "    }\n",
       "</style>\n",
       "<table border=\"1\" class=\"dataframe\">\n",
       "  <thead>\n",
       "    <tr style=\"text-align: right;\">\n",
       "      <th></th>\n",
       "      <th>ClassLabel</th>\n",
       "      <th>X01</th>\n",
       "      <th>Y01</th>\n",
       "      <th>Z01</th>\n",
       "      <th>X11</th>\n",
       "      <th>Y11</th>\n",
       "      <th>Z11</th>\n",
       "      <th>X21</th>\n",
       "      <th>Y21</th>\n",
       "      <th>Z21</th>\n",
       "      <th>...</th>\n",
       "      <th>Z6219</th>\n",
       "      <th>X6319</th>\n",
       "      <th>Y6319</th>\n",
       "      <th>Z6319</th>\n",
       "      <th>X6419</th>\n",
       "      <th>Y6419</th>\n",
       "      <th>Z6419</th>\n",
       "      <th>X6519</th>\n",
       "      <th>Y6519</th>\n",
       "      <th>Z6519</th>\n",
       "    </tr>\n",
       "  </thead>\n",
       "  <tbody>\n",
       "    <tr>\n",
       "      <th>0</th>\n",
       "      <td>Boy</td>\n",
       "      <td>1.0</td>\n",
       "      <td>0.547994</td>\n",
       "      <td>0.000000</td>\n",
       "      <td>1.0</td>\n",
       "      <td>0.547994</td>\n",
       "      <td>0.000000</td>\n",
       "      <td>1.0</td>\n",
       "      <td>0.547994</td>\n",
       "      <td>0.000000</td>\n",
       "      <td>...</td>\n",
       "      <td>0.071914</td>\n",
       "      <td>0.272580</td>\n",
       "      <td>0.322938</td>\n",
       "      <td>0.127316</td>\n",
       "      <td>0.228388</td>\n",
       "      <td>0.264486</td>\n",
       "      <td>0.084617</td>\n",
       "      <td>0.265310</td>\n",
       "      <td>0.313749</td>\n",
       "      <td>0.177373</td>\n",
       "    </tr>\n",
       "    <tr>\n",
       "      <th>1</th>\n",
       "      <td>Boy</td>\n",
       "      <td>1.0</td>\n",
       "      <td>0.857104</td>\n",
       "      <td>0.379246</td>\n",
       "      <td>1.0</td>\n",
       "      <td>0.857104</td>\n",
       "      <td>0.379246</td>\n",
       "      <td>1.0</td>\n",
       "      <td>0.857104</td>\n",
       "      <td>0.379246</td>\n",
       "      <td>...</td>\n",
       "      <td>0.265342</td>\n",
       "      <td>0.458347</td>\n",
       "      <td>0.407922</td>\n",
       "      <td>0.230979</td>\n",
       "      <td>0.368018</td>\n",
       "      <td>0.479731</td>\n",
       "      <td>0.278366</td>\n",
       "      <td>0.415877</td>\n",
       "      <td>0.466096</td>\n",
       "      <td>0.319931</td>\n",
       "    </tr>\n",
       "    <tr>\n",
       "      <th>2</th>\n",
       "      <td>Boy</td>\n",
       "      <td>1.0</td>\n",
       "      <td>0.852530</td>\n",
       "      <td>0.358460</td>\n",
       "      <td>1.0</td>\n",
       "      <td>0.852530</td>\n",
       "      <td>0.358460</td>\n",
       "      <td>1.0</td>\n",
       "      <td>0.852530</td>\n",
       "      <td>0.358460</td>\n",
       "      <td>...</td>\n",
       "      <td>0.252582</td>\n",
       "      <td>0.462702</td>\n",
       "      <td>0.409546</td>\n",
       "      <td>0.237752</td>\n",
       "      <td>0.368986</td>\n",
       "      <td>0.483866</td>\n",
       "      <td>0.267000</td>\n",
       "      <td>0.418716</td>\n",
       "      <td>0.471061</td>\n",
       "      <td>0.319184</td>\n",
       "    </tr>\n",
       "    <tr>\n",
       "      <th>3</th>\n",
       "      <td>Boy</td>\n",
       "      <td>1.0</td>\n",
       "      <td>0.778636</td>\n",
       "      <td>0.000000</td>\n",
       "      <td>1.0</td>\n",
       "      <td>0.778636</td>\n",
       "      <td>0.000000</td>\n",
       "      <td>1.0</td>\n",
       "      <td>0.778636</td>\n",
       "      <td>0.000000</td>\n",
       "      <td>...</td>\n",
       "      <td>0.003979</td>\n",
       "      <td>0.426772</td>\n",
       "      <td>0.485623</td>\n",
       "      <td>0.153090</td>\n",
       "      <td>0.321029</td>\n",
       "      <td>0.400402</td>\n",
       "      <td>0.032188</td>\n",
       "      <td>0.410688</td>\n",
       "      <td>0.467018</td>\n",
       "      <td>0.270999</td>\n",
       "    </tr>\n",
       "    <tr>\n",
       "      <th>4</th>\n",
       "      <td>Boy</td>\n",
       "      <td>1.0</td>\n",
       "      <td>0.589883</td>\n",
       "      <td>0.119620</td>\n",
       "      <td>1.0</td>\n",
       "      <td>0.589883</td>\n",
       "      <td>0.119620</td>\n",
       "      <td>1.0</td>\n",
       "      <td>0.589883</td>\n",
       "      <td>0.119620</td>\n",
       "      <td>...</td>\n",
       "      <td>0.380987</td>\n",
       "      <td>0.487479</td>\n",
       "      <td>0.526593</td>\n",
       "      <td>0.386855</td>\n",
       "      <td>0.465436</td>\n",
       "      <td>0.526274</td>\n",
       "      <td>0.390475</td>\n",
       "      <td>0.482003</td>\n",
       "      <td>0.520124</td>\n",
       "      <td>0.418845</td>\n",
       "    </tr>\n",
       "  </tbody>\n",
       "</table>\n",
       "<p>5 rows × 3763 columns</p>\n",
       "</div>"
      ],
      "text/plain": [
       "  ClassLabel  X01       Y01       Z01  X11       Y11       Z11  X21       Y21  \\\n",
       "0        Boy  1.0  0.547994  0.000000  1.0  0.547994  0.000000  1.0  0.547994   \n",
       "1        Boy  1.0  0.857104  0.379246  1.0  0.857104  0.379246  1.0  0.857104   \n",
       "2        Boy  1.0  0.852530  0.358460  1.0  0.852530  0.358460  1.0  0.852530   \n",
       "3        Boy  1.0  0.778636  0.000000  1.0  0.778636  0.000000  1.0  0.778636   \n",
       "4        Boy  1.0  0.589883  0.119620  1.0  0.589883  0.119620  1.0  0.589883   \n",
       "\n",
       "        Z21  ...     Z6219     X6319     Y6319     Z6319     X6419     Y6419  \\\n",
       "0  0.000000  ...  0.071914  0.272580  0.322938  0.127316  0.228388  0.264486   \n",
       "1  0.379246  ...  0.265342  0.458347  0.407922  0.230979  0.368018  0.479731   \n",
       "2  0.358460  ...  0.252582  0.462702  0.409546  0.237752  0.368986  0.483866   \n",
       "3  0.000000  ...  0.003979  0.426772  0.485623  0.153090  0.321029  0.400402   \n",
       "4  0.119620  ...  0.380987  0.487479  0.526593  0.386855  0.465436  0.526274   \n",
       "\n",
       "      Z6419     X6519     Y6519     Z6519  \n",
       "0  0.084617  0.265310  0.313749  0.177373  \n",
       "1  0.278366  0.415877  0.466096  0.319931  \n",
       "2  0.267000  0.418716  0.471061  0.319184  \n",
       "3  0.032188  0.410688  0.467018  0.270999  \n",
       "4  0.390475  0.482003  0.520124  0.418845  \n",
       "\n",
       "[5 rows x 3763 columns]"
      ]
     },
     "execution_count": 5,
     "metadata": {},
     "output_type": "execute_result"
    }
   ],
   "source": [
    "df = pd.read_csv(\"dataset.csv\")\n",
    "df.head()"
   ]
  },
  {
   "cell_type": "code",
   "execution_count": 6,
   "metadata": {},
   "outputs": [],
   "source": [
    "y = df['ClassLabel'].values\n",
    "X = df.iloc[:, 1:].values\n",
    "X_train, X_test, y_train, y_test = train_test_split(\n",
    "    X, y, test_size=0.2, stratify=y)"
   ]
  },
  {
   "cell_type": "code",
   "execution_count": 7,
   "metadata": {},
   "outputs": [],
   "source": [
    "df.fillna(0, inplace=True)"
   ]
  },
  {
   "cell_type": "code",
   "execution_count": 10,
   "metadata": {},
   "outputs": [
    {
     "name": "stdout",
     "output_type": "stream",
     "text": [
      "{'Boy': 41, 'Can': 38, 'Eat': 32, 'Fine': 35, 'Girl': 29, 'Help': 35, 'How': 38, 'Hungry': 35, 'I': 29, 'Mother': 32, 'Namaste': 24, 'Name': 35, 'Parents': 35, 'Sister': 13, 'Sleep': 35, 'This': 38, 'You': 53}\n"
     ]
    }
   ],
   "source": [
    "le = LabelEncoder()\n",
    "y_train_enc = le.fit_transform(y_train)\n",
    "y_test_enc = le.transform(y_test)\n",
    "\n",
    "le_mapping = dict(zip(le.transform(le.classes_), le.classes_))\n",
    "num_classes = np.unique(y_train_enc).size\n",
    "#print count of words in each class\n",
    "print({le_mapping[i]: (y_train_enc == i).sum() for i in range(num_classes)})\n"
   ]
  },
  {
   "cell_type": "code",
   "execution_count": 8,
   "metadata": {},
   "outputs": [],
   "source": [
    "mms = MinMaxScaler()\n",
    "X_train_norm = mms.fit_transform(X_train[: , :])\n",
    "X_test_norm = mms.transform(X_test[:, :])\n",
    "\n"
   ]
  },
  {
   "cell_type": "code",
   "execution_count": 9,
   "metadata": {},
   "outputs": [],
   "source": [
    "reducer = umap.UMAP(\n",
    "    n_components=2,\n",
    "    #min_dist=0.8,\n",
    "    metric='cosine',\n",
    "    n_jobs=-1\n",
    ")\n",
    "\n",
    "pixel_size = (224,224)\n",
    "it = ImageTransformer(\n",
    "    feature_extractor=reducer,\n",
    "    pixels=pixel_size)"
   ]
  },
  {
   "cell_type": "code",
   "execution_count": 10,
   "metadata": {},
   "outputs": [
    {
     "name": "stderr",
     "output_type": "stream",
     "text": [
      "c:\\Users\\Mello\\AppData\\Local\\Programs\\Python\\Python311\\Lib\\site-packages\\pyDeepInsight\\image_transformer.py:270: UserWarning: No data for colormapping provided via 'c'. Parameters 'cmap' will be ignored\n",
      "  plt.scatter(x_new[:, 0], x_new[:, 1], s=1,\n"
     ]
    },
    {
     "data": {
      "image/png": "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",
      "text/plain": [
       "<Figure size 640x480 with 1 Axes>"
      ]
     },
     "metadata": {},
     "output_type": "display_data"
    }
   ],
   "source": [
    "X_train_norm = np.nan_to_num(X_train_norm)\n",
    "X_test_norm = np.nan_to_num(X_test_norm)\n",
    "\n",
    "it.fit(X_train_norm, y=y_train, plot=True)\n",
    "X_train_img = it.transform(X_train_norm)\n",
    "X_test_img = it.transform(X_test_norm)"
   ]
  },
  {
   "cell_type": "code",
   "execution_count": 12,
   "metadata": {},
   "outputs": [],
   "source": [
    "device = torch.device('cuda' if torch.cuda.is_available() else 'cpu')\n",
    "net = timm.create_model('resnet26d', pretrained=True, num_classes=num_classes).to(device)\n",
    "net = net.to(device)"
   ]
  },
  {
   "cell_type": "code",
   "execution_count": 13,
   "metadata": {},
   "outputs": [],
   "source": [
    "batch_size=50\n",
    "preprocess = transforms.Compose([\n",
    "    transforms.ToTensor(),\n",
    "    #transforms.Normalize(mean=net.default_cfg['mean'], std=net.default_cfg['std']),\n",
    "])\n",
    "\n",
    "X_train_tensor = torch.stack([preprocess(img) for img in X_train_img]).float().to(device)\n",
    "y_train_tensor = torch.from_numpy(y_train_enc).to(device)\n",
    "trainset = TensorDataset(X_train_tensor, y_train_tensor)\n",
    "trainloader = DataLoader(trainset, batch_size=batch_size, shuffle=True)\n",
    "\n",
    "X_test_tensor = torch.stack([preprocess(img) for img in X_test_img]).float().to(device)\n",
    "y_test_tensor = torch.from_numpy(y_test_enc).to(device)\n",
    "testset = TensorDataset(X_test_tensor, y_test_tensor)\n",
    "testloader = DataLoader(testset, batch_size=batch_size, shuffle=False)"
   ]
  },
  {
   "cell_type": "code",
   "execution_count": 14,
   "metadata": {},
   "outputs": [],
   "source": [
    "criterion = nn.CrossEntropyLoss()\n",
    "optimizer = optim.SGD(\n",
    "    net.parameters(), \n",
    "    lr=1e-02,\n",
    "    momentum=0.9,\n",
    ")"
   ]
  },
  {
   "cell_type": "code",
   "execution_count": 18,
   "metadata": {},
   "outputs": [
    {
     "data": {
      "text/plain": [
       "'Epoch 019, batch 011'"
      ]
     },
     "metadata": {},
     "output_type": "display_data"
    }
   ],
   "source": [
    "net.train()\n",
    "for epoch in range(20):\n",
    "    for i, (inputs, labels) in enumerate(trainloader):\n",
    "        clear_output(wait=True)\n",
    "        display(f\"Epoch {epoch:03d}, batch {i:03d}\")\n",
    "        optimizer.zero_grad()\n",
    "        outputs = net(inputs)\n",
    "        # Convert labels to Long type\n",
    "        labels = labels.long()\n",
    "        loss = criterion(outputs, labels)\n",
    "        loss.backward()\n",
    "        optimizer.step()"
   ]
  },
  {
   "cell_type": "code",
   "execution_count": 19,
   "metadata": {},
   "outputs": [
    {
     "name": "stdout",
     "output_type": "stream",
     "text": [
      "The test accuracy was 0.821\n"
     ]
    }
   ],
   "source": [
    "test_predicted = np.empty(0)\n",
    "test_true = np.empty(0)\n",
    "\n",
    "net.eval()\n",
    "with torch.no_grad():\n",
    "    for i, (inputs, labels) in enumerate(testloader):\n",
    "        pred = torch.max(net(inputs),1)[1].cpu().detach().numpy()\n",
    "        test_predicted = np.append(test_predicted, pred)\n",
    "        test_true = np.append(test_true, labels.cpu().detach().numpy())\n",
    "print(f\"The test accuracy was {accuracy_score(test_predicted, test_true):.3f}\")"
   ]
  },
  {
   "cell_type": "code",
   "execution_count": 23,
   "metadata": {},
   "outputs": [
    {
     "name": "stdout",
     "output_type": "stream",
     "text": [
      "Saved the entire model to 'cnn_model_keras2.pth'\n"
     ]
    }
   ],
   "source": [
    "torch.save(net, 'cnn_model_keras2.pth')\n",
    "print(\"Saved the entire model to 'cnn_model_keras2.pth'\")"
   ]
  },
  {
   "cell_type": "code",
   "execution_count": 20,
   "metadata": {},
   "outputs": [
    {
     "ename": "AttributeError",
     "evalue": "'ResNet' object has no attribute 'save'",
     "output_type": "error",
     "traceback": [
      "\u001b[1;31m---------------------------------------------------------------------------\u001b[0m",
      "\u001b[1;31mAttributeError\u001b[0m                            Traceback (most recent call last)",
      "Cell \u001b[1;32mIn[20], line 1\u001b[0m\n\u001b[1;32m----> 1\u001b[0m \u001b[43mnet\u001b[49m\u001b[38;5;241;43m.\u001b[39;49m\u001b[43msave\u001b[49m(\u001b[38;5;124m\"\u001b[39m\u001b[38;5;124mdeep_insight.h5\u001b[39m\u001b[38;5;124m\"\u001b[39m)\n\u001b[0;32m      2\u001b[0m \u001b[38;5;28mprint\u001b[39m(\u001b[38;5;124m\"\u001b[39m\u001b[38;5;124mSaved model to disk\u001b[39m\u001b[38;5;124m\"\u001b[39m)\n",
      "File \u001b[1;32mc:\\Users\\Mello\\AppData\\Local\\Programs\\Python\\Python311\\Lib\\site-packages\\torch\\nn\\modules\\module.py:1614\u001b[0m, in \u001b[0;36mModule.__getattr__\u001b[1;34m(self, name)\u001b[0m\n\u001b[0;32m   1612\u001b[0m     \u001b[38;5;28;01mif\u001b[39;00m name \u001b[38;5;129;01min\u001b[39;00m modules:\n\u001b[0;32m   1613\u001b[0m         \u001b[38;5;28;01mreturn\u001b[39;00m modules[name]\n\u001b[1;32m-> 1614\u001b[0m \u001b[38;5;28;01mraise\u001b[39;00m \u001b[38;5;167;01mAttributeError\u001b[39;00m(\u001b[38;5;124m\"\u001b[39m\u001b[38;5;124m'\u001b[39m\u001b[38;5;132;01m{}\u001b[39;00m\u001b[38;5;124m'\u001b[39m\u001b[38;5;124m object has no attribute \u001b[39m\u001b[38;5;124m'\u001b[39m\u001b[38;5;132;01m{}\u001b[39;00m\u001b[38;5;124m'\u001b[39m\u001b[38;5;124m\"\u001b[39m\u001b[38;5;241m.\u001b[39mformat(\n\u001b[0;32m   1615\u001b[0m     \u001b[38;5;28mtype\u001b[39m(\u001b[38;5;28mself\u001b[39m)\u001b[38;5;241m.\u001b[39m\u001b[38;5;18m__name__\u001b[39m, name))\n",
      "\u001b[1;31mAttributeError\u001b[0m: 'ResNet' object has no attribute 'save'"
     ]
    }
   ],
   "source": []
  },
  {
   "cell_type": "code",
   "execution_count": 2,
   "metadata": {},
   "outputs": [
    {
     "name": "stderr",
     "output_type": "stream",
     "text": [
      "c:\\Users\\Mello\\AppData\\Local\\Programs\\Python\\Python311\\Lib\\site-packages\\tqdm\\auto.py:21: TqdmWarning: IProgress not found. Please update jupyter and ipywidgets. See https://ipywidgets.readthedocs.io/en/stable/user_install.html\n",
      "  from .autonotebook import tqdm as notebook_tqdm\n"
     ]
    },
    {
     "data": {
      "text/plain": [
       "ResNet(\n",
       "  (conv1): Sequential(\n",
       "    (0): Conv2d(3, 32, kernel_size=(3, 3), stride=(2, 2), padding=(1, 1), bias=False)\n",
       "    (1): BatchNorm2d(32, eps=1e-05, momentum=0.1, affine=True, track_running_stats=True)\n",
       "    (2): ReLU(inplace=True)\n",
       "    (3): Conv2d(32, 32, kernel_size=(3, 3), stride=(1, 1), padding=(1, 1), bias=False)\n",
       "    (4): BatchNorm2d(32, eps=1e-05, momentum=0.1, affine=True, track_running_stats=True)\n",
       "    (5): ReLU(inplace=True)\n",
       "    (6): Conv2d(32, 64, kernel_size=(3, 3), stride=(1, 1), padding=(1, 1), bias=False)\n",
       "  )\n",
       "  (bn1): BatchNorm2d(64, eps=1e-05, momentum=0.1, affine=True, track_running_stats=True)\n",
       "  (act1): ReLU(inplace=True)\n",
       "  (maxpool): MaxPool2d(kernel_size=3, stride=2, padding=1, dilation=1, ceil_mode=False)\n",
       "  (layer1): Sequential(\n",
       "    (0): Bottleneck(\n",
       "      (conv1): Conv2d(64, 64, kernel_size=(1, 1), stride=(1, 1), bias=False)\n",
       "      (bn1): BatchNorm2d(64, eps=1e-05, momentum=0.1, affine=True, track_running_stats=True)\n",
       "      (act1): ReLU(inplace=True)\n",
       "      (conv2): Conv2d(64, 64, kernel_size=(3, 3), stride=(1, 1), padding=(1, 1), bias=False)\n",
       "      (bn2): BatchNorm2d(64, eps=1e-05, momentum=0.1, affine=True, track_running_stats=True)\n",
       "      (drop_block): Identity()\n",
       "      (act2): ReLU(inplace=True)\n",
       "      (aa): Identity()\n",
       "      (conv3): Conv2d(64, 256, kernel_size=(1, 1), stride=(1, 1), bias=False)\n",
       "      (bn3): BatchNorm2d(256, eps=1e-05, momentum=0.1, affine=True, track_running_stats=True)\n",
       "      (act3): ReLU(inplace=True)\n",
       "      (downsample): Sequential(\n",
       "        (0): Identity()\n",
       "        (1): Conv2d(64, 256, kernel_size=(1, 1), stride=(1, 1), bias=False)\n",
       "        (2): BatchNorm2d(256, eps=1e-05, momentum=0.1, affine=True, track_running_stats=True)\n",
       "      )\n",
       "    )\n",
       "    (1): Bottleneck(\n",
       "      (conv1): Conv2d(256, 64, kernel_size=(1, 1), stride=(1, 1), bias=False)\n",
       "      (bn1): BatchNorm2d(64, eps=1e-05, momentum=0.1, affine=True, track_running_stats=True)\n",
       "      (act1): ReLU(inplace=True)\n",
       "      (conv2): Conv2d(64, 64, kernel_size=(3, 3), stride=(1, 1), padding=(1, 1), bias=False)\n",
       "      (bn2): BatchNorm2d(64, eps=1e-05, momentum=0.1, affine=True, track_running_stats=True)\n",
       "      (drop_block): Identity()\n",
       "      (act2): ReLU(inplace=True)\n",
       "      (aa): Identity()\n",
       "      (conv3): Conv2d(64, 256, kernel_size=(1, 1), stride=(1, 1), bias=False)\n",
       "      (bn3): BatchNorm2d(256, eps=1e-05, momentum=0.1, affine=True, track_running_stats=True)\n",
       "      (act3): ReLU(inplace=True)\n",
       "    )\n",
       "  )\n",
       "  (layer2): Sequential(\n",
       "    (0): Bottleneck(\n",
       "      (conv1): Conv2d(256, 128, kernel_size=(1, 1), stride=(1, 1), bias=False)\n",
       "      (bn1): BatchNorm2d(128, eps=1e-05, momentum=0.1, affine=True, track_running_stats=True)\n",
       "      (act1): ReLU(inplace=True)\n",
       "      (conv2): Conv2d(128, 128, kernel_size=(3, 3), stride=(2, 2), padding=(1, 1), bias=False)\n",
       "      (bn2): BatchNorm2d(128, eps=1e-05, momentum=0.1, affine=True, track_running_stats=True)\n",
       "      (drop_block): Identity()\n",
       "      (act2): ReLU(inplace=True)\n",
       "      (aa): Identity()\n",
       "      (conv3): Conv2d(128, 512, kernel_size=(1, 1), stride=(1, 1), bias=False)\n",
       "      (bn3): BatchNorm2d(512, eps=1e-05, momentum=0.1, affine=True, track_running_stats=True)\n",
       "      (act3): ReLU(inplace=True)\n",
       "      (downsample): Sequential(\n",
       "        (0): AvgPool2d(kernel_size=2, stride=2, padding=0)\n",
       "        (1): Conv2d(256, 512, kernel_size=(1, 1), stride=(1, 1), bias=False)\n",
       "        (2): BatchNorm2d(512, eps=1e-05, momentum=0.1, affine=True, track_running_stats=True)\n",
       "      )\n",
       "    )\n",
       "    (1): Bottleneck(\n",
       "      (conv1): Conv2d(512, 128, kernel_size=(1, 1), stride=(1, 1), bias=False)\n",
       "      (bn1): BatchNorm2d(128, eps=1e-05, momentum=0.1, affine=True, track_running_stats=True)\n",
       "      (act1): ReLU(inplace=True)\n",
       "      (conv2): Conv2d(128, 128, kernel_size=(3, 3), stride=(1, 1), padding=(1, 1), bias=False)\n",
       "      (bn2): BatchNorm2d(128, eps=1e-05, momentum=0.1, affine=True, track_running_stats=True)\n",
       "      (drop_block): Identity()\n",
       "      (act2): ReLU(inplace=True)\n",
       "      (aa): Identity()\n",
       "      (conv3): Conv2d(128, 512, kernel_size=(1, 1), stride=(1, 1), bias=False)\n",
       "      (bn3): BatchNorm2d(512, eps=1e-05, momentum=0.1, affine=True, track_running_stats=True)\n",
       "      (act3): ReLU(inplace=True)\n",
       "    )\n",
       "  )\n",
       "  (layer3): Sequential(\n",
       "    (0): Bottleneck(\n",
       "      (conv1): Conv2d(512, 256, kernel_size=(1, 1), stride=(1, 1), bias=False)\n",
       "      (bn1): BatchNorm2d(256, eps=1e-05, momentum=0.1, affine=True, track_running_stats=True)\n",
       "      (act1): ReLU(inplace=True)\n",
       "      (conv2): Conv2d(256, 256, kernel_size=(3, 3), stride=(2, 2), padding=(1, 1), bias=False)\n",
       "      (bn2): BatchNorm2d(256, eps=1e-05, momentum=0.1, affine=True, track_running_stats=True)\n",
       "      (drop_block): Identity()\n",
       "      (act2): ReLU(inplace=True)\n",
       "      (aa): Identity()\n",
       "      (conv3): Conv2d(256, 1024, kernel_size=(1, 1), stride=(1, 1), bias=False)\n",
       "      (bn3): BatchNorm2d(1024, eps=1e-05, momentum=0.1, affine=True, track_running_stats=True)\n",
       "      (act3): ReLU(inplace=True)\n",
       "      (downsample): Sequential(\n",
       "        (0): AvgPool2d(kernel_size=2, stride=2, padding=0)\n",
       "        (1): Conv2d(512, 1024, kernel_size=(1, 1), stride=(1, 1), bias=False)\n",
       "        (2): BatchNorm2d(1024, eps=1e-05, momentum=0.1, affine=True, track_running_stats=True)\n",
       "      )\n",
       "    )\n",
       "    (1): Bottleneck(\n",
       "      (conv1): Conv2d(1024, 256, kernel_size=(1, 1), stride=(1, 1), bias=False)\n",
       "      (bn1): BatchNorm2d(256, eps=1e-05, momentum=0.1, affine=True, track_running_stats=True)\n",
       "      (act1): ReLU(inplace=True)\n",
       "      (conv2): Conv2d(256, 256, kernel_size=(3, 3), stride=(1, 1), padding=(1, 1), bias=False)\n",
       "      (bn2): BatchNorm2d(256, eps=1e-05, momentum=0.1, affine=True, track_running_stats=True)\n",
       "      (drop_block): Identity()\n",
       "      (act2): ReLU(inplace=True)\n",
       "      (aa): Identity()\n",
       "      (conv3): Conv2d(256, 1024, kernel_size=(1, 1), stride=(1, 1), bias=False)\n",
       "      (bn3): BatchNorm2d(1024, eps=1e-05, momentum=0.1, affine=True, track_running_stats=True)\n",
       "      (act3): ReLU(inplace=True)\n",
       "    )\n",
       "  )\n",
       "  (layer4): Sequential(\n",
       "    (0): Bottleneck(\n",
       "      (conv1): Conv2d(1024, 512, kernel_size=(1, 1), stride=(1, 1), bias=False)\n",
       "      (bn1): BatchNorm2d(512, eps=1e-05, momentum=0.1, affine=True, track_running_stats=True)\n",
       "      (act1): ReLU(inplace=True)\n",
       "      (conv2): Conv2d(512, 512, kernel_size=(3, 3), stride=(2, 2), padding=(1, 1), bias=False)\n",
       "      (bn2): BatchNorm2d(512, eps=1e-05, momentum=0.1, affine=True, track_running_stats=True)\n",
       "      (drop_block): Identity()\n",
       "      (act2): ReLU(inplace=True)\n",
       "      (aa): Identity()\n",
       "      (conv3): Conv2d(512, 2048, kernel_size=(1, 1), stride=(1, 1), bias=False)\n",
       "      (bn3): BatchNorm2d(2048, eps=1e-05, momentum=0.1, affine=True, track_running_stats=True)\n",
       "      (act3): ReLU(inplace=True)\n",
       "      (downsample): Sequential(\n",
       "        (0): AvgPool2d(kernel_size=2, stride=2, padding=0)\n",
       "        (1): Conv2d(1024, 2048, kernel_size=(1, 1), stride=(1, 1), bias=False)\n",
       "        (2): BatchNorm2d(2048, eps=1e-05, momentum=0.1, affine=True, track_running_stats=True)\n",
       "      )\n",
       "    )\n",
       "    (1): Bottleneck(\n",
       "      (conv1): Conv2d(2048, 512, kernel_size=(1, 1), stride=(1, 1), bias=False)\n",
       "      (bn1): BatchNorm2d(512, eps=1e-05, momentum=0.1, affine=True, track_running_stats=True)\n",
       "      (act1): ReLU(inplace=True)\n",
       "      (conv2): Conv2d(512, 512, kernel_size=(3, 3), stride=(1, 1), padding=(1, 1), bias=False)\n",
       "      (bn2): BatchNorm2d(512, eps=1e-05, momentum=0.1, affine=True, track_running_stats=True)\n",
       "      (drop_block): Identity()\n",
       "      (act2): ReLU(inplace=True)\n",
       "      (aa): Identity()\n",
       "      (conv3): Conv2d(512, 2048, kernel_size=(1, 1), stride=(1, 1), bias=False)\n",
       "      (bn3): BatchNorm2d(2048, eps=1e-05, momentum=0.1, affine=True, track_running_stats=True)\n",
       "      (act3): ReLU(inplace=True)\n",
       "    )\n",
       "  )\n",
       "  (global_pool): SelectAdaptivePool2d(pool_type=avg, flatten=Flatten(start_dim=1, end_dim=-1))\n",
       "  (fc): Linear(in_features=2048, out_features=17, bias=True)\n",
       ")"
      ]
     },
     "execution_count": 2,
     "metadata": {},
     "output_type": "execute_result"
    }
   ],
   "source": [
    "import torch\n",
    "\n",
    "model = torch.load('cnn_model_keras2.pth')\n",
    "model.eval()"
   ]
  },
  {
   "cell_type": "code",
   "execution_count": null,
   "metadata": {},
   "outputs": [],
   "source": [
    "input_data = X_test_tensor[0].unsqueeze(0)"
   ]
  }
 ],
 "metadata": {
  "kernelspec": {
   "display_name": "Python 3",
   "language": "python",
   "name": "python3"
  },
  "language_info": {
   "codemirror_mode": {
    "name": "ipython",
    "version": 3
   },
   "file_extension": ".py",
   "mimetype": "text/x-python",
   "name": "python",
   "nbconvert_exporter": "python",
   "pygments_lexer": "ipython3",
   "version": "3.11.2"
  }
 },
 "nbformat": 4,
 "nbformat_minor": 2
}
