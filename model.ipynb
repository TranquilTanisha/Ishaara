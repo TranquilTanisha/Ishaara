{
 "cells": [
  {
   "cell_type": "code",
   "execution_count": 30,
   "metadata": {},
   "outputs": [],
   "source": [
    "import numpy as np\n",
    "import pandas as pd\n",
    "\n",
    "from sklearn.model_selection import train_test_split\n",
    "from tensorflow.keras import layers, models\n",
    "from tensorflow.keras.utils import to_categorical"
   ]
  },
  {
   "cell_type": "code",
   "execution_count": 4,
   "metadata": {},
   "outputs": [],
   "source": [
    "from tensorflow.keras.models import Sequential\n",
    "from tensorflow.keras.layers import Dense, Dropout, Flatten, Conv2D, MaxPooling2D, LSTM"
   ]
  },
  {
   "cell_type": "code",
   "execution_count": 5,
   "metadata": {},
   "outputs": [
    {
     "data": {
      "text/plain": [
       "{'Boy': 0,\n",
       " 'Can': 1,\n",
       " 'Eat': 2,\n",
       " 'Fine': 3,\n",
       " 'Girl': 4,\n",
       " 'Help': 5,\n",
       " 'How': 6,\n",
       " 'Hungry': 7,\n",
       " 'I': 8,\n",
       " 'Mother': 9,\n",
       " 'Namaste': 10,\n",
       " 'Name': 11,\n",
       " 'Parents': 12,\n",
       " 'Sister': 13,\n",
       " 'Sleep': 14,\n",
       " 'This': 15,\n",
       " 'You': 16}"
      ]
     },
     "execution_count": 5,
     "metadata": {},
     "output_type": "execute_result"
    }
   ],
   "source": [
    "import json\n",
    "with open('data.json', 'r') as f:\n",
    "    labels = json.load(f)\n",
    "labels"
   ]
  },
  {
   "cell_type": "code",
   "execution_count": 127,
   "metadata": {},
   "outputs": [
    {
     "data": {
      "text/plain": [
       "1"
      ]
     },
     "execution_count": 127,
     "metadata": {},
     "output_type": "execute_result"
    }
   ],
   "source": [
    "import json\n",
    "with open('length.json', 'r') as f:\n",
    "    labels = json.load(f)\n",
    "len(labels['0'][0])"
   ]
  },
  {
   "cell_type": "code",
   "execution_count": 6,
   "metadata": {},
   "outputs": [
    {
     "data": {
      "text/plain": [
       "['Boy',\n",
       " 'Can',\n",
       " 'Eat',\n",
       " 'Fine',\n",
       " 'Girl',\n",
       " 'Help',\n",
       " 'How',\n",
       " 'Hungry',\n",
       " 'I',\n",
       " 'Mother',\n",
       " 'Namaste',\n",
       " 'Name',\n",
       " 'Parents',\n",
       " 'Sister',\n",
       " 'Sleep',\n",
       " 'This',\n",
       " 'You']"
      ]
     },
     "execution_count": 6,
     "metadata": {},
     "output_type": "execute_result"
    }
   ],
   "source": [
    "f=open('words.txt','r')\n",
    "words=f.read().split('\\n')\n",
    "words"
   ]
  },
  {
   "cell_type": "code",
   "execution_count": 83,
   "metadata": {},
   "outputs": [
    {
     "data": {
      "text/html": [
       "<div>\n",
       "<style scoped>\n",
       "    .dataframe tbody tr th:only-of-type {\n",
       "        vertical-align: middle;\n",
       "    }\n",
       "\n",
       "    .dataframe tbody tr th {\n",
       "        vertical-align: top;\n",
       "    }\n",
       "\n",
       "    .dataframe thead th {\n",
       "        text-align: right;\n",
       "    }\n",
       "</style>\n",
       "<table border=\"1\" class=\"dataframe\">\n",
       "  <thead>\n",
       "    <tr style=\"text-align: right;\">\n",
       "      <th></th>\n",
       "      <th>Landmarks</th>\n",
       "      <th>Length</th>\n",
       "    </tr>\n",
       "  </thead>\n",
       "  <tbody>\n",
       "    <tr>\n",
       "      <th>0</th>\n",
       "      <td>[-0.2904878  -0.16641041 -0.09852826 ... -0.39...</td>\n",
       "      <td>4356</td>\n",
       "    </tr>\n",
       "    <tr>\n",
       "      <th>1</th>\n",
       "      <td>[-1.14277988 -1.14277988 -1.14277988 ... -0.49...</td>\n",
       "      <td>4752</td>\n",
       "    </tr>\n",
       "    <tr>\n",
       "      <th>2</th>\n",
       "      <td>[-1.06837073 -1.06837073 -1.06837073 ... -0.42...</td>\n",
       "      <td>4752</td>\n",
       "    </tr>\n",
       "    <tr>\n",
       "      <th>3</th>\n",
       "      <td>[-0.22918894 -0.11131902 -0.05098939 ... -0.71...</td>\n",
       "      <td>4356</td>\n",
       "    </tr>\n",
       "    <tr>\n",
       "      <th>4</th>\n",
       "      <td>[-0.87611416 -0.80004271 -0.7496262  ... -0.14...</td>\n",
       "      <td>4356</td>\n",
       "    </tr>\n",
       "  </tbody>\n",
       "</table>\n",
       "</div>"
      ],
      "text/plain": [
       "                                           Landmarks  Length\n",
       "0  [-0.2904878  -0.16641041 -0.09852826 ... -0.39...    4356\n",
       "1  [-1.14277988 -1.14277988 -1.14277988 ... -0.49...    4752\n",
       "2  [-1.06837073 -1.06837073 -1.06837073 ... -0.42...    4752\n",
       "3  [-0.22918894 -0.11131902 -0.05098939 ... -0.71...    4356\n",
       "4  [-0.87611416 -0.80004271 -0.7496262  ... -0.14...    4356"
      ]
     },
     "execution_count": 83,
     "metadata": {},
     "output_type": "execute_result"
    }
   ],
   "source": [
    "X=pd.read_csv('landmarks.csv')\n",
    "X.head()"
   ]
  },
  {
   "cell_type": "code",
   "execution_count": 84,
   "metadata": {},
   "outputs": [
    {
     "data": {
      "text/plain": [
       "(722, 2)"
      ]
     },
     "execution_count": 84,
     "metadata": {},
     "output_type": "execute_result"
    }
   ],
   "source": [
    "X.shape"
   ]
  },
  {
   "cell_type": "code",
   "execution_count": 33,
   "metadata": {},
   "outputs": [
    {
     "data": {
      "text/plain": [
       "pandas.core.frame.DataFrame"
      ]
     },
     "execution_count": 33,
     "metadata": {},
     "output_type": "execute_result"
    }
   ],
   "source": [
    "type(X)"
   ]
  },
  {
   "cell_type": "code",
   "execution_count": 35,
   "metadata": {},
   "outputs": [
    {
     "data": {
      "text/plain": [
       "array([4356, 4752, 4752, 4356, 4356, 4158, 4158, 4158, 3960, 3366, 3564,\n",
       "       3366, 3960, 3762, 3762, 3762, 4356, 3762, 3762, 3762, 4158, 3564,\n",
       "       3564, 3564, 3366, 3366, 3762, 3564, 3564, 3564, 3564, 3564, 3366,\n",
       "       3366, 3366, 3366, 4752, 4752, 4752, 4752, 3762, 3366, 3366, 3564,\n",
       "       3564, 3762, 3762, 3564, 4158, 3960, 3960, 4158, 4752, 4752, 4752,\n",
       "       3564, 3960, 3960, 3564, 4950, 5148, 5148, 4950, 2772, 3762, 3762,\n",
       "       3168, 5346, 5742, 5742, 5346, 3564, 3960, 3960, 3762, 3960, 4356,\n",
       "       4356, 4554, 5346, 5346, 5148, 4554, 4554, 4554, 3564, 3564, 3366,\n",
       "       3960, 3960, 3762, 4752, 4752, 4752, 4752, 4356, 4158, 4356, 4356,\n",
       "       4158, 4158, 4158, 3960, 5148, 5346, 5346, 5148, 4158, 4158, 4158,\n",
       "       4158, 5148, 4950, 5148, 4950, 4356, 4554, 4554, 4554, 4554, 4752,\n",
       "       4752, 4554, 4950, 5148, 5148, 4752, 4950, 4752, 4752, 4950, 4554,\n",
       "       4752, 5148, 4554, 4356, 4158, 4356, 4356, 3564, 3564, 3762, 3564,\n",
       "       4356, 4158, 4356, 4356, 4950, 4752, 4950, 4950, 3564, 3564, 3762,\n",
       "       3564, 4158, 3762, 3960, 3960, 3366, 3564, 3564, 3564, 4158, 4356,\n",
       "       4158, 3960, 4158, 3960, 4158, 4356, 4158, 3960, 3960, 3564, 4158,\n",
       "       4158, 4158, 3960, 3960, 3762, 3960, 3762, 4554, 4554, 4554, 4554,\n",
       "       4356, 4752, 4752, 4554, 4158, 4158, 4158, 4158, 2970, 4158, 4158,\n",
       "       3960, 4752, 4752, 4752, 4752, 4158, 4356, 4356, 4356, 4554, 4554,\n",
       "       4554, 4554, 4554, 4554, 4356, 4356, 4356, 4356, 4356, 4356, 2970,\n",
       "       3366, 3366, 3564, 3366, 3960, 3960, 3564, 2376, 3366, 3366, 2970,\n",
       "       3168, 3366, 3366, 3564, 4158, 3960, 3960, 3960, 3762, 3366, 3564,\n",
       "       3960, 3960, 3960, 3960, 4356, 4356, 3960, 4158, 4356, 4356, 3564,\n",
       "       3564, 3762, 3960, 4158, 4158, 4158, 3960, 3960, 3960, 4356, 4158,\n",
       "       4158, 4356, 3960, 4752, 4554, 4752, 4554, 4356, 4356, 4554, 4356,\n",
       "       3762, 3960, 3762, 4950, 5148, 5148, 4950, 4356, 4356, 4356, 4158,\n",
       "       4158, 4356, 4356, 4158, 3960, 4158, 4158, 3960, 3762, 3366, 3366,\n",
       "       3762, 3366, 3168, 3168, 3366, 4950, 4950, 4950, 4950, 4158, 4158,\n",
       "       4158, 4158, 3366, 4356, 4356, 3960, 4158, 4158, 4158, 3960, 4752,\n",
       "       4752, 4950, 4752, 4950, 4950, 4950, 4752, 4158, 4356, 4356, 4356,\n",
       "       4554, 4554, 4554, 4356, 4554, 4554, 4356, 3960, 4158, 3960, 4356,\n",
       "       4554, 4554, 4158, 4158, 4158, 4554, 4554, 4554, 4554, 4356, 4356,\n",
       "       4356, 4356, 4158, 3960, 3762, 3960, 3960, 4752, 4752, 4752, 4950,\n",
       "       4752, 4950, 5346, 5346, 5346, 4950, 4950, 4950, 4356, 4554, 4554,\n",
       "       4554, 4554, 4752, 4752, 4554, 3960, 4356, 4356, 4356, 4554, 4554,\n",
       "       4554, 4356, 4158, 4158, 4158, 4950, 4950, 4950, 4950, 4158, 4356,\n",
       "       4356, 4356, 4554, 4752, 4752, 4752, 4158, 4356, 4356, 4356, 4158,\n",
       "       4356, 4356, 4356, 4356, 4554, 4554, 4554, 4356, 4356, 4356, 4158,\n",
       "       4158, 4158, 4554, 4554, 4554, 4554, 4554, 4554, 3564, 4158, 4158,\n",
       "       4158, 3564, 4158, 4158, 4158, 4554, 4554, 4554, 4554, 4158, 4356,\n",
       "       4356, 4158, 4554, 4752, 4752, 4554, 3960, 4158, 4158, 4158, 4752,\n",
       "       4752, 4950, 4752, 4158, 4356, 4356, 4158, 4356, 4554, 4356, 4356,\n",
       "       4554, 4356, 4158, 4158, 4158, 4356, 4356, 4356, 4356, 4356, 4356,\n",
       "       4158, 4356, 4356, 4356, 4356, 4356, 4554, 4554, 4554, 3762, 3960,\n",
       "       3960, 3960, 4356, 4356, 4554, 4554, 3960, 3960, 4158, 4158, 3366,\n",
       "       3366, 3564, 3168, 3960, 3960, 4158, 4158, 3762, 3960, 4158, 3564,\n",
       "       3762, 3960, 4158, 4158, 3564, 4158, 4356, 4158, 3762, 3762, 3762,\n",
       "       3762, 3960, 3960, 3762, 4356, 4554, 4356, 3564, 3564, 3564, 3564,\n",
       "       3564, 3366, 3762, 3564, 3564, 3960, 3168, 3366, 3564, 3366, 3366,\n",
       "       2772, 2772, 3762, 3564, 3564, 3564, 3762, 2574, 1980, 1980, 1980,\n",
       "       3564, 2574, 2574, 2772, 3762, 3564, 3564, 3366, 3564, 4554, 4554,\n",
       "       4752, 2970, 3168, 3168, 2970, 2970, 2970, 3564, 3564, 3366, 2772,\n",
       "       2772, 2772, 2970, 2376, 2376, 2574, 3366, 3366, 3366, 3168, 3366,\n",
       "       1980, 1980, 2574, 3960, 3960, 3960, 3960, 3960, 4158, 4158, 4158,\n",
       "       4752, 4950, 4950, 4950, 4158, 4356, 4356, 4356, 5148, 5148, 5346,\n",
       "       5346, 4752, 4950, 4950, 4950, 4158, 4158, 4158, 3960, 4158, 4158,\n",
       "       5346, 5346, 5346, 5940, 5940, 5940, 4950, 5148, 5148, 5148, 4554,\n",
       "       4752, 4752, 4752, 4158, 4356, 4356, 4356, 4158, 4356, 4356, 4356,\n",
       "       4356, 4554, 4554, 4554, 5742, 5940, 5940, 5742, 4356, 4554, 4356,\n",
       "       5742, 5742, 5544, 5148, 5148, 5148, 4950, 4950, 4950, 4950, 4752,\n",
       "       4158, 4158, 4158, 3960, 5148, 5346, 5346, 5346, 3960, 4158, 4158,\n",
       "       4158, 4356, 4554, 4554, 4554, 4158, 4158, 4158, 4950, 4950, 4950,\n",
       "       4158, 4158, 4158, 4752, 4950, 4950, 4950, 5148, 5148, 5148, 3168,\n",
       "       3564, 3564, 2970, 3960, 3762, 3960, 3960, 4554, 4554, 4554, 4554,\n",
       "       4158, 4158, 4356, 4356, 3366, 3366, 3366, 3564, 4554, 4356, 4356,\n",
       "       4158, 4752, 4752, 4356, 3762, 3762, 3960], dtype=int64)"
      ]
     },
     "execution_count": 35,
     "metadata": {},
     "output_type": "execute_result"
    }
   ],
   "source": [
    "length=X['Length']\n",
    "length=length.values\n",
    "length"
   ]
  },
  {
   "cell_type": "code",
   "execution_count": 16,
   "metadata": {},
   "outputs": [
    {
     "data": {
      "text/plain": [
       "(722,)"
      ]
     },
     "execution_count": 16,
     "metadata": {},
     "output_type": "execute_result"
    }
   ],
   "source": [
    "length.shape"
   ]
  },
  {
   "cell_type": "code",
   "execution_count": 85,
   "metadata": {},
   "outputs": [
    {
     "name": "stdout",
     "output_type": "stream",
     "text": [
      "5940\n"
     ]
    }
   ],
   "source": [
    "max_length=np.max(length)\n",
    "print(max_length)"
   ]
  },
  {
   "cell_type": "code",
   "execution_count": 86,
   "metadata": {},
   "outputs": [
    {
     "data": {
      "text/plain": [
       "array([['[-0.2904878  -0.16641041 -0.09852826 ... -0.39651233 -0.70850587\\n -0.05254742]',\n",
       "        4356],\n",
       "       ['[-1.14277988 -1.14277988 -1.14277988 ... -0.49046609 -0.25420246\\n  0.02268253]',\n",
       "        4752],\n",
       "       ['[-1.06837073 -1.06837073 -1.06837073 ... -0.42379022 -0.27514243\\n  0.02454704]',\n",
       "        4752],\n",
       "       ...,\n",
       "       ['[-1.24033847 -1.24033847 -1.24033847 ... -0.40978268 -0.23581894\\n -0.03443953]',\n",
       "        3762],\n",
       "       ['[-1.1873401  -1.1873401  -1.1873401  ... -0.36844441 -0.20814289\\n -0.04991296]',\n",
       "        3762],\n",
       "       ['[-0.07082944  0.0630345   0.12609374 ... -0.31779537 -0.65161079\\n  0.02929306]',\n",
       "        3960]], dtype=object)"
      ]
     },
     "execution_count": 86,
     "metadata": {},
     "output_type": "execute_result"
    }
   ],
   "source": [
    "X=X.values\n",
    "X"
   ]
  },
  {
   "cell_type": "code",
   "execution_count": 111,
   "metadata": {},
   "outputs": [
    {
     "data": {
      "text/plain": [
       "'[-0.2904878  -0.16641041 -0.09852826 ... -0.39651233 -0.70850587 -0.05254742]'"
      ]
     },
     "execution_count": 111,
     "metadata": {},
     "output_type": "execute_result"
    }
   ],
   "source": [
    "x=X[0][0].replace('\\n', '')\n",
    "x\n",
    "\n",
    "# l=np.fromstring(x, dtype=float, sep=' ')\n",
    "# l"
   ]
  },
  {
   "cell_type": "code",
   "execution_count": 114,
   "metadata": {},
   "outputs": [
    {
     "ename": "AttributeError",
     "evalue": "'list' object has no attribute 'strip'",
     "output_type": "error",
     "traceback": [
      "\u001b[1;31m---------------------------------------------------------------------------\u001b[0m",
      "\u001b[1;31mAttributeError\u001b[0m                            Traceback (most recent call last)",
      "Cell \u001b[1;32mIn[114], line 1\u001b[0m\n\u001b[1;32m----> 1\u001b[0m x\u001b[38;5;241m=\u001b[39m\u001b[43mx\u001b[49m\u001b[38;5;241;43m.\u001b[39;49m\u001b[43mstrip\u001b[49m(\u001b[38;5;124m'\u001b[39m\u001b[38;5;124m][\u001b[39m\u001b[38;5;124m'\u001b[39m)\u001b[38;5;241m.\u001b[39msplit()\n\u001b[0;32m      2\u001b[0m x[:\u001b[38;5;241m10\u001b[39m]\n",
      "\u001b[1;31mAttributeError\u001b[0m: 'list' object has no attribute 'strip'"
     ]
    }
   ],
   "source": [
    "x=x.strip('][').split()"
   ]
  },
  {
   "cell_type": "code",
   "execution_count": 121,
   "metadata": {},
   "outputs": [
    {
     "data": {
      "text/plain": [
       "'...'"
      ]
     },
     "execution_count": 121,
     "metadata": {},
     "output_type": "execute_result"
    }
   ],
   "source": [
    "x[3]"
   ]
  },
  {
   "cell_type": "code",
   "execution_count": 106,
   "metadata": {},
   "outputs": [],
   "source": [
    "def pad_data(data=x):\n",
    "    # l=data[0].replace('\\n', '')\n",
    "    # l=np.fromString(data[0], dtype=float)\n",
    "    # l=[l[i].strip('\\n') for i in range(len(l)) if '\\n' in l[i]]\n",
    "    \n",
    "    l=np.fromstring(data, dtype=float, sep=' ')\n",
    "    print(l)\n",
    "    print(l.shape)\n",
    "    # return np.array(data.split(),dtype=float)"
   ]
  },
  {
   "cell_type": "code",
   "execution_count": 107,
   "metadata": {},
   "outputs": [
    {
     "name": "stdout",
     "output_type": "stream",
     "text": [
      "[]\n",
      "(0,)\n"
     ]
    },
    {
     "name": "stderr",
     "output_type": "stream",
     "text": [
      "C:\\Users\\Dell\\AppData\\Local\\Temp\\ipykernel_15564\\2078451199.py:6: DeprecationWarning: string or file could not be read to its end due to unmatched data; this will raise a ValueError in the future.\n",
      "  l=np.fromstring(data, dtype=float, sep=' ')\n"
     ]
    }
   ],
   "source": [
    "pad_data()"
   ]
  },
  {
   "cell_type": "code",
   "execution_count": 22,
   "metadata": {},
   "outputs": [
    {
     "ename": "TypeError",
     "evalue": "'str' object cannot be interpreted as an integer",
     "output_type": "error",
     "traceback": [
      "\u001b[1;31m---------------------------------------------------------------------------\u001b[0m",
      "\u001b[1;31mTypeError\u001b[0m                                 Traceback (most recent call last)",
      "Cell \u001b[1;32mIn[22], line 1\u001b[0m\n\u001b[1;32m----> 1\u001b[0m \u001b[43mnp\u001b[49m\u001b[38;5;241;43m.\u001b[39;49m\u001b[43mndarray\u001b[49m\u001b[43m(\u001b[49m\u001b[43mX\u001b[49m\u001b[38;5;241;43m.\u001b[39;49m\u001b[43miloc\u001b[49m\u001b[43m[\u001b[49m\u001b[38;5;241;43m0\u001b[39;49m\u001b[43m]\u001b[49m\u001b[43m)\u001b[49m\n",
      "\u001b[1;31mTypeError\u001b[0m: 'str' object cannot be interpreted as an integer"
     ]
    }
   ],
   "source": [
    "X.iloc[0]"
   ]
  },
  {
   "cell_type": "code",
   "execution_count": 11,
   "metadata": {},
   "outputs": [
    {
     "data": {
      "text/plain": [
       "0      4356\n",
       "1      4752\n",
       "2      4752\n",
       "3      4356\n",
       "4      4356\n",
       "       ... \n",
       "687    4950\n",
       "688    4950\n",
       "689    5148\n",
       "690    5148\n",
       "691    5148\n",
       "Name: Length, Length: 692, dtype: int64"
      ]
     },
     "execution_count": 11,
     "metadata": {},
     "output_type": "execute_result"
    }
   ],
   "source": [
    "length=X['Length']\n",
    "length"
   ]
  },
  {
   "cell_type": "code",
   "execution_count": 6,
   "metadata": {},
   "outputs": [
    {
     "data": {
      "text/html": [
       "<div>\n",
       "<style scoped>\n",
       "    .dataframe tbody tr th:only-of-type {\n",
       "        vertical-align: middle;\n",
       "    }\n",
       "\n",
       "    .dataframe tbody tr th {\n",
       "        vertical-align: top;\n",
       "    }\n",
       "\n",
       "    .dataframe thead th {\n",
       "        text-align: right;\n",
       "    }\n",
       "</style>\n",
       "<table border=\"1\" class=\"dataframe\">\n",
       "  <thead>\n",
       "    <tr style=\"text-align: right;\">\n",
       "      <th></th>\n",
       "      <th>Class Label</th>\n",
       "    </tr>\n",
       "  </thead>\n",
       "  <tbody>\n",
       "    <tr>\n",
       "      <th>0</th>\n",
       "      <td>0</td>\n",
       "    </tr>\n",
       "    <tr>\n",
       "      <th>1</th>\n",
       "      <td>0</td>\n",
       "    </tr>\n",
       "    <tr>\n",
       "      <th>2</th>\n",
       "      <td>0</td>\n",
       "    </tr>\n",
       "    <tr>\n",
       "      <th>3</th>\n",
       "      <td>0</td>\n",
       "    </tr>\n",
       "    <tr>\n",
       "      <th>4</th>\n",
       "      <td>0</td>\n",
       "    </tr>\n",
       "  </tbody>\n",
       "</table>\n",
       "</div>"
      ],
      "text/plain": [
       "   Class Label\n",
       "0            0\n",
       "1            0\n",
       "2            0\n",
       "3            0\n",
       "4            0"
      ]
     },
     "execution_count": 6,
     "metadata": {},
     "output_type": "execute_result"
    }
   ],
   "source": [
    "Y=pd.read_csv('labels.csv')\n",
    "Y.head()"
   ]
  },
  {
   "cell_type": "code",
   "execution_count": 7,
   "metadata": {},
   "outputs": [
    {
     "data": {
      "text/plain": [
       "(692, 1)"
      ]
     },
     "execution_count": 7,
     "metadata": {},
     "output_type": "execute_result"
    }
   ],
   "source": [
    "Y.shape"
   ]
  },
  {
   "cell_type": "code",
   "execution_count": 12,
   "metadata": {},
   "outputs": [
    {
     "data": {
      "text/plain": [
       "array([[1, 0, 0, ..., 0, 0, 0],\n",
       "       [1, 0, 0, ..., 0, 0, 0],\n",
       "       [1, 0, 0, ..., 0, 0, 0],\n",
       "       ...,\n",
       "       [0, 0, 0, ..., 0, 0, 1],\n",
       "       [0, 0, 0, ..., 0, 0, 1],\n",
       "       [0, 0, 0, ..., 0, 0, 1]])"
      ]
     },
     "execution_count": 12,
     "metadata": {},
     "output_type": "execute_result"
    }
   ],
   "source": [
    "Y=to_categorical(Y).astype(int)\n",
    "Y"
   ]
  },
  {
   "cell_type": "code",
   "execution_count": null,
   "metadata": {},
   "outputs": [],
   "source": [
    "x_train, x_test, y_train, y_test = train_test_split(X, Y, test_size=0.2, random_state=42)"
   ]
  },
  {
   "cell_type": "markdown",
   "metadata": {},
   "source": [
    "Model-1"
   ]
  },
  {
   "cell_type": "code",
   "execution_count": null,
   "metadata": {},
   "outputs": [],
   "source": [
    "model=Sequential()\n",
    "model.add(LSTM(64, return_sequences=True, activation='relu', input_shape=(X.shape[1], X.shape[2])))\n",
    "model.add(LSTM(128, return_sequences=True, activation='relu'))\n",
    "model.add(LSTM(64, return_sequences=False, activation='relu'))\n",
    "model.add(Dense(62, activation='relu'))\n",
    "model.add(Dense(32, activation='relu'))\n",
    "model.add(Dense(len(words), activation='softmax'))"
   ]
  },
  {
   "cell_type": "code",
   "execution_count": null,
   "metadata": {},
   "outputs": [],
   "source": [
    "model.compile(optimizer='adam', loss='categorical_crossentropy', metrics=['categorical_accuracy'])"
   ]
  },
  {
   "cell_type": "code",
   "execution_count": null,
   "metadata": {},
   "outputs": [],
   "source": [
    "model.fit(x_train, y_train, epochs=10, batch_size=32, validation_data=(x_test, y_test), callbacks=[tb_callback])"
   ]
  },
  {
   "cell_type": "code",
   "execution_count": null,
   "metadata": {},
   "outputs": [],
   "source": [
    "model.summary()"
   ]
  },
  {
   "cell_type": "markdown",
   "metadata": {},
   "source": [
    "MODEL 2"
   ]
  },
  {
   "cell_type": "code",
   "execution_count": null,
   "metadata": {},
   "outputs": [],
   "source": [
    "model=Sequential()\n",
    "model.add(Conv2D(16, kernel_size=(3, 3), activation='relu', input_shape=(X.shape[1], X.shape[2], 1)))\n",
    "model.add(MaxPooling2D())\n",
    "\n",
    "model.add(Conv2D(32, kernel_size=(3, 3), activation='relu'))\n",
    "model.add(MaxPooling2D())\n",
    "\n",
    "model.add(Conv2D(16, kernel_size=(3, 3), activation='relu'))\n",
    "model.add(MaxPooling2D())\n",
    "\n",
    "model.add(Flatten())\n",
    "\n",
    "model.add(Dense(256, activation='relu'))\n",
    "model.add(Dense(len(words), activation='softmax'))"
   ]
  },
  {
   "cell_type": "code",
   "execution_count": null,
   "metadata": {},
   "outputs": [],
   "source": [
    "res=model.predict(x_test)\n",
    "res[0]"
   ]
  },
  {
   "cell_type": "markdown",
   "metadata": {},
   "source": [
    "##Save model"
   ]
  },
  {
   "cell_type": "code",
   "execution_count": null,
   "metadata": {},
   "outputs": [],
   "source": [
    "model.save('model.h5')"
   ]
  },
  {
   "cell_type": "markdown",
   "metadata": {},
   "source": [
    "model=tf.keras.models.load_model('model.h5')"
   ]
  },
  {
   "cell_type": "markdown",
   "metadata": {},
   "source": [
    "Prediction"
   ]
  },
  {
   "cell_type": "code",
   "execution_count": null,
   "metadata": {},
   "outputs": [],
   "source": [
    "words[np.argmax(model.predict(x_test)[0])]"
   ]
  },
  {
   "cell_type": "code",
   "execution_count": null,
   "metadata": {},
   "outputs": [],
   "source": [
    "from sklearn.metrics import accuracy_score, multilabel_confusion_matrix\n",
    "y_pred=model.predict(x_test)"
   ]
  },
  {
   "cell_type": "code",
   "execution_count": null,
   "metadata": {},
   "outputs": [],
   "source": [
    "y_true=np.argmax(y_test, axis=1).tolist()\n",
    "y_pred=np.argmax(y_pred, axis=1).tolist()"
   ]
  },
  {
   "cell_type": "code",
   "execution_count": null,
   "metadata": {},
   "outputs": [],
   "source": [
    "y_true"
   ]
  },
  {
   "cell_type": "code",
   "execution_count": null,
   "metadata": {},
   "outputs": [],
   "source": [
    "multilabel_confusion_matrix(y_true, y_pred)"
   ]
  },
  {
   "cell_type": "code",
   "execution_count": null,
   "metadata": {},
   "outputs": [],
   "source": [
    "accuracy_score(y_true, y_pred)"
   ]
  }
 ],
 "metadata": {
  "kernelspec": {
   "display_name": "Python 3",
   "language": "python",
   "name": "python3"
  },
  "language_info": {
   "codemirror_mode": {
    "name": "ipython",
    "version": 3
   },
   "file_extension": ".py",
   "mimetype": "text/x-python",
   "name": "python",
   "nbconvert_exporter": "python",
   "pygments_lexer": "ipython3",
   "version": "3.11.2"
  }
 },
 "nbformat": 4,
 "nbformat_minor": 2
}
