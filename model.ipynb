{
 "cells": [
  {
   "cell_type": "code",
   "execution_count": 132,
   "metadata": {},
   "outputs": [],
   "source": [
    "import numpy as np\n",
    "import pandas as pd\n",
    "import json"
   ]
  },
  {
   "cell_type": "code",
   "execution_count": 133,
   "metadata": {},
   "outputs": [
    {
     "data": {
      "text/plain": [
       "{'Boy': 0,\n",
       " 'Can': 1,\n",
       " 'Eat': 2,\n",
       " 'Fine': 3,\n",
       " 'Girl': 4,\n",
       " 'Help': 5,\n",
       " 'How': 6,\n",
       " 'Hungry': 7,\n",
       " 'I': 8,\n",
       " 'Mother': 9,\n",
       " 'Namaste': 10,\n",
       " 'Name': 11,\n",
       " 'Parents': 12,\n",
       " 'Sister': 13,\n",
       " 'Sleep': 14,\n",
       " 'This': 15,\n",
       " 'You': 16}"
      ]
     },
     "execution_count": 133,
     "metadata": {},
     "output_type": "execute_result"
    }
   ],
   "source": [
    "with open('data.json', 'r') as f:\n",
    "    labels = json.load(f)\n",
    "labels"
   ]
  },
  {
   "cell_type": "code",
   "execution_count": 134,
   "metadata": {},
   "outputs": [
    {
     "data": {
      "text/html": [
       "<div>\n",
       "<style scoped>\n",
       "    .dataframe tbody tr th:only-of-type {\n",
       "        vertical-align: middle;\n",
       "    }\n",
       "\n",
       "    .dataframe tbody tr th {\n",
       "        vertical-align: top;\n",
       "    }\n",
       "\n",
       "    .dataframe thead th {\n",
       "        text-align: right;\n",
       "    }\n",
       "</style>\n",
       "<table border=\"1\" class=\"dataframe\">\n",
       "  <thead>\n",
       "    <tr style=\"text-align: right;\">\n",
       "      <th></th>\n",
       "      <th>Class Label</th>\n",
       "      <th>X0001</th>\n",
       "      <th>Y0001</th>\n",
       "      <th>Z0001</th>\n",
       "      <th>X0101</th>\n",
       "      <th>Y0101</th>\n",
       "      <th>Z0101</th>\n",
       "      <th>X0201</th>\n",
       "      <th>Y0201</th>\n",
       "      <th>Z0201</th>\n",
       "      <th>...</th>\n",
       "      <th>Z6220</th>\n",
       "      <th>X6320</th>\n",
       "      <th>Y6320</th>\n",
       "      <th>Z6320</th>\n",
       "      <th>X6420</th>\n",
       "      <th>Y6420</th>\n",
       "      <th>Z6420</th>\n",
       "      <th>X6520</th>\n",
       "      <th>Y6520</th>\n",
       "      <th>Z6520</th>\n",
       "    </tr>\n",
       "  </thead>\n",
       "  <tbody>\n",
       "    <tr>\n",
       "      <th>0</th>\n",
       "      <td>Boy</td>\n",
       "      <td>-0.290488</td>\n",
       "      <td>-75.818914</td>\n",
       "      <td>-3.229877</td>\n",
       "      <td>-0.166410</td>\n",
       "      <td>-77.328566</td>\n",
       "      <td>-3.061451</td>\n",
       "      <td>-0.098528</td>\n",
       "      <td>-82.594196</td>\n",
       "      <td>-2.995450</td>\n",
       "      <td>...</td>\n",
       "      <td>-0.789076</td>\n",
       "      <td>0.607418</td>\n",
       "      <td>0.957875</td>\n",
       "      <td>-0.403516</td>\n",
       "      <td>0.299876</td>\n",
       "      <td>0.551094</td>\n",
       "      <td>-0.700673</td>\n",
       "      <td>0.556823</td>\n",
       "      <td>0.893926</td>\n",
       "      <td>-0.055159</td>\n",
       "    </tr>\n",
       "    <tr>\n",
       "      <th>1</th>\n",
       "      <td>Boy</td>\n",
       "      <td>-1.142780</td>\n",
       "      <td>-504.405201</td>\n",
       "      <td>-11.642699</td>\n",
       "      <td>-1.142780</td>\n",
       "      <td>-504.405201</td>\n",
       "      <td>-11.642699</td>\n",
       "      <td>-1.142780</td>\n",
       "      <td>-504.405201</td>\n",
       "      <td>-11.642699</td>\n",
       "      <td>...</td>\n",
       "      <td>-0.303101</td>\n",
       "      <td>0.853242</td>\n",
       "      <td>0.551130</td>\n",
       "      <td>-0.508979</td>\n",
       "      <td>0.312054</td>\n",
       "      <td>0.981356</td>\n",
       "      <td>-0.225069</td>\n",
       "      <td>0.598794</td>\n",
       "      <td>0.899667</td>\n",
       "      <td>0.023955</td>\n",
       "    </tr>\n",
       "    <tr>\n",
       "      <th>2</th>\n",
       "      <td>Boy</td>\n",
       "      <td>-1.068371</td>\n",
       "      <td>130.701614</td>\n",
       "      <td>9.520099</td>\n",
       "      <td>-1.068371</td>\n",
       "      <td>130.701614</td>\n",
       "      <td>9.520099</td>\n",
       "      <td>-1.068371</td>\n",
       "      <td>130.701614</td>\n",
       "      <td>9.520099</td>\n",
       "      <td>...</td>\n",
       "      <td>-0.360270</td>\n",
       "      <td>0.853557</td>\n",
       "      <td>0.546488</td>\n",
       "      <td>-0.445940</td>\n",
       "      <td>0.312178</td>\n",
       "      <td>0.975818</td>\n",
       "      <td>-0.276978</td>\n",
       "      <td>0.599459</td>\n",
       "      <td>0.901850</td>\n",
       "      <td>0.024480</td>\n",
       "    </tr>\n",
       "    <tr>\n",
       "      <th>3</th>\n",
       "      <td>Boy</td>\n",
       "      <td>-0.229189</td>\n",
       "      <td>-728.344904</td>\n",
       "      <td>-10.610774</td>\n",
       "      <td>-0.111319</td>\n",
       "      <td>-760.483651</td>\n",
       "      <td>-9.444202</td>\n",
       "      <td>-0.050989</td>\n",
       "      <td>-814.690937</td>\n",
       "      <td>-8.885182</td>\n",
       "      <td>...</td>\n",
       "      <td>-1.450281</td>\n",
       "      <td>0.686321</td>\n",
       "      <td>0.983726</td>\n",
       "      <td>-0.696741</td>\n",
       "      <td>0.151945</td>\n",
       "      <td>0.553058</td>\n",
       "      <td>-1.307723</td>\n",
       "      <td>0.605042</td>\n",
       "      <td>0.889703</td>\n",
       "      <td>-0.100882</td>\n",
       "    </tr>\n",
       "    <tr>\n",
       "      <th>4</th>\n",
       "      <td>Boy</td>\n",
       "      <td>-0.876114</td>\n",
       "      <td>-24.004894</td>\n",
       "      <td>1.529031</td>\n",
       "      <td>-0.800043</td>\n",
       "      <td>-21.179765</td>\n",
       "      <td>1.634938</td>\n",
       "      <td>-0.749626</td>\n",
       "      <td>-17.375034</td>\n",
       "      <td>1.698469</td>\n",
       "      <td>...</td>\n",
       "      <td>-0.419257</td>\n",
       "      <td>0.596819</td>\n",
       "      <td>0.970013</td>\n",
       "      <td>-0.363273</td>\n",
       "      <td>0.386495</td>\n",
       "      <td>0.966971</td>\n",
       "      <td>-0.328736</td>\n",
       "      <td>0.544566</td>\n",
       "      <td>0.908291</td>\n",
       "      <td>-0.058046</td>\n",
       "    </tr>\n",
       "  </tbody>\n",
       "</table>\n",
       "<p>5 rows × 3961 columns</p>\n",
       "</div>"
      ],
      "text/plain": [
       "  Class Label     X0001       Y0001      Z0001     X0101       Y0101  \\\n",
       "0         Boy -0.290488  -75.818914  -3.229877 -0.166410  -77.328566   \n",
       "1         Boy -1.142780 -504.405201 -11.642699 -1.142780 -504.405201   \n",
       "2         Boy -1.068371  130.701614   9.520099 -1.068371  130.701614   \n",
       "3         Boy -0.229189 -728.344904 -10.610774 -0.111319 -760.483651   \n",
       "4         Boy -0.876114  -24.004894   1.529031 -0.800043  -21.179765   \n",
       "\n",
       "       Z0101     X0201       Y0201      Z0201  ...     Z6220     X6320  \\\n",
       "0  -3.061451 -0.098528  -82.594196  -2.995450  ... -0.789076  0.607418   \n",
       "1 -11.642699 -1.142780 -504.405201 -11.642699  ... -0.303101  0.853242   \n",
       "2   9.520099 -1.068371  130.701614   9.520099  ... -0.360270  0.853557   \n",
       "3  -9.444202 -0.050989 -814.690937  -8.885182  ... -1.450281  0.686321   \n",
       "4   1.634938 -0.749626  -17.375034   1.698469  ... -0.419257  0.596819   \n",
       "\n",
       "      Y6320     Z6320     X6420     Y6420     Z6420     X6520     Y6520  \\\n",
       "0  0.957875 -0.403516  0.299876  0.551094 -0.700673  0.556823  0.893926   \n",
       "1  0.551130 -0.508979  0.312054  0.981356 -0.225069  0.598794  0.899667   \n",
       "2  0.546488 -0.445940  0.312178  0.975818 -0.276978  0.599459  0.901850   \n",
       "3  0.983726 -0.696741  0.151945  0.553058 -1.307723  0.605042  0.889703   \n",
       "4  0.970013 -0.363273  0.386495  0.966971 -0.328736  0.544566  0.908291   \n",
       "\n",
       "      Z6520  \n",
       "0 -0.055159  \n",
       "1  0.023955  \n",
       "2  0.024480  \n",
       "3 -0.100882  \n",
       "4 -0.058046  \n",
       "\n",
       "[5 rows x 3961 columns]"
      ]
     },
     "execution_count": 134,
     "metadata": {},
     "output_type": "execute_result"
    }
   ],
   "source": [
    "data=pd.read_csv('dataset.csv')\n",
    "data.head()"
   ]
  },
  {
   "cell_type": "code",
   "execution_count": 135,
   "metadata": {},
   "outputs": [
    {
     "data": {
      "text/plain": [
       "0      Boy\n",
       "1      Boy\n",
       "2      Boy\n",
       "3      Boy\n",
       "4      Boy\n",
       "      ... \n",
       "717    You\n",
       "718    You\n",
       "719    You\n",
       "720    You\n",
       "721    You\n",
       "Name: Class Label, Length: 722, dtype: object"
      ]
     },
     "execution_count": 135,
     "metadata": {},
     "output_type": "execute_result"
    }
   ],
   "source": [
    "Y = data['Class Label']\n",
    "Y"
   ]
  },
  {
   "cell_type": "code",
   "execution_count": 136,
   "metadata": {},
   "outputs": [
    {
     "data": {
      "text/plain": [
       "pandas.core.series.Series"
      ]
     },
     "execution_count": 136,
     "metadata": {},
     "output_type": "execute_result"
    }
   ],
   "source": [
    "Y = Y.map(labels)\n",
    "type(Y)"
   ]
  },
  {
   "cell_type": "code",
   "execution_count": 137,
   "metadata": {},
   "outputs": [
    {
     "data": {
      "text/plain": [
       "array([ 0,  0,  0,  0,  0,  0,  0,  0,  0,  0,  0,  0,  0,  0,  0,  0,  0,\n",
       "        0,  0,  0,  0,  0,  0,  0,  0,  0,  0,  0,  0,  0,  0,  0,  0,  0,\n",
       "        0,  0,  0,  0,  0,  0,  0,  0,  0,  0,  0,  0,  0,  0,  0,  0,  0,\n",
       "        0,  1,  1,  1,  1,  1,  1,  1,  1,  1,  1,  1,  1,  1,  1,  1,  1,\n",
       "        1,  1,  1,  1,  1,  1,  1,  1,  1,  1,  1,  1,  1,  1,  1,  1,  1,\n",
       "        1,  1,  1,  1,  1,  1,  1,  1,  1,  1,  1,  1,  1,  1,  2,  2,  2,\n",
       "        2,  2,  2,  2,  2,  2,  2,  2,  2,  2,  2,  2,  2,  2,  2,  2,  2,\n",
       "        2,  2,  2,  2,  2,  2,  2,  2,  2,  2,  2,  2,  2,  2,  2,  2,  2,\n",
       "        2,  2,  2,  3,  3,  3,  3,  3,  3,  3,  3,  3,  3,  3,  3,  3,  3,\n",
       "        3,  3,  3,  3,  3,  3,  3,  3,  3,  3,  3,  3,  3,  3,  3,  3,  3,\n",
       "        3,  3,  3,  3,  3,  3,  3,  3,  3,  3,  3,  3,  3,  4,  4,  4,  4,\n",
       "        4,  4,  4,  4,  4,  4,  4,  4,  4,  4,  4,  4,  4,  4,  4,  4,  4,\n",
       "        4,  4,  4,  4,  4,  4,  4,  4,  4,  4,  4,  4,  4,  4,  4,  5,  5,\n",
       "        5,  5,  5,  5,  5,  5,  5,  5,  5,  5,  5,  5,  5,  5,  5,  5,  5,\n",
       "        5,  5,  5,  5,  5,  5,  5,  5,  5,  5,  5,  5,  5,  5,  5,  5,  5,\n",
       "        5,  5,  5,  5,  5,  5,  5,  5,  6,  6,  6,  6,  6,  6,  6,  6,  6,\n",
       "        6,  6,  6,  6,  6,  6,  6,  6,  6,  6,  6,  6,  6,  6,  6,  6,  6,\n",
       "        6,  6,  6,  6,  6,  6,  6,  6,  6,  6,  6,  6,  6,  6,  6,  6,  6,\n",
       "        6,  6,  6,  6,  7,  7,  7,  7,  7,  7,  7,  7,  7,  7,  7,  7,  7,\n",
       "        7,  7,  7,  7,  7,  7,  7,  7,  7,  7,  7,  7,  7,  7,  7,  7,  7,\n",
       "        7,  7,  7,  7,  7,  7,  7,  7,  7,  7,  7,  7,  7,  7,  8,  8,  8,\n",
       "        8,  8,  8,  8,  8,  8,  8,  8,  8,  8,  8,  8,  8,  8,  8,  8,  8,\n",
       "        8,  8,  8,  8,  8,  8,  8,  8,  8,  8,  8,  8,  8,  8,  8,  8,  9,\n",
       "        9,  9,  9,  9,  9,  9,  9,  9,  9,  9,  9,  9,  9,  9,  9,  9,  9,\n",
       "        9,  9,  9,  9,  9,  9,  9,  9,  9,  9,  9,  9,  9,  9,  9,  9,  9,\n",
       "        9,  9,  9,  9,  9, 10, 10, 10, 10, 10, 10, 10, 10, 10, 10, 10, 10,\n",
       "       10, 10, 10, 10, 10, 10, 10, 10, 10, 10, 10, 10, 10, 10, 10, 10, 10,\n",
       "       10, 11, 11, 11, 11, 11, 11, 11, 11, 11, 11, 11, 11, 11, 11, 11, 11,\n",
       "       11, 11, 11, 11, 11, 11, 11, 11, 11, 11, 11, 11, 11, 11, 11, 11, 11,\n",
       "       11, 11, 11, 11, 11, 11, 11, 11, 11, 11, 11, 12, 12, 12, 12, 12, 12,\n",
       "       12, 12, 12, 12, 12, 12, 12, 12, 12, 12, 12, 12, 12, 12, 12, 12, 12,\n",
       "       12, 12, 12, 12, 12, 12, 12, 12, 12, 12, 12, 12, 12, 12, 12, 12, 12,\n",
       "       12, 12, 12, 12, 13, 13, 13, 13, 13, 13, 13, 13, 13, 13, 13, 13, 13,\n",
       "       13, 13, 13, 14, 14, 14, 14, 14, 14, 14, 14, 14, 14, 14, 14, 14, 14,\n",
       "       14, 14, 14, 14, 14, 14, 14, 14, 14, 14, 14, 14, 14, 14, 14, 14, 14,\n",
       "       14, 14, 14, 14, 14, 14, 14, 14, 14, 14, 14, 14, 14, 15, 15, 15, 15,\n",
       "       15, 15, 15, 15, 15, 15, 15, 15, 15, 15, 15, 15, 15, 15, 15, 15, 15,\n",
       "       15, 15, 15, 15, 15, 15, 15, 15, 15, 15, 15, 15, 15, 15, 15, 15, 15,\n",
       "       15, 15, 15, 15, 15, 15, 15, 15, 15, 15, 16, 16, 16, 16, 16, 16, 16,\n",
       "       16, 16, 16, 16, 16, 16, 16, 16, 16, 16, 16, 16, 16, 16, 16, 16, 16,\n",
       "       16, 16, 16, 16, 16, 16, 16, 16, 16, 16, 16, 16, 16, 16, 16, 16, 16,\n",
       "       16, 16, 16, 16, 16, 16, 16, 16, 16, 16, 16, 16, 16, 16, 16, 16, 16,\n",
       "       16, 16, 16, 16, 16, 16, 16, 16], dtype=int64)"
      ]
     },
     "execution_count": 137,
     "metadata": {},
     "output_type": "execute_result"
    }
   ],
   "source": [
    "# Y=pd.DataFrame(Y)\n",
    "Y=np.array(Y)\n",
    "Y"
   ]
  },
  {
   "cell_type": "code",
   "execution_count": 138,
   "metadata": {},
   "outputs": [],
   "source": [
    "# from tensorflow.keras.utils import to_categorical\n",
    "# Y=to_categorical(Y).astype(int)\n",
    "# Y"
   ]
  },
  {
   "cell_type": "code",
   "execution_count": 139,
   "metadata": {},
   "outputs": [
    {
     "data": {
      "text/plain": [
       "(722,)"
      ]
     },
     "execution_count": 139,
     "metadata": {},
     "output_type": "execute_result"
    }
   ],
   "source": [
    "Y.shape"
   ]
  },
  {
   "cell_type": "code",
   "execution_count": 140,
   "metadata": {},
   "outputs": [
    {
     "data": {
      "text/html": [
       "<div>\n",
       "<style scoped>\n",
       "    .dataframe tbody tr th:only-of-type {\n",
       "        vertical-align: middle;\n",
       "    }\n",
       "\n",
       "    .dataframe tbody tr th {\n",
       "        vertical-align: top;\n",
       "    }\n",
       "\n",
       "    .dataframe thead th {\n",
       "        text-align: right;\n",
       "    }\n",
       "</style>\n",
       "<table border=\"1\" class=\"dataframe\">\n",
       "  <thead>\n",
       "    <tr style=\"text-align: right;\">\n",
       "      <th></th>\n",
       "      <th>X0001</th>\n",
       "      <th>Y0001</th>\n",
       "      <th>Z0001</th>\n",
       "      <th>X0101</th>\n",
       "      <th>Y0101</th>\n",
       "      <th>Z0101</th>\n",
       "      <th>X0201</th>\n",
       "      <th>Y0201</th>\n",
       "      <th>Z0201</th>\n",
       "      <th>X0301</th>\n",
       "      <th>...</th>\n",
       "      <th>Z6220</th>\n",
       "      <th>X6320</th>\n",
       "      <th>Y6320</th>\n",
       "      <th>Z6320</th>\n",
       "      <th>X6420</th>\n",
       "      <th>Y6420</th>\n",
       "      <th>Z6420</th>\n",
       "      <th>X6520</th>\n",
       "      <th>Y6520</th>\n",
       "      <th>Z6520</th>\n",
       "    </tr>\n",
       "  </thead>\n",
       "  <tbody>\n",
       "    <tr>\n",
       "      <th>0</th>\n",
       "      <td>-0.290488</td>\n",
       "      <td>-75.818914</td>\n",
       "      <td>-3.229877</td>\n",
       "      <td>-0.166410</td>\n",
       "      <td>-77.328566</td>\n",
       "      <td>-3.061451</td>\n",
       "      <td>-0.098528</td>\n",
       "      <td>-82.594196</td>\n",
       "      <td>-2.995450</td>\n",
       "      <td>-0.065065</td>\n",
       "      <td>...</td>\n",
       "      <td>-0.789076</td>\n",
       "      <td>0.607418</td>\n",
       "      <td>0.957875</td>\n",
       "      <td>-0.403516</td>\n",
       "      <td>0.299876</td>\n",
       "      <td>0.551094</td>\n",
       "      <td>-0.700673</td>\n",
       "      <td>0.556823</td>\n",
       "      <td>0.893926</td>\n",
       "      <td>-0.055159</td>\n",
       "    </tr>\n",
       "    <tr>\n",
       "      <th>1</th>\n",
       "      <td>-1.142780</td>\n",
       "      <td>-504.405201</td>\n",
       "      <td>-11.642699</td>\n",
       "      <td>-1.142780</td>\n",
       "      <td>-504.405201</td>\n",
       "      <td>-11.642699</td>\n",
       "      <td>-1.142780</td>\n",
       "      <td>-504.405201</td>\n",
       "      <td>-11.642699</td>\n",
       "      <td>-1.142780</td>\n",
       "      <td>...</td>\n",
       "      <td>-0.303101</td>\n",
       "      <td>0.853242</td>\n",
       "      <td>0.551130</td>\n",
       "      <td>-0.508979</td>\n",
       "      <td>0.312054</td>\n",
       "      <td>0.981356</td>\n",
       "      <td>-0.225069</td>\n",
       "      <td>0.598794</td>\n",
       "      <td>0.899667</td>\n",
       "      <td>0.023955</td>\n",
       "    </tr>\n",
       "    <tr>\n",
       "      <th>2</th>\n",
       "      <td>-1.068371</td>\n",
       "      <td>130.701614</td>\n",
       "      <td>9.520099</td>\n",
       "      <td>-1.068371</td>\n",
       "      <td>130.701614</td>\n",
       "      <td>9.520099</td>\n",
       "      <td>-1.068371</td>\n",
       "      <td>130.701614</td>\n",
       "      <td>9.520099</td>\n",
       "      <td>-1.068371</td>\n",
       "      <td>...</td>\n",
       "      <td>-0.360270</td>\n",
       "      <td>0.853557</td>\n",
       "      <td>0.546488</td>\n",
       "      <td>-0.445940</td>\n",
       "      <td>0.312178</td>\n",
       "      <td>0.975818</td>\n",
       "      <td>-0.276978</td>\n",
       "      <td>0.599459</td>\n",
       "      <td>0.901850</td>\n",
       "      <td>0.024480</td>\n",
       "    </tr>\n",
       "    <tr>\n",
       "      <th>3</th>\n",
       "      <td>-0.229189</td>\n",
       "      <td>-728.344904</td>\n",
       "      <td>-10.610774</td>\n",
       "      <td>-0.111319</td>\n",
       "      <td>-760.483651</td>\n",
       "      <td>-9.444202</td>\n",
       "      <td>-0.050989</td>\n",
       "      <td>-814.690937</td>\n",
       "      <td>-8.885182</td>\n",
       "      <td>-0.018511</td>\n",
       "      <td>...</td>\n",
       "      <td>-1.450281</td>\n",
       "      <td>0.686321</td>\n",
       "      <td>0.983726</td>\n",
       "      <td>-0.696741</td>\n",
       "      <td>0.151945</td>\n",
       "      <td>0.553058</td>\n",
       "      <td>-1.307723</td>\n",
       "      <td>0.605042</td>\n",
       "      <td>0.889703</td>\n",
       "      <td>-0.100882</td>\n",
       "    </tr>\n",
       "    <tr>\n",
       "      <th>4</th>\n",
       "      <td>-0.876114</td>\n",
       "      <td>-24.004894</td>\n",
       "      <td>1.529031</td>\n",
       "      <td>-0.800043</td>\n",
       "      <td>-21.179765</td>\n",
       "      <td>1.634938</td>\n",
       "      <td>-0.749626</td>\n",
       "      <td>-17.375034</td>\n",
       "      <td>1.698469</td>\n",
       "      <td>-0.744764</td>\n",
       "      <td>...</td>\n",
       "      <td>-0.419257</td>\n",
       "      <td>0.596819</td>\n",
       "      <td>0.970013</td>\n",
       "      <td>-0.363273</td>\n",
       "      <td>0.386495</td>\n",
       "      <td>0.966971</td>\n",
       "      <td>-0.328736</td>\n",
       "      <td>0.544566</td>\n",
       "      <td>0.908291</td>\n",
       "      <td>-0.058046</td>\n",
       "    </tr>\n",
       "  </tbody>\n",
       "</table>\n",
       "<p>5 rows × 3960 columns</p>\n",
       "</div>"
      ],
      "text/plain": [
       "      X0001       Y0001      Z0001     X0101       Y0101      Z0101     X0201  \\\n",
       "0 -0.290488  -75.818914  -3.229877 -0.166410  -77.328566  -3.061451 -0.098528   \n",
       "1 -1.142780 -504.405201 -11.642699 -1.142780 -504.405201 -11.642699 -1.142780   \n",
       "2 -1.068371  130.701614   9.520099 -1.068371  130.701614   9.520099 -1.068371   \n",
       "3 -0.229189 -728.344904 -10.610774 -0.111319 -760.483651  -9.444202 -0.050989   \n",
       "4 -0.876114  -24.004894   1.529031 -0.800043  -21.179765   1.634938 -0.749626   \n",
       "\n",
       "        Y0201      Z0201     X0301  ...     Z6220     X6320     Y6320  \\\n",
       "0  -82.594196  -2.995450 -0.065065  ... -0.789076  0.607418  0.957875   \n",
       "1 -504.405201 -11.642699 -1.142780  ... -0.303101  0.853242  0.551130   \n",
       "2  130.701614   9.520099 -1.068371  ... -0.360270  0.853557  0.546488   \n",
       "3 -814.690937  -8.885182 -0.018511  ... -1.450281  0.686321  0.983726   \n",
       "4  -17.375034   1.698469 -0.744764  ... -0.419257  0.596819  0.970013   \n",
       "\n",
       "      Z6320     X6420     Y6420     Z6420     X6520     Y6520     Z6520  \n",
       "0 -0.403516  0.299876  0.551094 -0.700673  0.556823  0.893926 -0.055159  \n",
       "1 -0.508979  0.312054  0.981356 -0.225069  0.598794  0.899667  0.023955  \n",
       "2 -0.445940  0.312178  0.975818 -0.276978  0.599459  0.901850  0.024480  \n",
       "3 -0.696741  0.151945  0.553058 -1.307723  0.605042  0.889703 -0.100882  \n",
       "4 -0.363273  0.386495  0.966971 -0.328736  0.544566  0.908291 -0.058046  \n",
       "\n",
       "[5 rows x 3960 columns]"
      ]
     },
     "execution_count": 140,
     "metadata": {},
     "output_type": "execute_result"
    }
   ],
   "source": [
    "data.drop(['Class Label'], axis=1, inplace=True)\n",
    "data.head()"
   ]
  },
  {
   "cell_type": "code",
   "execution_count": 141,
   "metadata": {},
   "outputs": [
    {
     "data": {
      "text/plain": [
       "(722, 3960)"
      ]
     },
     "execution_count": 141,
     "metadata": {},
     "output_type": "execute_result"
    }
   ],
   "source": [
    "data.shape"
   ]
  },
  {
   "cell_type": "code",
   "execution_count": 142,
   "metadata": {},
   "outputs": [
    {
     "data": {
      "text/plain": [
       "X0001      0\n",
       "Y0001      0\n",
       "Z0001      0\n",
       "X0101      0\n",
       "Y0101      0\n",
       "        ... \n",
       "Y6420    300\n",
       "Z6420    300\n",
       "X6520    300\n",
       "Y6520    300\n",
       "Z6520    300\n",
       "Length: 3960, dtype: int64"
      ]
     },
     "execution_count": 142,
     "metadata": {},
     "output_type": "execute_result"
    }
   ],
   "source": [
    "data.isna().sum()"
   ]
  },
  {
   "cell_type": "code",
   "execution_count": 143,
   "metadata": {},
   "outputs": [],
   "source": [
    "# X=[]\n",
    "for i in range(data.shape[0]):\n",
    "    # for j in range(data.shape[1]):\n",
    "    #     if data.iloc[i][j].isna():\n",
    "    #         data.iloc[i][j] = np.mean(data.iloc[i])\n",
    "    data.iloc[i].fillna(data.iloc[i].mean(), inplace=True)\n",
    "    # X.append(np.array(data.iloc[0][1:]))"
   ]
  },
  {
   "cell_type": "code",
   "execution_count": 144,
   "metadata": {},
   "outputs": [
    {
     "data": {
      "text/plain": [
       "X0001    0\n",
       "Y0001    0\n",
       "Z0001    0\n",
       "X0101    0\n",
       "Y0101    0\n",
       "        ..\n",
       "Y6420    0\n",
       "Z6420    0\n",
       "X6520    0\n",
       "Y6520    0\n",
       "Z6520    0\n",
       "Length: 3960, dtype: int64"
      ]
     },
     "execution_count": 144,
     "metadata": {},
     "output_type": "execute_result"
    }
   ],
   "source": [
    "data.isna().sum()"
   ]
  },
  {
   "cell_type": "code",
   "execution_count": 145,
   "metadata": {},
   "outputs": [
    {
     "data": {
      "text/plain": [
       "pandas.core.series.Series"
      ]
     },
     "execution_count": 145,
     "metadata": {},
     "output_type": "execute_result"
    }
   ],
   "source": [
    "# X=np.array(X)\n",
    "# X.shape\n",
    "type(data.iloc[0])"
   ]
  },
  {
   "cell_type": "markdown",
   "metadata": {},
   "source": [
    "SVC"
   ]
  },
  {
   "cell_type": "code",
   "execution_count": 146,
   "metadata": {},
   "outputs": [],
   "source": [
    "from sklearn.model_selection import train_test_split\n",
    "from sklearn.metrics import classification_report, confusion_matrix\n",
    "x_train, x_test, y_train, y_test = train_test_split(data, Y, test_size=0.2, random_state=42)"
   ]
  },
  {
   "cell_type": "code",
   "execution_count": 147,
   "metadata": {},
   "outputs": [
    {
     "data": {
      "text/plain": [
       "<bound method NDFrame.head of           X0001       Y0001     Z0001       X0101       Y0101     Z0101  \\\n",
       "456    0.235029   11.942410  0.639900    0.431633   12.184688  0.616264   \n",
       "6     -1.136776 -104.591851  1.221791   -1.136776 -104.591851  1.221791   \n",
       "362   -0.037427   46.847488  1.278112    0.118165   48.186779  1.224513   \n",
       "594   -1.152971   27.921926 -1.046066   -1.152971   27.921926 -1.046066   \n",
       "439   -1.001243 -210.468926  7.456261   -1.001243 -210.468926  7.456261   \n",
       "..          ...         ...       ...         ...         ...       ...   \n",
       "71  -121.353164   40.527615  0.640427 -121.353164   40.527615  0.640427   \n",
       "106   -1.574159  -65.980731  5.376639   -1.574159  -65.980731  5.376639   \n",
       "270   -1.606777 -179.820228  9.252626   -1.606777 -179.820228  9.252626   \n",
       "435   -1.007977  866.301058  6.319335   -1.007977  866.301058  6.319335   \n",
       "102   -1.551976 -133.040594  4.154679   -1.551976 -133.040594  4.154679   \n",
       "\n",
       "          X0201       Y0201     Z0201       X0301  ...      Z6220      X6320  \\\n",
       "456    0.575187   12.930948  0.601193    0.643227  ...  -0.635699   0.709070   \n",
       "6     -1.136776 -104.591851  1.221791   -1.136776  ...  -0.500250   0.724880   \n",
       "362    0.202220   51.437520  1.204512    0.228147  ...   3.273689   3.273689   \n",
       "594   -1.152971   27.921926 -1.046066   -1.152971  ...  -0.160854   0.463785   \n",
       "439   -1.001243 -210.468926  7.456261   -1.001243  ... -74.528989 -74.528989   \n",
       "..          ...         ...       ...         ...  ...        ...        ...   \n",
       "71  -121.353164   40.527615  0.640427 -121.353164  ...  -0.332784   0.631028   \n",
       "106   -1.574159  -65.980731  5.376639   -1.574159  ...  -0.821812   0.778725   \n",
       "270   -1.606777 -179.820228  9.252626   -1.606777  ...  -0.692683   0.751658   \n",
       "435   -1.007977  866.301058  6.319335   -1.007977  ...  -0.861823   0.555368   \n",
       "102   -1.551976 -133.040594  4.154679   -1.551976  ...  -0.839574   0.781583   \n",
       "\n",
       "         Y6320      Z6320      X6420      Y6420      Z6420      X6520  \\\n",
       "456   0.839202  -0.201022   0.465486   0.859402  -0.548460   0.661367   \n",
       "6     0.967344  -0.223623   0.341140   0.991761  -0.405335   0.629582   \n",
       "362   3.273689   3.273689   3.273689   3.273689   3.273689   3.273689   \n",
       "594   0.809179  -0.422135   0.197674   0.812225  -0.067556   0.481023   \n",
       "439 -74.528989 -74.528989 -74.528989 -74.528989 -74.528989 -74.528989   \n",
       "..         ...        ...        ...        ...        ...        ...   \n",
       "71    0.842147  -0.327773   0.466355   0.804297  -0.262507   0.585957   \n",
       "106   0.871229  -0.414697   0.368450   0.847132  -0.701603   0.691388   \n",
       "270   0.839595  -0.356866   0.458754   0.844893  -0.585844   0.668369   \n",
       "435   0.862647  -0.598443   0.242015   0.843323  -0.721389   0.483158   \n",
       "102   0.871545  -0.415829   0.433697   0.862129  -0.713766   0.695671   \n",
       "\n",
       "         Y6520      Z6520  \n",
       "456   0.754956   0.047786  \n",
       "6     0.899335   0.014798  \n",
       "362   3.273689   3.273689  \n",
       "594   0.758061  -0.067660  \n",
       "439 -74.528989 -74.528989  \n",
       "..         ...        ...  \n",
       "71    0.757713  -0.014388  \n",
       "106   0.779200   0.023052  \n",
       "270   0.759817   0.037166  \n",
       "435   0.766815  -0.003301  \n",
       "102   0.776923   0.027273  \n",
       "\n",
       "[577 rows x 3960 columns]>"
      ]
     },
     "execution_count": 147,
     "metadata": {},
     "output_type": "execute_result"
    }
   ],
   "source": [
    "x_train.head"
   ]
  },
  {
   "cell_type": "code",
   "execution_count": 148,
   "metadata": {},
   "outputs": [],
   "source": [
    "from sklearn.svm import SVC\n",
    "# model=SVC(kernel='rbf', C=100, gamma=0.001, random_state=42, verbose=True, max_iter=1000, decision_function_shape='ovo')\n",
    "# model.fit(x_train, y_train)\n",
    "# pred=model.predict(x_test)"
   ]
  },
  {
   "cell_type": "code",
   "execution_count": 149,
   "metadata": {},
   "outputs": [],
   "source": [
    "from sklearn.metrics import classification_report, confusion_matrix\n",
    "# # print(confusion_matrix(y_test, pred))\n",
    "# print(classification_report(y_test, pred))"
   ]
  },
  {
   "cell_type": "code",
   "execution_count": 150,
   "metadata": {},
   "outputs": [],
   "source": [
    "# from sklearn.model_selection import GridSearchCV\n",
    "# param_grid={'C': [0.1,1,10,100,1000], 'gamma': [1,0.1,0.01,0.001,0.0001]}\n",
    "# grid=GridSearchCV(SVC(), param_grid, verbose=5)"
   ]
  },
  {
   "cell_type": "code",
   "execution_count": 151,
   "metadata": {},
   "outputs": [],
   "source": [
    "# grid.fit(x_train, y_train)"
   ]
  },
  {
   "cell_type": "code",
   "execution_count": 152,
   "metadata": {},
   "outputs": [],
   "source": [
    "# grid.best_params_"
   ]
  },
  {
   "cell_type": "code",
   "execution_count": 153,
   "metadata": {},
   "outputs": [],
   "source": [
    "# grid_pred=grid.predict(x_test)"
   ]
  },
  {
   "cell_type": "code",
   "execution_count": 154,
   "metadata": {},
   "outputs": [],
   "source": [
    "# a=classification_report(y_test, grid_pred)\n",
    "# print(a)"
   ]
  },
  {
   "cell_type": "markdown",
   "metadata": {},
   "source": [
    "Random Forest"
   ]
  },
  {
   "cell_type": "code",
   "execution_count": 155,
   "metadata": {},
   "outputs": [],
   "source": [
    "from sklearn.ensemble import RandomForestClassifier\n",
    "model = RandomForestClassifier(n_estimators=100, random_state=42)\n",
    "\n",
    "# Train the model\n",
    "# model.fit(x_train, y_train)\n",
    "model.fit(x_train, y_train)\n",
    "\n",
    "# Make predictions on the test set\n",
    "pred = model.predict(x_test)"
   ]
  },
  {
   "cell_type": "code",
   "execution_count": 156,
   "metadata": {},
   "outputs": [
    {
     "name": "stdout",
     "output_type": "stream",
     "text": [
      "[[ 9  0  0  0  0  0  0  0  0  0  0  0  0  0  0  0  0]\n",
      " [ 0 16  0  0  0  0  1  0  0  0  0  0  0  0  0  0  0]\n",
      " [ 0  0  8  0  0  0  0  0  0  0  0  0  0  0  0  0  0]\n",
      " [ 0  0  0  7  0  0  0  0  0  0  0  0  0  0  0  0  0]\n",
      " [ 0  0  0  0  6  0  0  0  0  2  0  0  0  0  0  0  0]\n",
      " [ 0  0  0  0  0  9  0  0  0  0  0  0  0  0  0  0  0]\n",
      " [ 0  0  0  0  0  0  9  0  0  0  0  0  0  0  0  0  0]\n",
      " [ 0  0  0  0  0  0  0 10  0  0  0  0  0  0  0  0  0]\n",
      " [ 0  0  0  0  0  0  0  0  5  0  0  0  0  0  0  0  0]\n",
      " [ 0  0  0  0  0  0  0  0  0 11  0  0  0  0  0  0  0]\n",
      " [ 0  0  0  0  0  0  0  0  0  0  7  0  0  0  0  0  0]\n",
      " [ 0  0  0  0  0  0  0  0  0  0  0  3  0  0  0  0  0]\n",
      " [ 0  0  0  0  0  0  0  0  0  0  0  0  7  0  0  0  0]\n",
      " [ 0  0  0  0  0  0  0  0  0  0  0  0  0  4  0  0  0]\n",
      " [ 0  0  0  0  0  0  0  0  0  0  0  0  0  0  8  0  0]\n",
      " [ 0  0  0  0  0  0  0  0  0  0  0  0  0  0  0  8  0]\n",
      " [ 0  0  0  0  0  0  0  1  0  0  0  0  0  0  0  0 14]]\n"
     ]
    }
   ],
   "source": [
    "print(confusion_matrix(y_test, pred))"
   ]
  },
  {
   "cell_type": "code",
   "execution_count": 157,
   "metadata": {},
   "outputs": [
    {
     "name": "stdout",
     "output_type": "stream",
     "text": [
      "              precision    recall  f1-score   support\n",
      "\n",
      "           0       1.00      1.00      1.00         9\n",
      "           1       1.00      0.94      0.97        17\n",
      "           2       1.00      1.00      1.00         8\n",
      "           3       1.00      1.00      1.00         7\n",
      "           4       1.00      0.75      0.86         8\n",
      "           5       1.00      1.00      1.00         9\n",
      "           6       0.90      1.00      0.95         9\n",
      "           7       0.91      1.00      0.95        10\n",
      "           8       1.00      1.00      1.00         5\n",
      "           9       0.85      1.00      0.92        11\n",
      "          10       1.00      1.00      1.00         7\n",
      "          11       1.00      1.00      1.00         3\n",
      "          12       1.00      1.00      1.00         7\n",
      "          13       1.00      1.00      1.00         4\n",
      "          14       1.00      1.00      1.00         8\n",
      "          15       1.00      1.00      1.00         8\n",
      "          16       1.00      0.93      0.97        15\n",
      "\n",
      "    accuracy                           0.97       145\n",
      "   macro avg       0.98      0.98      0.98       145\n",
      "weighted avg       0.98      0.97      0.97       145\n",
      "\n"
     ]
    }
   ],
   "source": [
    "a=classification_report(y_test, pred)\n",
    "print(a)"
   ]
  },
  {
   "cell_type": "code",
   "execution_count": 158,
   "metadata": {},
   "outputs": [],
   "source": [
    "import pickle\n",
    "\n",
    "with open('model.pkl', 'wb') as f:\n",
    "    pickle.dump(model, f)"
   ]
  }
 ],
 "metadata": {
  "kernelspec": {
   "display_name": "Python 3",
   "language": "python",
   "name": "python3"
  },
  "language_info": {
   "codemirror_mode": {
    "name": "ipython",
    "version": 3
   },
   "file_extension": ".py",
   "mimetype": "text/x-python",
   "name": "python",
   "nbconvert_exporter": "python",
   "pygments_lexer": "ipython3",
   "version": "3.11.4"
  }
 },
 "nbformat": 4,
 "nbformat_minor": 2
}
