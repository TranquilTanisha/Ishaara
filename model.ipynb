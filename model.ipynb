{
 "cells": [
  {
   "cell_type": "code",
   "execution_count": 25,
   "metadata": {},
   "outputs": [],
   "source": [
    "import numpy as np\n",
    "import pandas as pd\n",
    "import json"
   ]
  },
  {
   "cell_type": "code",
   "execution_count": 26,
   "metadata": {},
   "outputs": [
    {
     "data": {
      "text/plain": [
       "{'Boy': 0,\n",
       " 'Can': 1,\n",
       " 'Eat': 2,\n",
       " 'Fine': 3,\n",
       " 'Girl': 4,\n",
       " 'Help': 5,\n",
       " 'How': 6,\n",
       " 'Hungry': 7,\n",
       " 'I': 8,\n",
       " 'Mother': 9,\n",
       " 'Namaste': 10,\n",
       " 'Name': 11,\n",
       " 'Parents': 12,\n",
       " 'Sister': 13,\n",
       " 'Sleep': 14,\n",
       " 'This': 15,\n",
       " 'You': 16}"
      ]
     },
     "execution_count": 26,
     "metadata": {},
     "output_type": "execute_result"
    }
   ],
   "source": [
    "with open('data.json', 'r') as f:\n",
    "    labels = json.load(f)\n",
    "labels"
   ]
  },
  {
   "cell_type": "code",
   "execution_count": 27,
   "metadata": {},
   "outputs": [
    {
     "data": {
      "text/html": [
       "<div>\n",
       "<style scoped>\n",
       "    .dataframe tbody tr th:only-of-type {\n",
       "        vertical-align: middle;\n",
       "    }\n",
       "\n",
       "    .dataframe tbody tr th {\n",
       "        vertical-align: top;\n",
       "    }\n",
       "\n",
       "    .dataframe thead th {\n",
       "        text-align: right;\n",
       "    }\n",
       "</style>\n",
       "<table border=\"1\" class=\"dataframe\">\n",
       "  <thead>\n",
       "    <tr style=\"text-align: right;\">\n",
       "      <th></th>\n",
       "      <th>Class Label</th>\n",
       "      <th>X0001</th>\n",
       "      <th>Y0001</th>\n",
       "      <th>Z0001</th>\n",
       "      <th>X0101</th>\n",
       "      <th>Y0101</th>\n",
       "      <th>Z0101</th>\n",
       "      <th>X0201</th>\n",
       "      <th>Y0201</th>\n",
       "      <th>Z0201</th>\n",
       "      <th>...</th>\n",
       "      <th>Z6219</th>\n",
       "      <th>X6319</th>\n",
       "      <th>Y6319</th>\n",
       "      <th>Z6319</th>\n",
       "      <th>X6419</th>\n",
       "      <th>Y6419</th>\n",
       "      <th>Z6419</th>\n",
       "      <th>X6519</th>\n",
       "      <th>Y6519</th>\n",
       "      <th>Z6519</th>\n",
       "    </tr>\n",
       "  </thead>\n",
       "  <tbody>\n",
       "    <tr>\n",
       "      <th>0</th>\n",
       "      <td>Boy</td>\n",
       "      <td>1.0</td>\n",
       "      <td>0.547994</td>\n",
       "      <td>0.000000</td>\n",
       "      <td>1.0</td>\n",
       "      <td>0.547994</td>\n",
       "      <td>0.000000</td>\n",
       "      <td>1.0</td>\n",
       "      <td>0.547994</td>\n",
       "      <td>0.000000</td>\n",
       "      <td>...</td>\n",
       "      <td>0.071914</td>\n",
       "      <td>0.272580</td>\n",
       "      <td>0.322938</td>\n",
       "      <td>0.127316</td>\n",
       "      <td>0.228388</td>\n",
       "      <td>0.264486</td>\n",
       "      <td>0.084617</td>\n",
       "      <td>0.265310</td>\n",
       "      <td>0.313749</td>\n",
       "      <td>0.177373</td>\n",
       "    </tr>\n",
       "    <tr>\n",
       "      <th>1</th>\n",
       "      <td>Boy</td>\n",
       "      <td>1.0</td>\n",
       "      <td>0.857104</td>\n",
       "      <td>0.379246</td>\n",
       "      <td>1.0</td>\n",
       "      <td>0.857104</td>\n",
       "      <td>0.379246</td>\n",
       "      <td>1.0</td>\n",
       "      <td>0.857104</td>\n",
       "      <td>0.379246</td>\n",
       "      <td>...</td>\n",
       "      <td>0.265342</td>\n",
       "      <td>0.458347</td>\n",
       "      <td>0.407922</td>\n",
       "      <td>0.230979</td>\n",
       "      <td>0.368018</td>\n",
       "      <td>0.479731</td>\n",
       "      <td>0.278366</td>\n",
       "      <td>0.415877</td>\n",
       "      <td>0.466096</td>\n",
       "      <td>0.319931</td>\n",
       "    </tr>\n",
       "    <tr>\n",
       "      <th>2</th>\n",
       "      <td>Boy</td>\n",
       "      <td>1.0</td>\n",
       "      <td>0.852530</td>\n",
       "      <td>0.358460</td>\n",
       "      <td>1.0</td>\n",
       "      <td>0.852530</td>\n",
       "      <td>0.358460</td>\n",
       "      <td>1.0</td>\n",
       "      <td>0.852530</td>\n",
       "      <td>0.358460</td>\n",
       "      <td>...</td>\n",
       "      <td>0.252582</td>\n",
       "      <td>0.462702</td>\n",
       "      <td>0.409546</td>\n",
       "      <td>0.237752</td>\n",
       "      <td>0.368986</td>\n",
       "      <td>0.483866</td>\n",
       "      <td>0.267000</td>\n",
       "      <td>0.418716</td>\n",
       "      <td>0.471061</td>\n",
       "      <td>0.319184</td>\n",
       "    </tr>\n",
       "    <tr>\n",
       "      <th>3</th>\n",
       "      <td>Boy</td>\n",
       "      <td>1.0</td>\n",
       "      <td>0.778636</td>\n",
       "      <td>0.000000</td>\n",
       "      <td>1.0</td>\n",
       "      <td>0.778636</td>\n",
       "      <td>0.000000</td>\n",
       "      <td>1.0</td>\n",
       "      <td>0.778636</td>\n",
       "      <td>0.000000</td>\n",
       "      <td>...</td>\n",
       "      <td>0.003979</td>\n",
       "      <td>0.426772</td>\n",
       "      <td>0.485623</td>\n",
       "      <td>0.153090</td>\n",
       "      <td>0.321029</td>\n",
       "      <td>0.400402</td>\n",
       "      <td>0.032188</td>\n",
       "      <td>0.410688</td>\n",
       "      <td>0.467018</td>\n",
       "      <td>0.270999</td>\n",
       "    </tr>\n",
       "    <tr>\n",
       "      <th>4</th>\n",
       "      <td>Boy</td>\n",
       "      <td>1.0</td>\n",
       "      <td>0.589883</td>\n",
       "      <td>0.119620</td>\n",
       "      <td>1.0</td>\n",
       "      <td>0.589883</td>\n",
       "      <td>0.119620</td>\n",
       "      <td>1.0</td>\n",
       "      <td>0.589883</td>\n",
       "      <td>0.119620</td>\n",
       "      <td>...</td>\n",
       "      <td>0.380987</td>\n",
       "      <td>0.487479</td>\n",
       "      <td>0.526593</td>\n",
       "      <td>0.386855</td>\n",
       "      <td>0.465436</td>\n",
       "      <td>0.526274</td>\n",
       "      <td>0.390475</td>\n",
       "      <td>0.482003</td>\n",
       "      <td>0.520124</td>\n",
       "      <td>0.418845</td>\n",
       "    </tr>\n",
       "  </tbody>\n",
       "</table>\n",
       "<p>5 rows × 3763 columns</p>\n",
       "</div>"
      ],
      "text/plain": [
       "  Class Label  X0001     Y0001     Z0001  X0101     Y0101     Z0101  X0201  \\\n",
       "0         Boy    1.0  0.547994  0.000000    1.0  0.547994  0.000000    1.0   \n",
       "1         Boy    1.0  0.857104  0.379246    1.0  0.857104  0.379246    1.0   \n",
       "2         Boy    1.0  0.852530  0.358460    1.0  0.852530  0.358460    1.0   \n",
       "3         Boy    1.0  0.778636  0.000000    1.0  0.778636  0.000000    1.0   \n",
       "4         Boy    1.0  0.589883  0.119620    1.0  0.589883  0.119620    1.0   \n",
       "\n",
       "      Y0201     Z0201  ...     Z6219     X6319     Y6319     Z6319     X6419  \\\n",
       "0  0.547994  0.000000  ...  0.071914  0.272580  0.322938  0.127316  0.228388   \n",
       "1  0.857104  0.379246  ...  0.265342  0.458347  0.407922  0.230979  0.368018   \n",
       "2  0.852530  0.358460  ...  0.252582  0.462702  0.409546  0.237752  0.368986   \n",
       "3  0.778636  0.000000  ...  0.003979  0.426772  0.485623  0.153090  0.321029   \n",
       "4  0.589883  0.119620  ...  0.380987  0.487479  0.526593  0.386855  0.465436   \n",
       "\n",
       "      Y6419     Z6419     X6519     Y6519     Z6519  \n",
       "0  0.264486  0.084617  0.265310  0.313749  0.177373  \n",
       "1  0.479731  0.278366  0.415877  0.466096  0.319931  \n",
       "2  0.483866  0.267000  0.418716  0.471061  0.319184  \n",
       "3  0.400402  0.032188  0.410688  0.467018  0.270999  \n",
       "4  0.526274  0.390475  0.482003  0.520124  0.418845  \n",
       "\n",
       "[5 rows x 3763 columns]"
      ]
     },
     "execution_count": 27,
     "metadata": {},
     "output_type": "execute_result"
    }
   ],
   "source": [
    "data=pd.read_csv('dataset.csv')\n",
    "data.head()"
   ]
  },
  {
   "cell_type": "code",
   "execution_count": 28,
   "metadata": {},
   "outputs": [
    {
     "data": {
      "text/plain": [
       "0      Boy\n",
       "1      Boy\n",
       "2      Boy\n",
       "3      Boy\n",
       "4      Boy\n",
       "      ... \n",
       "717    You\n",
       "718    You\n",
       "719    You\n",
       "720    You\n",
       "721    You\n",
       "Name: Class Label, Length: 722, dtype: object"
      ]
     },
     "execution_count": 28,
     "metadata": {},
     "output_type": "execute_result"
    }
   ],
   "source": [
    "Y = data['Class Label']\n",
    "Y"
   ]
  },
  {
   "cell_type": "code",
   "execution_count": 29,
   "metadata": {},
   "outputs": [
    {
     "data": {
      "text/plain": [
       "pandas.core.series.Series"
      ]
     },
     "execution_count": 29,
     "metadata": {},
     "output_type": "execute_result"
    }
   ],
   "source": [
    "Y = Y.map(labels)\n",
    "type(Y)"
   ]
  },
  {
   "cell_type": "code",
   "execution_count": 30,
   "metadata": {},
   "outputs": [
    {
     "data": {
      "text/plain": [
       "array([ 0,  0,  0,  0,  0,  0,  0,  0,  0,  0,  0,  0,  0,  0,  0,  0,  0,\n",
       "        0,  0,  0,  0,  0,  0,  0,  0,  0,  0,  0,  0,  0,  0,  0,  0,  0,\n",
       "        0,  0,  0,  0,  0,  0,  0,  0,  0,  0,  0,  0,  0,  0,  0,  0,  0,\n",
       "        0,  1,  1,  1,  1,  1,  1,  1,  1,  1,  1,  1,  1,  1,  1,  1,  1,\n",
       "        1,  1,  1,  1,  1,  1,  1,  1,  1,  1,  1,  1,  1,  1,  1,  1,  1,\n",
       "        1,  1,  1,  1,  1,  1,  1,  1,  1,  1,  1,  1,  1,  1,  2,  2,  2,\n",
       "        2,  2,  2,  2,  2,  2,  2,  2,  2,  2,  2,  2,  2,  2,  2,  2,  2,\n",
       "        2,  2,  2,  2,  2,  2,  2,  2,  2,  2,  2,  2,  2,  2,  2,  2,  2,\n",
       "        2,  2,  2,  3,  3,  3,  3,  3,  3,  3,  3,  3,  3,  3,  3,  3,  3,\n",
       "        3,  3,  3,  3,  3,  3,  3,  3,  3,  3,  3,  3,  3,  3,  3,  3,  3,\n",
       "        3,  3,  3,  3,  3,  3,  3,  3,  3,  3,  3,  3,  3,  4,  4,  4,  4,\n",
       "        4,  4,  4,  4,  4,  4,  4,  4,  4,  4,  4,  4,  4,  4,  4,  4,  4,\n",
       "        4,  4,  4,  4,  4,  4,  4,  4,  4,  4,  4,  4,  4,  4,  4,  5,  5,\n",
       "        5,  5,  5,  5,  5,  5,  5,  5,  5,  5,  5,  5,  5,  5,  5,  5,  5,\n",
       "        5,  5,  5,  5,  5,  5,  5,  5,  5,  5,  5,  5,  5,  5,  5,  5,  5,\n",
       "        5,  5,  5,  5,  5,  5,  5,  5,  6,  6,  6,  6,  6,  6,  6,  6,  6,\n",
       "        6,  6,  6,  6,  6,  6,  7,  7,  7,  7,  7,  7,  7,  7,  7,  7,  7,\n",
       "        7,  7,  7,  7,  7,  7,  7,  7,  7,  7,  7,  7,  7,  7,  7,  7,  7,\n",
       "        7,  7,  7,  7,  7,  7,  7,  7,  7,  7,  7,  7,  7,  7,  7,  7,  8,\n",
       "        8,  8,  8,  8,  8,  8,  8,  8,  8,  8,  8,  8,  8,  8,  8,  8,  8,\n",
       "        8,  8,  8,  8,  8,  8,  8,  8,  8,  8,  8,  8,  8,  8,  8,  8,  8,\n",
       "        8,  9,  9,  9,  9,  9,  9,  9,  9,  9,  9,  9,  9,  9,  9,  9,  9,\n",
       "        9,  9,  9,  9,  9,  9,  9,  9,  9,  9,  9,  9,  9,  9,  9,  9,  9,\n",
       "        9,  9,  9,  9,  9,  9,  9, 10, 10, 10, 10, 10, 10, 10, 10, 10, 10,\n",
       "       10, 10, 10, 10, 10, 10, 10, 10, 10, 10, 10, 10, 10, 10, 10, 10, 10,\n",
       "       10, 10, 10, 11, 11, 11, 11, 11, 11, 11, 11, 11, 11, 11, 11, 11, 11,\n",
       "       11, 11, 11, 11, 11, 11, 11, 11, 11, 11, 11, 11, 11, 11, 11, 11, 11,\n",
       "       11, 11, 11, 11, 11, 11, 11, 11, 11, 11, 11, 11, 11, 12, 12, 12, 12,\n",
       "       12, 12, 12, 12, 12, 12, 12, 12, 12, 12, 12, 12, 12, 12, 12, 12, 12,\n",
       "       12, 12, 12, 12, 12, 12, 12, 12, 12, 12, 12, 12, 12, 12, 12, 12, 12,\n",
       "       12, 12, 12, 12, 12, 12, 13, 13, 13, 13, 13, 13, 13, 13, 13, 13, 13,\n",
       "       13, 13, 13, 13, 13, 14, 14, 14, 14, 14, 14, 14, 14, 14, 14, 14, 14,\n",
       "       14, 14, 14, 14, 14, 14, 14, 14, 14, 14, 14, 14, 14, 14, 14, 14, 14,\n",
       "       14, 14, 14, 14, 14, 14, 14, 14, 14, 14, 14, 14, 14, 14, 14, 15, 15,\n",
       "       15, 15, 15, 15, 15, 15, 15, 15, 15, 15, 15, 15, 15, 15, 15, 15, 15,\n",
       "       15, 15, 15, 15, 15, 15, 15, 15, 15, 15, 15, 15, 15, 15, 15, 15, 15,\n",
       "       15, 15, 15, 15, 15, 15, 15, 15, 15, 15, 15, 15,  6,  6,  6,  6,  6,\n",
       "        6,  6,  6,  6,  6,  6,  6,  6,  6,  6,  6,  6,  6,  6,  6,  6,  6,\n",
       "        6,  6,  6,  6,  6,  6,  6,  6,  6,  6, 16, 16, 16, 16, 16, 16, 16,\n",
       "       16, 16, 16, 16, 16, 16, 16, 16, 16, 16, 16, 16, 16, 16, 16, 16, 16,\n",
       "       16, 16, 16, 16, 16, 16, 16, 16, 16, 16, 16, 16, 16, 16, 16, 16, 16,\n",
       "       16, 16, 16, 16, 16, 16, 16, 16, 16, 16, 16, 16, 16, 16, 16, 16, 16,\n",
       "       16, 16, 16, 16, 16, 16, 16, 16], dtype=int64)"
      ]
     },
     "execution_count": 30,
     "metadata": {},
     "output_type": "execute_result"
    }
   ],
   "source": [
    "# Y=pd.DataFrame(Y)\n",
    "Y=np.array(Y)\n",
    "Y"
   ]
  },
  {
   "cell_type": "code",
   "execution_count": 31,
   "metadata": {},
   "outputs": [],
   "source": [
    "# from tensorflow.keras.utils import to_categorical\n",
    "# Y=to_categorical(Y).astype(int)\n",
    "# Y"
   ]
  },
  {
   "cell_type": "code",
   "execution_count": 32,
   "metadata": {},
   "outputs": [
    {
     "data": {
      "text/plain": [
       "(722,)"
      ]
     },
     "execution_count": 32,
     "metadata": {},
     "output_type": "execute_result"
    }
   ],
   "source": [
    "Y.shape"
   ]
  },
  {
   "cell_type": "code",
   "execution_count": 33,
   "metadata": {},
   "outputs": [
    {
     "data": {
      "text/html": [
       "<div>\n",
       "<style scoped>\n",
       "    .dataframe tbody tr th:only-of-type {\n",
       "        vertical-align: middle;\n",
       "    }\n",
       "\n",
       "    .dataframe tbody tr th {\n",
       "        vertical-align: top;\n",
       "    }\n",
       "\n",
       "    .dataframe thead th {\n",
       "        text-align: right;\n",
       "    }\n",
       "</style>\n",
       "<table border=\"1\" class=\"dataframe\">\n",
       "  <thead>\n",
       "    <tr style=\"text-align: right;\">\n",
       "      <th></th>\n",
       "      <th>X0001</th>\n",
       "      <th>Y0001</th>\n",
       "      <th>Z0001</th>\n",
       "      <th>X0101</th>\n",
       "      <th>Y0101</th>\n",
       "      <th>Z0101</th>\n",
       "      <th>X0201</th>\n",
       "      <th>Y0201</th>\n",
       "      <th>Z0201</th>\n",
       "      <th>X0301</th>\n",
       "      <th>...</th>\n",
       "      <th>Z6219</th>\n",
       "      <th>X6319</th>\n",
       "      <th>Y6319</th>\n",
       "      <th>Z6319</th>\n",
       "      <th>X6419</th>\n",
       "      <th>Y6419</th>\n",
       "      <th>Z6419</th>\n",
       "      <th>X6519</th>\n",
       "      <th>Y6519</th>\n",
       "      <th>Z6519</th>\n",
       "    </tr>\n",
       "  </thead>\n",
       "  <tbody>\n",
       "    <tr>\n",
       "      <th>0</th>\n",
       "      <td>1.0</td>\n",
       "      <td>0.547994</td>\n",
       "      <td>0.000000</td>\n",
       "      <td>1.0</td>\n",
       "      <td>0.547994</td>\n",
       "      <td>0.000000</td>\n",
       "      <td>1.0</td>\n",
       "      <td>0.547994</td>\n",
       "      <td>0.000000</td>\n",
       "      <td>1.0</td>\n",
       "      <td>...</td>\n",
       "      <td>0.071914</td>\n",
       "      <td>0.272580</td>\n",
       "      <td>0.322938</td>\n",
       "      <td>0.127316</td>\n",
       "      <td>0.228388</td>\n",
       "      <td>0.264486</td>\n",
       "      <td>0.084617</td>\n",
       "      <td>0.265310</td>\n",
       "      <td>0.313749</td>\n",
       "      <td>0.177373</td>\n",
       "    </tr>\n",
       "    <tr>\n",
       "      <th>1</th>\n",
       "      <td>1.0</td>\n",
       "      <td>0.857104</td>\n",
       "      <td>0.379246</td>\n",
       "      <td>1.0</td>\n",
       "      <td>0.857104</td>\n",
       "      <td>0.379246</td>\n",
       "      <td>1.0</td>\n",
       "      <td>0.857104</td>\n",
       "      <td>0.379246</td>\n",
       "      <td>1.0</td>\n",
       "      <td>...</td>\n",
       "      <td>0.265342</td>\n",
       "      <td>0.458347</td>\n",
       "      <td>0.407922</td>\n",
       "      <td>0.230979</td>\n",
       "      <td>0.368018</td>\n",
       "      <td>0.479731</td>\n",
       "      <td>0.278366</td>\n",
       "      <td>0.415877</td>\n",
       "      <td>0.466096</td>\n",
       "      <td>0.319931</td>\n",
       "    </tr>\n",
       "    <tr>\n",
       "      <th>2</th>\n",
       "      <td>1.0</td>\n",
       "      <td>0.852530</td>\n",
       "      <td>0.358460</td>\n",
       "      <td>1.0</td>\n",
       "      <td>0.852530</td>\n",
       "      <td>0.358460</td>\n",
       "      <td>1.0</td>\n",
       "      <td>0.852530</td>\n",
       "      <td>0.358460</td>\n",
       "      <td>1.0</td>\n",
       "      <td>...</td>\n",
       "      <td>0.252582</td>\n",
       "      <td>0.462702</td>\n",
       "      <td>0.409546</td>\n",
       "      <td>0.237752</td>\n",
       "      <td>0.368986</td>\n",
       "      <td>0.483866</td>\n",
       "      <td>0.267000</td>\n",
       "      <td>0.418716</td>\n",
       "      <td>0.471061</td>\n",
       "      <td>0.319184</td>\n",
       "    </tr>\n",
       "    <tr>\n",
       "      <th>3</th>\n",
       "      <td>1.0</td>\n",
       "      <td>0.778636</td>\n",
       "      <td>0.000000</td>\n",
       "      <td>1.0</td>\n",
       "      <td>0.778636</td>\n",
       "      <td>0.000000</td>\n",
       "      <td>1.0</td>\n",
       "      <td>0.778636</td>\n",
       "      <td>0.000000</td>\n",
       "      <td>1.0</td>\n",
       "      <td>...</td>\n",
       "      <td>0.003979</td>\n",
       "      <td>0.426772</td>\n",
       "      <td>0.485623</td>\n",
       "      <td>0.153090</td>\n",
       "      <td>0.321029</td>\n",
       "      <td>0.400402</td>\n",
       "      <td>0.032188</td>\n",
       "      <td>0.410688</td>\n",
       "      <td>0.467018</td>\n",
       "      <td>0.270999</td>\n",
       "    </tr>\n",
       "    <tr>\n",
       "      <th>4</th>\n",
       "      <td>1.0</td>\n",
       "      <td>0.589883</td>\n",
       "      <td>0.119620</td>\n",
       "      <td>1.0</td>\n",
       "      <td>0.589883</td>\n",
       "      <td>0.119620</td>\n",
       "      <td>1.0</td>\n",
       "      <td>0.589883</td>\n",
       "      <td>0.119620</td>\n",
       "      <td>1.0</td>\n",
       "      <td>...</td>\n",
       "      <td>0.380987</td>\n",
       "      <td>0.487479</td>\n",
       "      <td>0.526593</td>\n",
       "      <td>0.386855</td>\n",
       "      <td>0.465436</td>\n",
       "      <td>0.526274</td>\n",
       "      <td>0.390475</td>\n",
       "      <td>0.482003</td>\n",
       "      <td>0.520124</td>\n",
       "      <td>0.418845</td>\n",
       "    </tr>\n",
       "  </tbody>\n",
       "</table>\n",
       "<p>5 rows × 3762 columns</p>\n",
       "</div>"
      ],
      "text/plain": [
       "   X0001     Y0001     Z0001  X0101     Y0101     Z0101  X0201     Y0201  \\\n",
       "0    1.0  0.547994  0.000000    1.0  0.547994  0.000000    1.0  0.547994   \n",
       "1    1.0  0.857104  0.379246    1.0  0.857104  0.379246    1.0  0.857104   \n",
       "2    1.0  0.852530  0.358460    1.0  0.852530  0.358460    1.0  0.852530   \n",
       "3    1.0  0.778636  0.000000    1.0  0.778636  0.000000    1.0  0.778636   \n",
       "4    1.0  0.589883  0.119620    1.0  0.589883  0.119620    1.0  0.589883   \n",
       "\n",
       "      Z0201  X0301  ...     Z6219     X6319     Y6319     Z6319     X6419  \\\n",
       "0  0.000000    1.0  ...  0.071914  0.272580  0.322938  0.127316  0.228388   \n",
       "1  0.379246    1.0  ...  0.265342  0.458347  0.407922  0.230979  0.368018   \n",
       "2  0.358460    1.0  ...  0.252582  0.462702  0.409546  0.237752  0.368986   \n",
       "3  0.000000    1.0  ...  0.003979  0.426772  0.485623  0.153090  0.321029   \n",
       "4  0.119620    1.0  ...  0.380987  0.487479  0.526593  0.386855  0.465436   \n",
       "\n",
       "      Y6419     Z6419     X6519     Y6519     Z6519  \n",
       "0  0.264486  0.084617  0.265310  0.313749  0.177373  \n",
       "1  0.479731  0.278366  0.415877  0.466096  0.319931  \n",
       "2  0.483866  0.267000  0.418716  0.471061  0.319184  \n",
       "3  0.400402  0.032188  0.410688  0.467018  0.270999  \n",
       "4  0.526274  0.390475  0.482003  0.520124  0.418845  \n",
       "\n",
       "[5 rows x 3762 columns]"
      ]
     },
     "execution_count": 33,
     "metadata": {},
     "output_type": "execute_result"
    }
   ],
   "source": [
    "data.drop(['Class Label'], axis=1, inplace=True)\n",
    "data.head()"
   ]
  },
  {
   "cell_type": "code",
   "execution_count": 34,
   "metadata": {},
   "outputs": [
    {
     "data": {
      "text/plain": [
       "(722, 3762)"
      ]
     },
     "execution_count": 34,
     "metadata": {},
     "output_type": "execute_result"
    }
   ],
   "source": [
    "data.shape"
   ]
  },
  {
   "cell_type": "code",
   "execution_count": 35,
   "metadata": {},
   "outputs": [
    {
     "name": "stderr",
     "output_type": "stream",
     "text": [
      "C:\\Users\\Dell\\AppData\\Local\\Temp\\ipykernel_6556\\1369908113.py:6: FutureWarning: A value is trying to be set on a copy of a DataFrame or Series through chained assignment using an inplace method.\n",
      "The behavior will change in pandas 3.0. This inplace method will never work because the intermediate object on which we are setting values always behaves as a copy.\n",
      "\n",
      "For example, when doing 'df[col].method(value, inplace=True)', try using 'df.method({col: value}, inplace=True)' or df[col] = df[col].method(value) instead, to perform the operation inplace on the original object.\n",
      "\n",
      "\n",
      "  data.iloc[i].fillna(data.iloc[i].mean(), inplace=True)\n"
     ]
    }
   ],
   "source": [
    "# X=[]\n",
    "for i in range(data.shape[0]):\n",
    "    # for j in range(data.shape[1]):\n",
    "    #     if data.iloc[i][j].isna():\n",
    "    #         data.iloc[i][j] = np.mean(data.iloc[i])\n",
    "    data.iloc[i].fillna(data.iloc[i].mean(), inplace=True)\n",
    "    # X.append(np.array(data.iloc[0][1:]))"
   ]
  },
  {
   "cell_type": "code",
   "execution_count": 36,
   "metadata": {},
   "outputs": [
    {
     "data": {
      "text/plain": [
       "X0001    0\n",
       "Y0001    0\n",
       "Z0001    0\n",
       "X0101    0\n",
       "Y0101    0\n",
       "        ..\n",
       "Y6419    0\n",
       "Z6419    0\n",
       "X6519    0\n",
       "Y6519    0\n",
       "Z6519    0\n",
       "Length: 3762, dtype: int64"
      ]
     },
     "execution_count": 36,
     "metadata": {},
     "output_type": "execute_result"
    }
   ],
   "source": [
    "data.isna().sum()"
   ]
  },
  {
   "cell_type": "code",
   "execution_count": 37,
   "metadata": {},
   "outputs": [
    {
     "data": {
      "text/plain": [
       "pandas.core.series.Series"
      ]
     },
     "execution_count": 37,
     "metadata": {},
     "output_type": "execute_result"
    }
   ],
   "source": [
    "# X=np.array(X)\n",
    "# X.shape\n",
    "type(data.iloc[0])"
   ]
  },
  {
   "cell_type": "markdown",
   "metadata": {},
   "source": [
    "SVC"
   ]
  },
  {
   "cell_type": "code",
   "execution_count": 38,
   "metadata": {},
   "outputs": [],
   "source": [
    "from sklearn.model_selection import train_test_split\n",
    "x_train, x_test, y_train, y_test = train_test_split(data, Y, test_size=0.2, random_state=42)"
   ]
  },
  {
   "cell_type": "code",
   "execution_count": 39,
   "metadata": {},
   "outputs": [],
   "source": [
    "# from sklearn.svm import SVC\n",
    "# model=SVC(kernel='rbf', C=100, gamma=0.001, random_state=42, verbose=True, max_iter=1000, decision_function_shape='ovo')\n",
    "# model.fit(x_train, y_train)\n",
    "# pred=model.predict(x_test)"
   ]
  },
  {
   "cell_type": "code",
   "execution_count": 40,
   "metadata": {},
   "outputs": [],
   "source": [
    "from sklearn.metrics import classification_report, confusion_matrix\n",
    "# # print(confusion_matrix(y_test, pred))\n",
    "# print(classification_report(y_test, pred))"
   ]
  },
  {
   "cell_type": "code",
   "execution_count": 41,
   "metadata": {},
   "outputs": [],
   "source": [
    "# from sklearn.model_selection import GridSearchCV\n",
    "# param_grid={'C': [0.1,1,10,100,1000], 'gamma': [1,0.1,0.01,0.001,0.0001]}\n",
    "# grid=GridSearchCV(SVC(), param_grid, verbose=5)"
   ]
  },
  {
   "cell_type": "code",
   "execution_count": 42,
   "metadata": {},
   "outputs": [],
   "source": [
    "# grid.fit(x_train, y_train)"
   ]
  },
  {
   "cell_type": "code",
   "execution_count": 43,
   "metadata": {},
   "outputs": [],
   "source": [
    "# grid.best_params_"
   ]
  },
  {
   "cell_type": "code",
   "execution_count": 44,
   "metadata": {},
   "outputs": [],
   "source": [
    "# grid_pred=grid.predict(x_test)"
   ]
  },
  {
   "cell_type": "markdown",
   "metadata": {},
   "source": [
    "Random Forest"
   ]
  },
  {
   "cell_type": "code",
   "execution_count": 45,
   "metadata": {},
   "outputs": [],
   "source": [
    "from sklearn.ensemble import RandomForestClassifier\n",
    "model = RandomForestClassifier(n_estimators=100, random_state=42)\n",
    "\n",
    "# Train the model\n",
    "model.fit(x_train, y_train)\n",
    "\n",
    "# Make predictions on the test set\n",
    "pred = model.predict(x_test)"
   ]
  },
  {
   "cell_type": "code",
   "execution_count": 46,
   "metadata": {},
   "outputs": [
    {
     "name": "stdout",
     "output_type": "stream",
     "text": [
      "              precision    recall  f1-score   support\n",
      "\n",
      "           0       1.00      0.78      0.88         9\n",
      "           1       0.86      0.71      0.77        17\n",
      "           2       1.00      1.00      1.00         8\n",
      "           3       0.78      1.00      0.88         7\n",
      "           4       1.00      0.62      0.77         8\n",
      "           5       0.80      0.44      0.57         9\n",
      "           6       0.33      0.44      0.38         9\n",
      "           7       0.78      0.88      0.82         8\n",
      "           8       1.00      0.56      0.71         9\n",
      "           9       1.00      0.75      0.86         8\n",
      "          10       0.83      0.71      0.77         7\n",
      "          11       0.77      1.00      0.87        10\n",
      "          12       0.67      1.00      0.80         2\n",
      "          13       1.00      1.00      1.00         2\n",
      "          14       0.69      0.90      0.78        10\n",
      "          15       0.46      0.86      0.60         7\n",
      "          16       0.73      0.73      0.73        15\n",
      "\n",
      "    accuracy                           0.76       145\n",
      "   macro avg       0.81      0.79      0.78       145\n",
      "weighted avg       0.80      0.76      0.76       145\n",
      "\n"
     ]
    }
   ],
   "source": [
    "print(classification_report(y_test, pred))"
   ]
  },
  {
   "cell_type": "code",
   "execution_count": 47,
   "metadata": {},
   "outputs": [],
   "source": [
    "import pickle\n",
    "\n",
    "with open('model.pkl', 'wb') as f:\n",
    "    pickle.dump(model, f)"
   ]
  },
  {
   "cell_type": "markdown",
   "metadata": {},
   "source": [
    "XGBoost"
   ]
  },
  {
   "cell_type": "code",
   "execution_count": 48,
   "metadata": {},
   "outputs": [
    {
     "ename": "XGBoostError",
     "evalue": "[11:48:14] C:\\buildkite-agent\\builds\\buildkite-windows-cpu-autoscaling-group-i-0fdc6d574b9c0d168-1\\xgboost\\xgboost-ci-windows\\src\\objective\\multiclass_obj.cu:123: SoftmaxMultiClassObj: label must be in [0, num_class).",
     "output_type": "error",
     "traceback": [
      "\u001b[1;31m---------------------------------------------------------------------------\u001b[0m",
      "\u001b[1;31mXGBoostError\u001b[0m                              Traceback (most recent call last)",
      "Cell \u001b[1;32mIn[48], line 17\u001b[0m\n\u001b[0;32m      6\u001b[0m \u001b[38;5;66;03m# Train the model\u001b[39;00m\n\u001b[0;32m      7\u001b[0m params \u001b[38;5;241m=\u001b[39m {\n\u001b[0;32m      8\u001b[0m     \u001b[38;5;124m'\u001b[39m\u001b[38;5;124mobjective\u001b[39m\u001b[38;5;124m'\u001b[39m: \u001b[38;5;124m'\u001b[39m\u001b[38;5;124mmulti:softmax\u001b[39m\u001b[38;5;124m'\u001b[39m,  \u001b[38;5;66;03m# Specify multi-class classification\u001b[39;00m\n\u001b[0;32m      9\u001b[0m     \u001b[38;5;124m'\u001b[39m\u001b[38;5;124mnum_class\u001b[39m\u001b[38;5;124m'\u001b[39m: \u001b[38;5;241m3\u001b[39m,  \u001b[38;5;66;03m# Number of classes in the dataset\u001b[39;00m\n\u001b[1;32m   (...)\u001b[0m\n\u001b[0;32m     15\u001b[0m     \u001b[38;5;124m'\u001b[39m\u001b[38;5;124meval_metric\u001b[39m\u001b[38;5;124m'\u001b[39m: \u001b[38;5;124m'\u001b[39m\u001b[38;5;124mmerror\u001b[39m\u001b[38;5;124m'\u001b[39m  \u001b[38;5;66;03m# Multiclass classification error rate\u001b[39;00m\n\u001b[0;32m     16\u001b[0m }\n\u001b[1;32m---> 17\u001b[0m bst \u001b[38;5;241m=\u001b[39m \u001b[43mxgb\u001b[49m\u001b[38;5;241;43m.\u001b[39;49m\u001b[43mtrain\u001b[49m\u001b[43m(\u001b[49m\u001b[43mparams\u001b[49m\u001b[43m,\u001b[49m\u001b[43m \u001b[49m\u001b[43mdtrain\u001b[49m\u001b[43m,\u001b[49m\u001b[43m \u001b[49m\u001b[38;5;241;43m100\u001b[39;49m\u001b[43m)\u001b[49m\n\u001b[0;32m     19\u001b[0m \u001b[38;5;66;03m# Make predictions\u001b[39;00m\n\u001b[0;32m     20\u001b[0m preds \u001b[38;5;241m=\u001b[39m bst\u001b[38;5;241m.\u001b[39mpredict(dtest)\n",
      "File \u001b[1;32mc:\\Program Files\\Python311\\Lib\\site-packages\\xgboost\\core.py:620\u001b[0m, in \u001b[0;36mrequire_keyword_args.<locals>.throw_if.<locals>.inner_f\u001b[1;34m(*args, **kwargs)\u001b[0m\n\u001b[0;32m    618\u001b[0m \u001b[38;5;28;01mfor\u001b[39;00m k, arg \u001b[38;5;129;01min\u001b[39;00m \u001b[38;5;28mzip\u001b[39m(sig\u001b[38;5;241m.\u001b[39mparameters, args):\n\u001b[0;32m    619\u001b[0m     kwargs[k] \u001b[38;5;241m=\u001b[39m arg\n\u001b[1;32m--> 620\u001b[0m \u001b[38;5;28;01mreturn\u001b[39;00m \u001b[43mfunc\u001b[49m\u001b[43m(\u001b[49m\u001b[38;5;241;43m*\u001b[39;49m\u001b[38;5;241;43m*\u001b[39;49m\u001b[43mkwargs\u001b[49m\u001b[43m)\u001b[49m\n",
      "File \u001b[1;32mc:\\Program Files\\Python311\\Lib\\site-packages\\xgboost\\training.py:185\u001b[0m, in \u001b[0;36mtrain\u001b[1;34m(params, dtrain, num_boost_round, evals, obj, feval, maximize, early_stopping_rounds, evals_result, verbose_eval, xgb_model, callbacks, custom_metric)\u001b[0m\n\u001b[0;32m    183\u001b[0m \u001b[38;5;28;01mif\u001b[39;00m cb_container\u001b[38;5;241m.\u001b[39mbefore_iteration(bst, i, dtrain, evals):\n\u001b[0;32m    184\u001b[0m     \u001b[38;5;28;01mbreak\u001b[39;00m\n\u001b[1;32m--> 185\u001b[0m \u001b[43mbst\u001b[49m\u001b[38;5;241;43m.\u001b[39;49m\u001b[43mupdate\u001b[49m\u001b[43m(\u001b[49m\u001b[43mdtrain\u001b[49m\u001b[43m,\u001b[49m\u001b[43m \u001b[49m\u001b[43mi\u001b[49m\u001b[43m,\u001b[49m\u001b[43m \u001b[49m\u001b[43mobj\u001b[49m\u001b[43m)\u001b[49m\n\u001b[0;32m    186\u001b[0m \u001b[38;5;28;01mif\u001b[39;00m cb_container\u001b[38;5;241m.\u001b[39mafter_iteration(bst, i, dtrain, evals):\n\u001b[0;32m    187\u001b[0m     \u001b[38;5;28;01mbreak\u001b[39;00m\n",
      "File \u001b[1;32mc:\\Program Files\\Python311\\Lib\\site-packages\\xgboost\\core.py:1918\u001b[0m, in \u001b[0;36mBooster.update\u001b[1;34m(self, dtrain, iteration, fobj)\u001b[0m\n\u001b[0;32m   1915\u001b[0m \u001b[38;5;28mself\u001b[39m\u001b[38;5;241m.\u001b[39m_validate_dmatrix_features(dtrain)\n\u001b[0;32m   1917\u001b[0m \u001b[38;5;28;01mif\u001b[39;00m fobj \u001b[38;5;129;01mis\u001b[39;00m \u001b[38;5;28;01mNone\u001b[39;00m:\n\u001b[1;32m-> 1918\u001b[0m     \u001b[43m_check_call\u001b[49m\u001b[43m(\u001b[49m\u001b[43m_LIB\u001b[49m\u001b[38;5;241;43m.\u001b[39;49m\u001b[43mXGBoosterUpdateOneIter\u001b[49m\u001b[43m(\u001b[49m\u001b[38;5;28;43mself\u001b[39;49m\u001b[38;5;241;43m.\u001b[39;49m\u001b[43mhandle\u001b[49m\u001b[43m,\u001b[49m\n\u001b[0;32m   1919\u001b[0m \u001b[43m                                            \u001b[49m\u001b[43mctypes\u001b[49m\u001b[38;5;241;43m.\u001b[39;49m\u001b[43mc_int\u001b[49m\u001b[43m(\u001b[49m\u001b[43miteration\u001b[49m\u001b[43m)\u001b[49m\u001b[43m,\u001b[49m\n\u001b[0;32m   1920\u001b[0m \u001b[43m                                            \u001b[49m\u001b[43mdtrain\u001b[49m\u001b[38;5;241;43m.\u001b[39;49m\u001b[43mhandle\u001b[49m\u001b[43m)\u001b[49m\u001b[43m)\u001b[49m\n\u001b[0;32m   1921\u001b[0m \u001b[38;5;28;01melse\u001b[39;00m:\n\u001b[0;32m   1922\u001b[0m     pred \u001b[38;5;241m=\u001b[39m \u001b[38;5;28mself\u001b[39m\u001b[38;5;241m.\u001b[39mpredict(dtrain, output_margin\u001b[38;5;241m=\u001b[39m\u001b[38;5;28;01mTrue\u001b[39;00m, training\u001b[38;5;241m=\u001b[39m\u001b[38;5;28;01mTrue\u001b[39;00m)\n",
      "File \u001b[1;32mc:\\Program Files\\Python311\\Lib\\site-packages\\xgboost\\core.py:279\u001b[0m, in \u001b[0;36m_check_call\u001b[1;34m(ret)\u001b[0m\n\u001b[0;32m    268\u001b[0m \u001b[38;5;250m\u001b[39m\u001b[38;5;124;03m\"\"\"Check the return value of C API call\u001b[39;00m\n\u001b[0;32m    269\u001b[0m \n\u001b[0;32m    270\u001b[0m \u001b[38;5;124;03mThis function will raise exception when error occurs.\u001b[39;00m\n\u001b[1;32m   (...)\u001b[0m\n\u001b[0;32m    276\u001b[0m \u001b[38;5;124;03m    return value from API calls\u001b[39;00m\n\u001b[0;32m    277\u001b[0m \u001b[38;5;124;03m\"\"\"\u001b[39;00m\n\u001b[0;32m    278\u001b[0m \u001b[38;5;28;01mif\u001b[39;00m ret \u001b[38;5;241m!=\u001b[39m \u001b[38;5;241m0\u001b[39m:\n\u001b[1;32m--> 279\u001b[0m     \u001b[38;5;28;01mraise\u001b[39;00m XGBoostError(py_str(_LIB\u001b[38;5;241m.\u001b[39mXGBGetLastError()))\n",
      "\u001b[1;31mXGBoostError\u001b[0m: [11:48:14] C:\\buildkite-agent\\builds\\buildkite-windows-cpu-autoscaling-group-i-0fdc6d574b9c0d168-1\\xgboost\\xgboost-ci-windows\\src\\objective\\multiclass_obj.cu:123: SoftmaxMultiClassObj: label must be in [0, num_class)."
     ]
    }
   ],
   "source": [
    "import xgboost as xgb\n",
    "\n",
    "dtrain = xgb.DMatrix(x_train, label=y_train)\n",
    "dtest = xgb.DMatrix(x_test, label=y_test)\n",
    "\n",
    "# Train the model\n",
    "params = {\n",
    "    'objective': 'multi:softmax',  # Specify multi-class classification\n",
    "    'num_class': 3,  # Number of classes in the dataset\n",
    "    'max_depth': 3,\n",
    "    'eta': 0.1,\n",
    "    'gamma': 0.1,\n",
    "    'subsample': 0.8,\n",
    "    'colsample_bytree': 0.8,\n",
    "    'eval_metric': 'merror'  # Multiclass classification error rate\n",
    "}\n",
    "bst = xgb.train(params, dtrain, 100)\n",
    "\n",
    "# Make predictions\n",
    "preds = bst.predict(dtest)\n"
   ]
  }
 ],
 "metadata": {
  "kernelspec": {
   "display_name": "Python 3",
   "language": "python",
   "name": "python3"
  },
  "language_info": {
   "codemirror_mode": {
    "name": "ipython",
    "version": 3
   },
   "file_extension": ".py",
   "mimetype": "text/x-python",
   "name": "python",
   "nbconvert_exporter": "python",
   "pygments_lexer": "ipython3",
   "version": "3.11.4"
  }
 },
 "nbformat": 4,
 "nbformat_minor": 2
}
