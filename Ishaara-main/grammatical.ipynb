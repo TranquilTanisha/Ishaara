{
 "cells": [
  {
   "cell_type": "code",
   "execution_count": null,
   "metadata": {},
   "outputs": [],
   "source": [
    "# pip install optimum[openvino,nncf] torchvision \n",
    "# pip install onnx\n",
    "# pip install --upgrade protobuf numpy\n",
    "# git clone https://github.com/huggingface/optimum-intel\n",
    "\n",
    "# python -m pip install optimum\n",
    "# pip install --upgrade --upgrade-strategy eager optimum[openvino] "
   ]
  },
  {
   "cell_type": "code",
   "execution_count": 1,
   "metadata": {},
   "outputs": [
    {
     "name": "stdout",
     "output_type": "stream",
     "text": [
      "Original: This sentences have bad grammer.\n",
      "Corrected: grammar: these sentences have bad grammar.\n"
     ]
    }
   ],
   "source": [
    "from transformers import AutoTokenizer, AutoModelForSeq2SeqLM\n",
    "\n",
    "tokenizer = AutoTokenizer.from_pretrained(\"pszemraj/flan-t5-large-grammar-synthesis\")\n",
    "model = AutoModelForSeq2SeqLM.from_pretrained(\"pszemraj/flan-t5-large-grammar-synthesis\")\n",
    "\n",
    "def correct_grammar(text):\n",
    "    input_ids = tokenizer(f\"grammar: {text}\", return_tensors=\"pt\").input_ids\n",
    "    outputs = model.generate(input_ids, max_new_tokens=100)\n",
    "    return tokenizer.decode(outputs[0], skip_special_tokens=True)\n",
    "\n",
    "text = \"This sentences have bad grammer.\"\n",
    "corrected_text = correct_grammar(text)\n",
    "print(f\"Original: {text}\")\n",
    "print(f\"Corrected: {corrected_text}\")"
   ]
  },
  {
   "cell_type": "code",
   "execution_count": 3,
   "metadata": {},
   "outputs": [
    {
     "name": "stderr",
     "output_type": "stream",
     "text": [
      "Some non-default generation parameters are set in the model config. These should go into a GenerationConfig file (https://huggingface.co/docs/transformers/generation_strategies#save-a-custom-decoding-strategy-with-your-model) instead. This warning will be raised to an exception in v4.41.\n",
      "Non-default generation parameters: {'max_length': 512, 'min_length': 8, 'num_beams': 2, 'no_repeat_ngram_size': 4}\n"
     ]
    },
    {
     "name": "stdout",
     "output_type": "stream",
     "text": [
      "Model and tokenizer saved to ./saved_grammar_model\n"
     ]
    }
   ],
   "source": [
    "import os\n",
    "save_directory = \"./saved_grammar_model\"\n",
    "\n",
    "# Create the directory if it doesn't exist\n",
    "os.makedirs(save_directory, exist_ok=True)\n",
    "\n",
    "# Save the model\n",
    "model.save_pretrained(save_directory)\n",
    "\n",
    "# Save the tokenizer\n",
    "tokenizer.save_pretrained(save_directory)\n",
    "\n",
    "print(f\"Model and tokenizer saved to {save_directory}\")"
   ]
  },
  {
   "cell_type": "code",
   "execution_count": 4,
   "metadata": {},
   "outputs": [],
   "source": [
    "from transformers import AutoTokenizer, AutoModelForSeq2SeqLM\n",
    "\n",
    "# Load the saved model and tokenizer\n",
    "save_directory = \"./saved_grammar_model\"\n",
    "tokenizer = AutoTokenizer.from_pretrained(save_directory)\n",
    "model = AutoModelForSeq2SeqLM.from_pretrained(save_directory)"
   ]
  },
  {
   "cell_type": "code",
   "execution_count": null,
   "metadata": {},
   "outputs": [],
   "source": [
    "def correct_grammar(text):\n",
    "    input_ids = tokenizer(f\"grammar: {text}\", return_tensors=\"pt\").input_ids\n",
    "    outputs = model.generate(input_ids, max_new_tokens=100)\n",
    "    return tokenizer.decode(outputs[0], skip_special_tokens=True)\n",
    "\n",
    "# Example usage\n",
    "text = \"bor\"\n",
    "corrected_text = correct_grammar(text)\n",
    "print(f\"Original: {text}\")\n",
    "print(f\"Corrected: {corrected_text}\")"
   ]
  },
  {
   "cell_type": "code",
   "execution_count": null,
   "metadata": {},
   "outputs": [],
   "source": [
    "from transformers import AutoTokenizer\n",
    "from optimum.intel import OVModelForSeq2SeqLM\n",
    "from optimum.intel.openvino import OVQuantizer\n",
    "\n",
    "# Load the tokenizer\n",
    "tokenizer = AutoTokenizer.from_pretrained(\"pszemraj/flan-t5-large-grammar-synthesis\")\n",
    "\n",
    "# Load the model\n",
    "model = OVModelForSeq2SeqLM.from_pretrained(\"pszemraj/flan-t5-large-grammar-synthesis\", export=True)\n",
    "\n",
    "# Function to correct grammar\n",
    "def correct_grammar(text):\n",
    "    input_ids = tokenizer(f\"grammar: {text}\", return_tensors=\"pt\").input_ids\n",
    "    outputs = model.generate(input_ids, max_new_tokens=100)\n",
    "    return tokenizer.decode(outputs[0], skip_special_tokens=True)\n",
    "\n",
    "# Example usage\n",
    "text = \"This sentences have bad grammer.\"\n",
    "corrected_text = correct_grammar(text)\n",
    "print(f\"Original: {text}\")\n",
    "print(f\"Corrected: {corrected_text}\")\n",
    "\n",
    "# Optionally, you can quantize the model for faster inference\n",
    "quantizer = OVQuantizer.from_pretrained(model)\n",
    "quantized_model = quantizer.quantize(save_directory=\"quantized_model\")\n",
    "\n",
    "# Use the quantized model\n",
    "quantized_model = OVModelForSeq2SeqLM.from_pretrained(\"quantized_model\")\n",
    "outputs = quantized_model.generate(input_ids, max_new_tokens=100)\n",
    "quantized_corrected_text = tokenizer.decode(outputs[0], skip_special_tokens=True)\n",
    "print(f\"Quantized Corrected: {quantized_corrected_text}\")"
   ]
  },
  {
   "cell_type": "code",
   "execution_count": 14,
   "metadata": {},
   "outputs": [
    {
     "ename": "ImportError",
     "evalue": "DLL load failed while importing onnx_cpp2py_export: A dynamic link library (DLL) initialization routine failed.",
     "output_type": "error",
     "traceback": [
      "\u001b[1;31m---------------------------------------------------------------------------\u001b[0m",
      "\u001b[1;31mImportError\u001b[0m                               Traceback (most recent call last)",
      "Cell \u001b[1;32mIn[14], line 1\u001b[0m\n\u001b[1;32m----> 1\u001b[0m \u001b[38;5;28;01mfrom\u001b[39;00m \u001b[38;5;21;01moptimum\u001b[39;00m\u001b[38;5;21;01m.\u001b[39;00m\u001b[38;5;21;01mintel\u001b[39;00m\u001b[38;5;21;01m.\u001b[39;00m\u001b[38;5;21;01mopenvino\u001b[39;00m \u001b[38;5;28;01mimport\u001b[39;00m OVQuantizer\n\u001b[0;32m      2\u001b[0m \u001b[38;5;66;03m# Optionally, you can quantize the model for faster inference\u001b[39;00m\n\u001b[0;32m      3\u001b[0m quantizer \u001b[38;5;241m=\u001b[39m OVQuantizer\u001b[38;5;241m.\u001b[39mfrom_pretrained(model)\n",
      "File \u001b[1;32mc:\\Program Files\\Python311\\Lib\\site-packages\\optimum\\intel\\openvino\\__init__.py:46\u001b[0m\n\u001b[0;32m     42\u001b[0m nncf\u001b[38;5;241m.\u001b[39mset_log_level(logging\u001b[38;5;241m.\u001b[39mINFO)\n\u001b[0;32m     44\u001b[0m patch_torch_operators()\n\u001b[1;32m---> 46\u001b[0m \u001b[38;5;28;01mfrom\u001b[39;00m \u001b[38;5;21;01m.\u001b[39;00m\u001b[38;5;21;01mquantization\u001b[39;00m \u001b[38;5;28;01mimport\u001b[39;00m OVQuantizer\n\u001b[0;32m     47\u001b[0m \u001b[38;5;28;01mfrom\u001b[39;00m \u001b[38;5;21;01m.\u001b[39;00m\u001b[38;5;21;01mtraining_args\u001b[39;00m \u001b[38;5;28;01mimport\u001b[39;00m OVTrainingArguments\n\u001b[0;32m     49\u001b[0m \u001b[38;5;28;01mif\u001b[39;00m is_accelerate_available():\n",
      "File \u001b[1;32mc:\\Program Files\\Python311\\Lib\\site-packages\\optimum\\intel\\openvino\\quantization.py:42\u001b[0m\n\u001b[0;32m     39\u001b[0m \u001b[38;5;28;01mfrom\u001b[39;00m \u001b[38;5;21;01mtransformers\u001b[39;00m\u001b[38;5;21;01m.\u001b[39;00m\u001b[38;5;21;01mpytorch_utils\u001b[39;00m \u001b[38;5;28;01mimport\u001b[39;00m Conv1D\n\u001b[0;32m     40\u001b[0m \u001b[38;5;28;01mfrom\u001b[39;00m \u001b[38;5;21;01mtransformers\u001b[39;00m\u001b[38;5;21;01m.\u001b[39;00m\u001b[38;5;21;01mutils\u001b[39;00m \u001b[38;5;28;01mimport\u001b[39;00m is_accelerate_available\n\u001b[1;32m---> 42\u001b[0m \u001b[38;5;28;01mfrom\u001b[39;00m \u001b[38;5;21;01moptimum\u001b[39;00m\u001b[38;5;21;01m.\u001b[39;00m\u001b[38;5;21;01mexporters\u001b[39;00m\u001b[38;5;21;01m.\u001b[39;00m\u001b[38;5;21;01monnx\u001b[39;00m\u001b[38;5;21;01m.\u001b[39;00m\u001b[38;5;21;01mconvert\u001b[39;00m \u001b[38;5;28;01mimport\u001b[39;00m check_dummy_inputs_are_allowed\n\u001b[0;32m     43\u001b[0m \u001b[38;5;28;01mfrom\u001b[39;00m \u001b[38;5;21;01moptimum\u001b[39;00m\u001b[38;5;21;01m.\u001b[39;00m\u001b[38;5;21;01mexporters\u001b[39;00m\u001b[38;5;21;01m.\u001b[39;00m\u001b[38;5;21;01mtasks\u001b[39;00m \u001b[38;5;28;01mimport\u001b[39;00m TasksManager\n\u001b[0;32m     44\u001b[0m \u001b[38;5;28;01mfrom\u001b[39;00m \u001b[38;5;21;01moptimum\u001b[39;00m\u001b[38;5;21;01m.\u001b[39;00m\u001b[38;5;21;01mquantization_base\u001b[39;00m \u001b[38;5;28;01mimport\u001b[39;00m OptimumQuantizer\n",
      "File \u001b[1;32mc:\\Program Files\\Python311\\Lib\\site-packages\\optimum\\exporters\\onnx\\convert.py:28\u001b[0m\n\u001b[0;32m     25\u001b[0m \u001b[38;5;28;01mfrom\u001b[39;00m \u001b[38;5;21;01mtyping\u001b[39;00m \u001b[38;5;28;01mimport\u001b[39;00m Any, Callable, Dict, Iterable, List, Optional, Tuple, Union\n\u001b[0;32m     27\u001b[0m \u001b[38;5;28;01mimport\u001b[39;00m \u001b[38;5;21;01mnumpy\u001b[39;00m \u001b[38;5;28;01mas\u001b[39;00m \u001b[38;5;21;01mnp\u001b[39;00m\n\u001b[1;32m---> 28\u001b[0m \u001b[38;5;28;01mimport\u001b[39;00m \u001b[38;5;21;01monnx\u001b[39;00m\n\u001b[0;32m     29\u001b[0m \u001b[38;5;28;01mfrom\u001b[39;00m \u001b[38;5;21;01mtransformers\u001b[39;00m\u001b[38;5;21;01m.\u001b[39;00m\u001b[38;5;21;01mmodeling_utils\u001b[39;00m \u001b[38;5;28;01mimport\u001b[39;00m get_parameter_dtype\n\u001b[0;32m     30\u001b[0m \u001b[38;5;28;01mfrom\u001b[39;00m \u001b[38;5;21;01mtransformers\u001b[39;00m\u001b[38;5;21;01m.\u001b[39;00m\u001b[38;5;21;01mutils\u001b[39;00m \u001b[38;5;28;01mimport\u001b[39;00m is_tf_available, is_torch_available\n",
      "File \u001b[1;32mc:\\Program Files\\Python311\\Lib\\site-packages\\onnx\\__init__.py:77\u001b[0m\n\u001b[0;32m     73\u001b[0m \u001b[38;5;28;01mfrom\u001b[39;00m \u001b[38;5;21;01mtyping\u001b[39;00m \u001b[38;5;28;01mimport\u001b[39;00m IO, Literal, Union\n\u001b[0;32m     76\u001b[0m \u001b[38;5;28;01mfrom\u001b[39;00m \u001b[38;5;21;01monnx\u001b[39;00m \u001b[38;5;28;01mimport\u001b[39;00m serialization\n\u001b[1;32m---> 77\u001b[0m \u001b[38;5;28;01mfrom\u001b[39;00m \u001b[38;5;21;01monnx\u001b[39;00m\u001b[38;5;21;01m.\u001b[39;00m\u001b[38;5;21;01monnx_cpp2py_export\u001b[39;00m \u001b[38;5;28;01mimport\u001b[39;00m ONNX_ML\n\u001b[0;32m     78\u001b[0m \u001b[38;5;28;01mfrom\u001b[39;00m \u001b[38;5;21;01monnx\u001b[39;00m\u001b[38;5;21;01m.\u001b[39;00m\u001b[38;5;21;01mexternal_data_helper\u001b[39;00m \u001b[38;5;28;01mimport\u001b[39;00m (\n\u001b[0;32m     79\u001b[0m     load_external_data_for_model,\n\u001b[0;32m     80\u001b[0m     write_external_data_tensors,\n\u001b[0;32m     81\u001b[0m     convert_model_to_external_data,\n\u001b[0;32m     82\u001b[0m )\n\u001b[0;32m     83\u001b[0m \u001b[38;5;28;01mfrom\u001b[39;00m \u001b[38;5;21;01monnx\u001b[39;00m\u001b[38;5;21;01m.\u001b[39;00m\u001b[38;5;21;01monnx_pb\u001b[39;00m \u001b[38;5;28;01mimport\u001b[39;00m (\n\u001b[0;32m     84\u001b[0m     AttributeProto,\n\u001b[0;32m     85\u001b[0m     EXPERIMENTAL,\n\u001b[1;32m   (...)\u001b[0m\n\u001b[0;32m    111\u001b[0m     Version,\n\u001b[0;32m    112\u001b[0m )\n",
      "\u001b[1;31mImportError\u001b[0m: DLL load failed while importing onnx_cpp2py_export: A dynamic link library (DLL) initialization routine failed."
     ]
    }
   ],
   "source": [
    "from optimum.intel.openvino import OVQuantizer\n",
    "# Optionally, you can quantize the model for faster inference\n",
    "quantizer = OVQuantizer.from_pretrained(model)\n",
    "\n",
    "quantized_model = quantizer.quantize_dynamic(\n",
    "    save_dir=\"quantized_model_directory\",\n",
    "    # dataset=\"your_dataset_name\",   # Optional: dataset for calibration if required\n",
    "    # dataset_split=\"train\",         # Optional: specify dataset split if needed\n",
    ")\n",
    "\n",
    "# quantized_model = quantizer.quantize(save_directory=\"quantized_model\")\n",
    "\n",
    "# # Use the quantized model\n",
    "# quantized_model = OVModelForSeq2SeqLM.from_pretrained(\"quantized_model\")\n",
    "# outputs = quantized_model.generate(input_ids, max_new_tokens=100)\n",
    "# quantized_corrected_text = tokenizer.decode(outputs[0], skip_special_tokens=True)\n",
    "# print(f\"Quantized Corrected: {quantized_corrected_text}\")"
   ]
  }
 ],
 "metadata": {
  "kernelspec": {
   "display_name": "Python 3",
   "language": "python",
   "name": "python3"
  },
  "language_info": {
   "codemirror_mode": {
    "name": "ipython",
    "version": 3
   },
   "file_extension": ".py",
   "mimetype": "text/x-python",
   "name": "python",
   "nbconvert_exporter": "python",
   "pygments_lexer": "ipython3",
   "version": "3.11.2"
  }
 },
 "nbformat": 4,
 "nbformat_minor": 2
}
